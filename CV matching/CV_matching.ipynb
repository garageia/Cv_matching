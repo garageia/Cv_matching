{
 "cells": [
  {
   "cell_type": "code",
   "execution_count": 149,
   "id": "004bad73",
   "metadata": {},
   "outputs": [],
   "source": [
    "import numpy as np # linear algebra\n",
    "import pandas as pd # data processing, CSV file I/O (e.g. pd.read_csv)\n",
    "import nltk\n",
    "\n",
    "import os"
   ]
  },
  {
   "cell_type": "code",
   "execution_count": 151,
   "id": "34099963",
   "metadata": {},
   "outputs": [
    {
     "name": "stderr",
     "output_type": "stream",
     "text": [
      "[nltk_data] Downloading package punkt to C:\\Users\\BERTRAND\n",
      "[nltk_data]     SILUE\\AppData\\Roaming\\nltk_data...\n",
      "[nltk_data]   Unzipping tokenizers\\punkt.zip.\n"
     ]
    },
    {
     "data": {
      "text/plain": [
       "True"
      ]
     },
     "execution_count": 151,
     "metadata": {},
     "output_type": "execute_result"
    }
   ],
   "source": [
    "nltk.download('punkt')"
   ]
  },
  {
   "cell_type": "code",
   "execution_count": 4,
   "id": "df2ed38c",
   "metadata": {},
   "outputs": [
    {
     "name": "stdout",
     "output_type": "stream",
     "text": [
      "Requirement already satisfied: pyPDF2 in c:\\users\\bertrand silue\\anaconda3\\envs\\tensorflow\\lib\\site-packages (3.0.1)\n",
      "Requirement already satisfied: typing_extensions>=3.10.0.0 in c:\\users\\bertrand silue\\anaconda3\\envs\\tensorflow\\lib\\site-packages (from pyPDF2) (4.4.0)\n"
     ]
    }
   ],
   "source": [
    "!pip install pyPDF2"
   ]
  },
  {
   "cell_type": "code",
   "execution_count": 3,
   "id": "f651eb05",
   "metadata": {},
   "outputs": [
    {
     "name": "stdout",
     "output_type": "stream",
     "text": [
      "Requirement already satisfied: pdfplumber in c:\\users\\bertrand silue\\anaconda3\\envs\\tensorflow\\lib\\site-packages (0.8.0)\n",
      "Requirement already satisfied: pdfminer.six==20221105 in c:\\users\\bertrand silue\\anaconda3\\envs\\tensorflow\\lib\\site-packages (from pdfplumber) (20221105)\n",
      "Requirement already satisfied: Wand>=0.6.10 in c:\\users\\bertrand silue\\anaconda3\\envs\\tensorflow\\lib\\site-packages (from pdfplumber) (0.6.11)\n",
      "Requirement already satisfied: Pillow>=9.1 in c:\\users\\bertrand silue\\anaconda3\\envs\\tensorflow\\lib\\site-packages (from pdfplumber) (9.4.0)\n",
      "Requirement already satisfied: charset-normalizer>=2.0.0 in c:\\users\\bertrand silue\\anaconda3\\envs\\tensorflow\\lib\\site-packages (from pdfminer.six==20221105->pdfplumber) (2.0.4)\n",
      "Requirement already satisfied: cryptography>=36.0.0 in c:\\users\\bertrand silue\\anaconda3\\envs\\tensorflow\\lib\\site-packages (from pdfminer.six==20221105->pdfplumber) (39.0.1)\n",
      "Requirement already satisfied: cffi>=1.12 in c:\\users\\bertrand silue\\anaconda3\\envs\\tensorflow\\lib\\site-packages (from cryptography>=36.0.0->pdfminer.six==20221105->pdfplumber) (1.15.1)\n",
      "Requirement already satisfied: pycparser in c:\\users\\bertrand silue\\anaconda3\\envs\\tensorflow\\lib\\site-packages (from cffi>=1.12->cryptography>=36.0.0->pdfminer.six==20221105->pdfplumber) (2.21)\n",
      "Note: you may need to restart the kernel to use updated packages.\n"
     ]
    }
   ],
   "source": [
    "!pip install pdfplumber"
   ]
  },
  {
   "cell_type": "code",
   "execution_count": 133,
   "id": "e7ab5930",
   "metadata": {
    "scrolled": false
   },
   "outputs": [],
   "source": [
    "import PyPDF2, pdfplumber"
   ]
  },
  {
   "cell_type": "code",
   "execution_count": 182,
   "id": "fe41366c",
   "metadata": {},
   "outputs": [],
   "source": [
    "#Target File\n",
    "CV=r\"C:\\Users\\BERTRAND SILUE\\Desktop\\Garage\\CV matching\\data\\cv.pdf\"\n",
    "Req=r\"C:\\Users\\BERTRAND SILUE\\Desktop\\Garage\\CV matching\\data\\poste.pdf\""
   ]
  },
  {
   "cell_type": "code",
   "execution_count": 183,
   "id": "7a334b41",
   "metadata": {},
   "outputs": [],
   "source": [
    "CV_File=open(CV,'rb')\n",
    "Script=PyPDF2.PdfReader(CV_File)\n",
    "pages = len(Script.pages)"
   ]
  },
  {
   "cell_type": "code",
   "execution_count": 184,
   "id": "f43f6f8c",
   "metadata": {},
   "outputs": [
    {
     "name": "stdout",
     "output_type": "stream",
     "text": [
      "www.ITjobs.ca\n",
      "Modèle de CV Développeur PHP\n",
      "Paul Bertrand\n",
      "4568, boulevard des Lilas\n",
      "Tél. : 514 000 0000\n",
      "Courriel : paulbertrand@webmail.ca\n",
      "Paul Bertrand\n",
      "Développeur PHP\n",
      "OBJECTIF\n",
      "Concevoir et développer des applications Internet, intranet, gérer les besoins réseaux et\n",
      "administrer des serveurs Linux.\n",
      "COMPÉTENCES\n",
      "Plus de trois ans d’expérience en analyse, conception et réalisation d’applications on-line, ainsi\n",
      "qu’en gestion réseaux et serveurs. Je maîtrise les outils de développement, de design et la\n",
      "maintenance de serveurs Linux Debian.\n",
      "EXPERIENCES PROFESSIONNELLES\n",
      " 2015 – à date : XXXXXXXXXXX\n",
      "Poste : Développeur PHP, MySQL, RealBasic, Flash\n",
      "Développement d'applications PHP, MySQL en ligne d'e-detailing, e-learning, webinar,\n",
      "web séminaire\n",
      "Administration et maintenance des serveurs Linux Debian\n",
      " 2015 – à date : XXXXXXXXXXX\n",
      "Création du magazine XXXXXXX\n",
      "Administration et maintenance des serveurs Linux Debian. Développements en PHP,\n",
      "MySQL, Flash de solutions vidéo et audio\n",
      "Développement en PHP, MySQL du site Internet (basé sur mambo)\n",
      "Création du magazine\n",
      "Copyright© 2017 les Carrières jobWings Tous droits réservés Encore plus de modèles sur www.CV.ca\n",
      "www.ITjobs.ca\n",
      " 2013 – à date : XXXXXXXXXXX\n",
      "Poste : Chef de projet / Développeur PHP MySQL / Administrateur réseau.\n",
      "Développements en PHP, MySQL de projet clients\n",
      "Administration parc informatique et serveurs d'hébergement sous Linux Debian\n",
      "Développement en PHP, MySQL du site Internet XXXXXXX\n",
      " 2011 - 2016 : XXXXXXXXXXX\n",
      "Poste : Chef de projet / Développeur / Administrateur\n",
      "Mise en place des différentes solutions techniques\n",
      "Administration du parc serveurs sous Linux Debian\n",
      "Développements en PHP, MySQL des frontends\n",
      "Création du service d'hébergement gratuit edeign.com\n",
      " 2010 - 2014 : XXXXXXXXXXX\n",
      "Poste : Webmaster développeur PHP/MySQL - graphiste / Opérateur serveur\n",
      "Création, mise en place, et gestion du pôle Web\n",
      "Réalisation de sites Internet en PHP, MySQL\n",
      "Migration des serveurs Web de WinNT4/Win2000 (IIS) vers Linux/GNU (LAMP)\n",
      "Administration et maintenance des serveurs Linux Debian\n",
      "Réalisation de l’intranet de la société en PHP, MySQL\n",
      "Réalisation du portail du provider sosconnexion.com (PHP, MySQL)\n",
      "Référencement Internet\n",
      " 2008 - 2009 : XXXXXXXXXXX\n",
      "Poste : Développeur multimédia on line/off line\n",
      "Développement de sites Internet en PHP, MySQL, Flash et de cd-rom (Lingo)\n",
      " 2007 – 2008 : XXXXXXXXXXX\n",
      "Poste : Développeur multimédia off line\n",
      "Développement de cd-rom pour la communication interne de l'entreprise\n",
      " 2006 : Stage de 6 mois à XXXXXXXXXXX\n",
      "Poste : Maintenance réseaux et parc informatique\n",
      "Copyright© 2017 les Carrières jobWings Tous droits réservés Encore plus de modèles sur www.CV.ca\n",
      "www.ITjobs.ca\n",
      "FORMATIONS - ÉTUDES\n",
      " 1995 -1998 : Baccalauréat en informatique à l’UQÀM\n",
      "LANGUES\n",
      " Bilingue français anglais (oral et écrit)\n",
      "LANGAGES INFORMATIQUES\n",
      " Web : PHP, HTML, CSS, SPIP, Javascript, référencement\n",
      " Systèmes d'exploitation : Windows (9X, NT, Me, 2000, XP), Dos, Linux (Mandrake), Mac\n",
      "OS\n",
      " Réseaux : Architecture, protocoles, maintenance, technologies PKI\n",
      " Programmation : C, C++, Pascal, Visual Basic, Corba, Java, environnement Delphi,\n",
      "modélisation UML\n",
      " Bases de données : SQL (MySQL), Access\n",
      " Logiciels : Adobe Photoshop, Illustrator, Macromedia Dreamweaver, MS Project, Suite\n",
      "Office\n",
      "LOISIRS\n",
      " Vélo, graphisme (création de logos, et création de visuels pour T-shirts)\n",
      " Développement du projet XXXXXXXXX, un lecteur de news online avec archivage. Ce\n",
      "projet est en cours de développement\n",
      " Développement d'applications pour Mac OS X. (free/donationware)\n",
      "Copyright© 2017 les Carrières jobWings Tous droits réservés Encore plus de modèles sur www.CV.ca\n"
     ]
    }
   ],
   "source": [
    "Script = []\n",
    "with pdfplumber.open(CV_File) as pdf:\n",
    "    for i in range (0,pages):\n",
    "        page=pdf.pages[i]\n",
    "        text=page.extract_text()\n",
    "        print (text)\n",
    "        Script.append(text)"
   ]
  },
  {
   "cell_type": "code",
   "execution_count": 185,
   "id": "3624fd03",
   "metadata": {
    "scrolled": false
   },
   "outputs": [
    {
     "data": {
      "text/plain": [
       "\"www.itjobs.camodèle de cv développeur phppaul bertrand4568, boulevard des lilastél. : 514 000 0000courriel : paulbertrand@webmail.capaul bertranddéveloppeur phpobjectifconcevoir et développer des applications internet, intranet, gérer les besoins réseaux etadministrer des serveurs linux.compétencesplus de trois ans d’expérience en analyse, conception et réalisation d’applications on-line, ainsiqu’en gestion réseaux et serveurs. je maîtrise les outils de développement, de design et lamaintenance de serveurs linux debian.experiences professionnelles\\uf0d8 2015 – à date : xxxxxxxxxxxposte : développeur php, mysql, realbasic, flashdéveloppement d'applications php, mysql en ligne d'e-detailing, e-learning, webinar,web séminaireadministration et maintenance des serveurs linux debian\\uf0d8 2015 – à date : xxxxxxxxxxxcréation du magazine xxxxxxxadministration et maintenance des serveurs linux debian. développements en php,mysql, flash de solutions vidéo et audiodéveloppement en php, mysql du site internet (basé sur mambo)création du magazinecopyright© 2017 les carrières jobwings tous droits réservés encore plus de modèles sur www.cv.cawww.itjobs.ca\\uf0d8 2013 – à date : xxxxxxxxxxxposte : chef de projet / développeur php mysql / administrateur réseau.développements en php, mysql de projet clientsadministration parc informatique et serveurs d'hébergement sous linux debiandéveloppement en php, mysql du site internet xxxxxxx\\uf0d8 2011 - 2016 : xxxxxxxxxxxposte : chef de projet / développeur / administrateurmise en place des différentes solutions techniquesadministration du parc serveurs sous linux debiandéveloppements en php, mysql des frontendscréation du service d'hébergement gratuit edeign.com\\uf0d8 2010 - 2014 : xxxxxxxxxxxposte : webmaster développeur php/mysql - graphiste / opérateur serveurcréation, mise en place, et gestion du pôle webréalisation de sites internet en php, mysqlmigration des serveurs web de winnt4/win2000 (iis) vers linux/gnu (lamp)administration et maintenance des serveurs linux debianréalisation de l’intranet de la société en php, mysqlréalisation du portail du provider sosconnexion.com (php, mysql)référencement internet\\uf0d8 2008 - 2009 : xxxxxxxxxxxposte : développeur multimédia on line/off linedéveloppement de sites internet en php, mysql, flash et de cd-rom (lingo)\\uf0d8 2007 – 2008 : xxxxxxxxxxxposte : développeur multimédia off linedéveloppement de cd-rom pour la communication interne de l'entreprise\\uf0d8 2006 : stage de 6 mois à xxxxxxxxxxxposte : maintenance réseaux et parc informatiquecopyright© 2017 les carrières jobwings tous droits réservés encore plus de modèles sur www.cv.cawww.itjobs.caformations - études\\uf0d8 1995 -1998 : baccalauréat en informatique à l’uqàmlangues\\uf0d8 bilingue français anglais (oral et écrit)langages informatiques\\uf0d8 web : php, html, css, spip, javascript, référencement\\uf0d8 systèmes d'exploitation : windows (9x, nt, me, 2000, xp), dos, linux (mandrake), macos\\uf0d8 réseaux : architecture, protocoles, maintenance, technologies pki\\uf0d8 programmation : c, c++, pascal, visual basic, corba, java, environnement delphi,modélisation uml\\uf0d8 bases de données : sql (mysql), access\\uf0d8 logiciels : adobe photoshop, illustrator, macromedia dreamweaver, ms project, suiteofficeloisirs\\uf0d8 vélo, graphisme (création de logos, et création de visuels pour t-shirts)\\uf0d8 développement du projet xxxxxxxxx, un lecteur de news online avec archivage. ceprojet est en cours de développement\\uf0d8 développement d'applications pour mac os x. (free/donationware)copyright© 2017 les carrières jobwings tous droits réservés encore plus de modèles sur www.cv.ca\""
      ]
     },
     "execution_count": 185,
     "metadata": {},
     "output_type": "execute_result"
    }
   ],
   "source": [
    "Script=''.join(Script)\n",
    "Script=Script.lower()\n",
    "CV_Clear=Script.replace(\"\\n\",\"\")\n",
    "CV_Clear"
   ]
  },
  {
   "cell_type": "code",
   "execution_count": 186,
   "id": "718118e8",
   "metadata": {},
   "outputs": [],
   "source": [
    "Req_File=open(Req,'rb')\n",
    "Script_Req=PyPDF2.PdfReader(Req_File)\n",
    "pages=len(Script_Req.pages)"
   ]
  },
  {
   "cell_type": "code",
   "execution_count": 187,
   "id": "190820d2",
   "metadata": {
    "scrolled": true
   },
   "outputs": [
    {
     "name": "stdout",
     "output_type": "stream",
     "text": [
      "OFFRE D’EMPLOI : DÉVELOPPEUR(EUSE)\n",
      "WEB\n",
      "TÂCHES ET RESPONSABILITÉS PRINCIPALES\n",
      "• Développer le site Web ainsi que des services Web\n",
      "L’Observatoire global du\n",
      "permettant l’affichage optimal et convivial des\n",
      "Saint-Laurent (OGSL) est une\n",
      "applications Web pour la diffusion de données\n",
      "organisation visant à offrir un\n",
      "scientifiques ;\n",
      "accès intégré aux données et aux\n",
      "• Assurer la documentation et le développement des\n",
      "informations issues d’un réseau\n",
      "tests ;\n",
      "d’organismes partenaires en\n",
      "soutien à la gestion durable de • Participer aux tâches relatives au support technique ;\n",
      "l’écosystème du Saint-Laurent.\n",
      "• Assurer une veille technologique continue.\n",
      "L’OGSL est chef de file en gestion\n",
      "QUALIFICATIONS ESSENTIELLES\n",
      "et diffusion de données ouvertes et\n",
      "bénéficie d’un positionnement ÉTUDES ET EXPÉRIENCE\n",
      "unique dans le domaine maritime\n",
      "• Technique et/ou baccalauréat en informatique ou\n",
      "du Québec et au Canada, avec des\n",
      "combinaison acceptable d’études, de formations et/ou\n",
      "opportunités importantes de\n",
      "d’expériences pertinentes.\n",
      "croissance, de développement et\n",
      "• Deux ans d’expérience en développement et\n",
      "d’innovation.\n",
      "intégration Web (comprenant programmation et\n",
      "maintenance).\n",
      "COMPÉTENCES TECHNIQUES\n",
      "• Connaissance des langages Web suivants :\n",
      "Javascript, Typescript, HTML5 et CSS ;\n",
      "LIEU DE TRAVAIL • Connaissance de l’architecture MVC ;\n",
      "310 allée des Ursulines, Rimouski • Connaissance d’un langage de programmation\n",
      "(Québec), G5L 3A1 orientée objet (ex. JAVA). Le candidat doit maîtriser\n",
      "les concepts et principes principaux ;\n",
      "• Connaissance d’un logiciel de gestion de versions\n",
      "(Git) ;\n",
      "• Connaissance des techniques de modélisation de\n",
      "données et des systèmes de gestion de bases de\n",
      "DATE LIMITE POUR données relationnelles (SGBDR).\n",
      "POSTULER\n",
      "8 mars 2019 COMPÉTENCES PERSONNELLES\n",
      "• Bonnes communications écrite et verbale en français\n",
      "et en anglais ;\n",
      "• Doit être à l'aise à travailler dans un environnement\n",
      "très dynamique ;\n",
      "• Excellente compétence en résolution de problèmes ;\n",
      "• Enthousiasme et capacité d'apprentissage rapide ;\n",
      "• Souci du détail ;\n",
      "• Initiative et autonomie ;\n",
      "CONDITIONS DE TRAVAIL\n",
      "• Excellent esprit d’équipe ;\n",
      "Salaire à partir de 47 000$ • Respect et bonnes relations interpersonnelles.\n",
      "Régime volontaire d’épargne-\n",
      "retraite\n",
      "CONNAISSANCES CONSTITUANT UN ATOUT\n",
      "Flexibilité d’horaire\n",
      "• Connaissance d’Angular ;\n",
      "Déplacements occasionnels • Techniques de développement AGILE ;\n",
      "possibles (au Québec, au Canada • Administration de serveurs PostgreSQL ;\n",
      "et à l’international)\n",
      "• CMS tel Joomla, Drupal ou Wordpress ;\n",
      "• Application IntelliJ IDE ;\n",
      "• Administration de serveurs Linux ;\n",
      "• Langage de programmation Python ;\n",
      "• Géomatique.\n",
      "DURÉE D’EMBAUCHE\n",
      "Un an, avec possibilité de\n",
      "prolongation AVANTAGES DE TRAVAILLER À L’OGSL\n",
      "• Bon esprit de cohésion au sein d’une équipe dynamique ;\n",
      "• Environnement de travail stimulant ;\n",
      "• Horaire flexible et conciliation travail-vie personnelle ;\n",
      "• Secteur innovant ;\n",
      "NOMBRE D’HEURES PAR\n",
      "• Partenariats avec un réseau élargi d’acteurs au Canada\n",
      "SEMAINE\n",
      "et à l’international (différents paliers de gouvernements,\n",
      "35 heures organismes à but non lucratifs, réseaux universitaires,\n",
      "centres d’excellence, organisations autochtones, etc.) ;\n",
      "• Activités de perfectionnement et de formation ;\n",
      "• Situé sur le campus de l’UQAR :\n",
      "Service des activités physiques et sportives\n",
      "o\n",
      "(SAPS) ;\n",
      "DATE DE DÉBUT ENVISAGÉE\n",
      "Centre de la petite enfance (garderie) ;\n",
      "o\n",
      "Le plus tôt possible\n",
      "Plusieurs espaces verts ;\n",
      "o\n",
      "Terminus du transport en commun ;\n",
      "o\n",
      "SVP nous faire parvenir votre Cafétéria ;\n",
      "o\n",
      "candidature incluant votre C.V. • Capitale de la région du Bas-Saint-Laurent, Rimouski est\n",
      "ainsi qu’une lettre de motivation une ville reconnue pour sa qualité de vie exceptionnelle,\n",
      "adressée à Madame Andréane ainsi que pour la présence d’une communauté\n",
      "Bastien à : dynamique.\n",
      "emplois@ogsl.ca\n"
     ]
    }
   ],
   "source": [
    "Script_Req = []\n",
    "with pdfplumber.open(Req_File) as pdf:\n",
    "    for i in range (0,pages):\n",
    "        page=pdf.pages[i]\n",
    "        text=page.extract_text()\n",
    "        print (text)\n",
    "        Script_Req.append(text)"
   ]
  },
  {
   "cell_type": "code",
   "execution_count": 188,
   "id": "d140ec57",
   "metadata": {
    "scrolled": true
   },
   "outputs": [
    {
     "data": {
      "text/plain": [
       "\"offre d’emploi : développeur(euse)webtâches et responsabilités principales• développer le site web ainsi que des services webl’observatoire global dupermettant l’affichage optimal et convivial dessaint-laurent (ogsl) est uneapplications web pour la diffusion de donnéesorganisation visant à offrir unscientifiques ;accès intégré aux données et aux• assurer la documentation et le développement desinformations issues d’un réseautests ;d’organismes partenaires ensoutien à la gestion durable de • participer aux tâches relatives au support technique ;l’écosystème du saint-laurent.• assurer une veille technologique continue.l’ogsl est chef de file en gestionqualifications essentielleset diffusion de données ouvertes etbénéficie d’un positionnement études et expérienceunique dans le domaine maritime• technique et/ou baccalauréat en informatique oudu québec et au canada, avec descombinaison acceptable d’études, de formations et/ouopportunités importantes ded’expériences pertinentes.croissance, de développement et• deux ans d’expérience en développement etd’innovation.intégration web (comprenant programmation etmaintenance).compétences techniques• connaissance des langages web suivants :javascript, typescript, html5 et css ;lieu de travail • connaissance de l’architecture mvc ;310 allée des ursulines, rimouski • connaissance d’un langage de programmation(québec), g5l 3a1 orientée objet (ex. java). le candidat doit maîtriserles concepts et principes principaux ;• connaissance d’un logiciel de gestion de versions(git) ;• connaissance des techniques de modélisation dedonnées et des systèmes de gestion de bases dedate limite pour données relationnelles (sgbdr).postuler8 mars 2019 compétences personnelles• bonnes communications écrite et verbale en françaiset en anglais ;• doit être à l'aise à travailler dans un environnementtrès dynamique ;• excellente compétence en résolution de problèmes ;• enthousiasme et capacité d'apprentissage rapide ;• souci du détail ;• initiative et autonomie ;conditions de travail• excellent esprit d’équipe ;salaire à partir de 47 000$ • respect et bonnes relations interpersonnelles.régime volontaire d’épargne-retraiteconnaissances constituant un atoutflexibilité d’horaire• connaissance d’angular ;déplacements occasionnels • techniques de développement agile ;possibles (au québec, au canada • administration de serveurs postgresql ;et à l’international)• cms tel joomla, drupal ou wordpress ;• application intellij ide ;• administration de serveurs linux ;• langage de programmation python ;• géomatique.durée d’embaucheun an, avec possibilité deprolongation avantages de travailler à l’ogsl• bon esprit de cohésion au sein d’une équipe dynamique ;• environnement de travail stimulant ;• horaire flexible et conciliation travail-vie personnelle ;• secteur innovant ;nombre d’heures par• partenariats avec un réseau élargi d’acteurs au canadasemaineet à l’international (différents paliers de gouvernements,35 heures organismes à but non lucratifs, réseaux universitaires,centres d’excellence, organisations autochtones, etc.) ;• activités de perfectionnement et de formation ;• situé sur le campus de l’uqar :service des activités physiques et sportiveso(saps) ;date de début envisagéecentre de la petite enfance (garderie) ;ole plus tôt possibleplusieurs espaces verts ;oterminus du transport en commun ;osvp nous faire parvenir votre cafétéria ;ocandidature incluant votre c.v. • capitale de la région du bas-saint-laurent, rimouski estainsi qu’une lettre de motivation une ville reconnue pour sa qualité de vie exceptionnelle,adressée à madame andréane ainsi que pour la présence d’une communautébastien à : dynamique.emplois@ogsl.ca\""
      ]
     },
     "execution_count": 188,
     "metadata": {},
     "output_type": "execute_result"
    }
   ],
   "source": [
    "Script_Req=''.join(Script_Req)\n",
    "Script_Req=Script_Req.lower()\n",
    "Req_Clear=Script_Req.replace(\"\\n\",\"\")\n",
    "Req_Clear"
   ]
  },
  {
   "cell_type": "code",
   "execution_count": 189,
   "id": "49f3d076",
   "metadata": {
    "scrolled": true
   },
   "outputs": [],
   "source": [
    "mots_post = Req_Clear.split()\n",
    "mots_cv = CV_Clear.split()"
   ]
  },
  {
   "cell_type": "code",
   "execution_count": 190,
   "id": "ba060a16",
   "metadata": {},
   "outputs": [],
   "source": [
    "skills_def = pd.read_csv('competences.csv',header=0)"
   ]
  },
  {
   "cell_type": "code",
   "execution_count": 191,
   "id": "35519bd8",
   "metadata": {},
   "outputs": [
    {
     "data": {
      "text/html": [
       "<div>\n",
       "<style scoped>\n",
       "    .dataframe tbody tr th:only-of-type {\n",
       "        vertical-align: middle;\n",
       "    }\n",
       "\n",
       "    .dataframe tbody tr th {\n",
       "        vertical-align: top;\n",
       "    }\n",
       "\n",
       "    .dataframe thead th {\n",
       "        text-align: right;\n",
       "    }\n",
       "</style>\n",
       "<table border=\"1\" class=\"dataframe\">\n",
       "  <thead>\n",
       "    <tr style=\"text-align: right;\">\n",
       "      <th></th>\n",
       "      <th>etiquettes</th>\n",
       "    </tr>\n",
       "  </thead>\n",
       "  <tbody>\n",
       "    <tr>\n",
       "      <th>0</th>\n",
       "      <td>3d</td>\n",
       "    </tr>\n",
       "    <tr>\n",
       "      <th>1</th>\n",
       "      <td>3d</td>\n",
       "    </tr>\n",
       "    <tr>\n",
       "      <th>2</th>\n",
       "      <td>3d-reconstruction</td>\n",
       "    </tr>\n",
       "    <tr>\n",
       "      <th>3</th>\n",
       "      <td>importance</td>\n",
       "    </tr>\n",
       "    <tr>\n",
       "      <th>4</th>\n",
       "      <td>type de données abstraites</td>\n",
       "    </tr>\n",
       "  </tbody>\n",
       "</table>\n",
       "</div>"
      ],
      "text/plain": [
       "                   etiquettes\n",
       "0                          3d\n",
       "1                          3d\n",
       "2           3d-reconstruction\n",
       "3                  importance\n",
       "4  type de données abstraites"
      ]
     },
     "execution_count": 191,
     "metadata": {},
     "output_type": "execute_result"
    }
   ],
   "source": [
    "skills_def.head()"
   ]
  },
  {
   "cell_type": "code",
   "execution_count": 192,
   "id": "ab0b0288",
   "metadata": {},
   "outputs": [],
   "source": [
    "skills_list = list(skills_def['etiquettes'])"
   ]
  },
  {
   "cell_type": "code",
   "execution_count": 193,
   "id": "3bef962a",
   "metadata": {},
   "outputs": [],
   "source": [
    "# Extraire les compétences présentes dans le cv\n",
    "present_skills = []\n",
    "for skill in skills_list:\n",
    "    if skill.lower() in mots_cv:\n",
    "        present_skills.append(skill)\n",
    "present_skills = list(set(present_skills))"
   ]
  },
  {
   "cell_type": "code",
   "execution_count": 194,
   "id": "5c00b8ff",
   "metadata": {},
   "outputs": [
    {
     "name": "stdout",
     "output_type": "stream",
     "text": [
      "['sql', 'linux', 'php', 'mysql', 'conception', 'chef', 'multimédia']\n"
     ]
    }
   ],
   "source": [
    "# Afficher les compétences présentes\n",
    "print(present_skills)"
   ]
  },
  {
   "cell_type": "code",
   "execution_count": 195,
   "id": "7b383b81",
   "metadata": {},
   "outputs": [],
   "source": [
    "#Extraire les compétences présentes dans la fiche de poste\n",
    "post_skills = []\n",
    "for skill in skills_list:\n",
    "    if skill.lower() in mots_post:\n",
    "        post_skills.append(skill)\n",
    "post_skills = list(set(post_skills))"
   ]
  },
  {
   "cell_type": "code",
   "execution_count": 196,
   "id": "6f5427bf",
   "metadata": {},
   "outputs": [
    {
     "name": "stdout",
     "output_type": "stream",
     "text": [
      "['mvc', 'linux', 'diffusion', 'logiciel', 'modélisation', 'rapide', 'wordpress', 'python', 'communications', 'avantages', 'postgresql', 'css', 'drupal', 'chef']\n"
     ]
    }
   ],
   "source": [
    "print(post_skills)"
   ]
  },
  {
   "cell_type": "code",
   "execution_count": null,
   "id": "834b08e5",
   "metadata": {},
   "outputs": [],
   "source": []
  }
 ],
 "metadata": {
  "kernelspec": {
   "display_name": "Python 3 (ipykernel)",
   "language": "python",
   "name": "python3"
  },
  "language_info": {
   "codemirror_mode": {
    "name": "ipython",
    "version": 3
   },
   "file_extension": ".py",
   "mimetype": "text/x-python",
   "name": "python",
   "nbconvert_exporter": "python",
   "pygments_lexer": "ipython3",
   "version": "3.9.16"
  }
 },
 "nbformat": 4,
 "nbformat_minor": 5
}
