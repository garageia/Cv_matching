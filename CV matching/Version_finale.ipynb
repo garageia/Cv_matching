{
  "nbformat": 4,
  "nbformat_minor": 0,
  "metadata": {
    "colab": {
      "provenance": []
    },
    "kernelspec": {
      "name": "python3",
      "display_name": "Python 3"
    },
    "language_info": {
      "name": "python"
    }
  },
  "cells": [
    {
      "cell_type": "code",
      "execution_count": null,
      "metadata": {
        "colab": {
          "base_uri": "https://localhost:8080/"
        },
        "id": "Xq-2CsMVzwA6",
        "outputId": "bb9b29a5-88d9-4184-b3ed-7c021f80f5c3"
      },
      "outputs": [
        {
          "output_type": "stream",
          "name": "stdout",
          "text": [
            "Looking in indexes: https://pypi.org/simple, https://us-python.pkg.dev/colab-wheels/public/simple/\n",
            "Collecting fasttext\n",
            "  Downloading fasttext-0.9.2.tar.gz (68 kB)\n",
            "\u001b[2K     \u001b[90m━━━━━━━━━━━━━━━━━━━━━━━━━━━━━━━━━━━━━━━━\u001b[0m \u001b[32m68.8/68.8 kB\u001b[0m \u001b[31m2.6 MB/s\u001b[0m eta \u001b[36m0:00:00\u001b[0m\n",
            "\u001b[?25h  Preparing metadata (setup.py) ... \u001b[?25l\u001b[?25hdone\n",
            "Collecting pybind11>=2.2 (from fasttext)\n",
            "  Using cached pybind11-2.10.4-py3-none-any.whl (222 kB)\n",
            "Requirement already satisfied: setuptools>=0.7.0 in /usr/local/lib/python3.10/dist-packages (from fasttext) (67.7.2)\n",
            "Requirement already satisfied: numpy in /usr/local/lib/python3.10/dist-packages (from fasttext) (1.22.4)\n",
            "Building wheels for collected packages: fasttext\n",
            "  Building wheel for fasttext (setup.py) ... \u001b[?25l\u001b[?25hdone\n",
            "  Created wheel for fasttext: filename=fasttext-0.9.2-cp310-cp310-linux_x86_64.whl size=4393165 sha256=714da00ed55c47a9292467d808c3b141e750bcfb9b85f959f21d4acd955d1ac7\n",
            "  Stored in directory: /root/.cache/pip/wheels/a5/13/75/f811c84a8ab36eedbaef977a6a58a98990e8e0f1967f98f394\n",
            "Successfully built fasttext\n",
            "Installing collected packages: pybind11, fasttext\n",
            "Successfully installed fasttext-0.9.2 pybind11-2.10.4\n"
          ]
        }
      ],
      "source": [
        "!pip install fasttext"
      ]
    },
    {
      "cell_type": "code",
      "source": [
        "!pip install PyPDF2"
      ],
      "metadata": {
        "colab": {
          "base_uri": "https://localhost:8080/"
        },
        "id": "C_Oa-74A1xrh",
        "outputId": "fb35e852-4f5e-4f34-f2f9-1cfe05719b5b"
      },
      "execution_count": null,
      "outputs": [
        {
          "output_type": "stream",
          "name": "stdout",
          "text": [
            "Looking in indexes: https://pypi.org/simple, https://us-python.pkg.dev/colab-wheels/public/simple/\n",
            "Collecting PyPDF2\n",
            "  Downloading pypdf2-3.0.1-py3-none-any.whl (232 kB)\n",
            "\u001b[2K     \u001b[90m━━━━━━━━━━━━━━━━━━━━━━━━━━━━━━━━━━━━━━━\u001b[0m \u001b[32m232.6/232.6 kB\u001b[0m \u001b[31m6.8 MB/s\u001b[0m eta \u001b[36m0:00:00\u001b[0m\n",
            "\u001b[?25hInstalling collected packages: PyPDF2\n",
            "Successfully installed PyPDF2-3.0.1\n"
          ]
        }
      ]
    },
    {
      "cell_type": "code",
      "source": [
        "!pip install pdfplumber"
      ],
      "metadata": {
        "colab": {
          "base_uri": "https://localhost:8080/",
          "height": 524
        },
        "id": "YvduIqx717bd",
        "outputId": "598c806d-8093-4959-d301-d392f595d3c3"
      },
      "execution_count": null,
      "outputs": [
        {
          "output_type": "stream",
          "name": "stdout",
          "text": [
            "Looking in indexes: https://pypi.org/simple, https://us-python.pkg.dev/colab-wheels/public/simple/\n",
            "Collecting pdfplumber\n",
            "  Downloading pdfplumber-0.9.0-py3-none-any.whl (46 kB)\n",
            "\u001b[2K     \u001b[90m━━━━━━━━━━━━━━━━━━━━━━━━━━━━━━━━━━━━━━━━\u001b[0m \u001b[32m46.1/46.1 kB\u001b[0m \u001b[31m2.4 MB/s\u001b[0m eta \u001b[36m0:00:00\u001b[0m\n",
            "\u001b[?25hCollecting pdfminer.six==20221105 (from pdfplumber)\n",
            "  Downloading pdfminer.six-20221105-py3-none-any.whl (5.6 MB)\n",
            "\u001b[2K     \u001b[90m━━━━━━━━━━━━━━━━━━━━━━━━━━━━━━━━━━━━━━━━\u001b[0m \u001b[32m5.6/5.6 MB\u001b[0m \u001b[31m63.9 MB/s\u001b[0m eta \u001b[36m0:00:00\u001b[0m\n",
            "\u001b[?25hCollecting Pillow>=9.1 (from pdfplumber)\n",
            "  Downloading Pillow-9.5.0-cp310-cp310-manylinux_2_28_x86_64.whl (3.4 MB)\n",
            "\u001b[2K     \u001b[90m━━━━━━━━━━━━━━━━━━━━━━━━━━━━━━━━━━━━━━━━\u001b[0m \u001b[32m3.4/3.4 MB\u001b[0m \u001b[31m69.7 MB/s\u001b[0m eta \u001b[36m0:00:00\u001b[0m\n",
            "\u001b[?25hCollecting Wand>=0.6.10 (from pdfplumber)\n",
            "  Downloading Wand-0.6.11-py2.py3-none-any.whl (143 kB)\n",
            "\u001b[2K     \u001b[90m━━━━━━━━━━━━━━━━━━━━━━━━━━━━━━━━━━━━━━\u001b[0m \u001b[32m143.6/143.6 kB\u001b[0m \u001b[31m12.1 MB/s\u001b[0m eta \u001b[36m0:00:00\u001b[0m\n",
            "\u001b[?25hRequirement already satisfied: charset-normalizer>=2.0.0 in /usr/local/lib/python3.10/dist-packages (from pdfminer.six==20221105->pdfplumber) (2.0.12)\n",
            "Requirement already satisfied: cryptography>=36.0.0 in /usr/local/lib/python3.10/dist-packages (from pdfminer.six==20221105->pdfplumber) (40.0.2)\n",
            "Requirement already satisfied: cffi>=1.12 in /usr/local/lib/python3.10/dist-packages (from cryptography>=36.0.0->pdfminer.six==20221105->pdfplumber) (1.15.1)\n",
            "Requirement already satisfied: pycparser in /usr/local/lib/python3.10/dist-packages (from cffi>=1.12->cryptography>=36.0.0->pdfminer.six==20221105->pdfplumber) (2.21)\n",
            "Installing collected packages: Wand, Pillow, pdfminer.six, pdfplumber\n",
            "  Attempting uninstall: Pillow\n",
            "    Found existing installation: Pillow 8.4.0\n",
            "    Uninstalling Pillow-8.4.0:\n",
            "      Successfully uninstalled Pillow-8.4.0\n",
            "Successfully installed Pillow-9.5.0 Wand-0.6.11 pdfminer.six-20221105 pdfplumber-0.9.0\n"
          ]
        },
        {
          "output_type": "display_data",
          "data": {
            "application/vnd.colab-display-data+json": {
              "pip_warning": {
                "packages": [
                  "PIL"
                ]
              }
            }
          },
          "metadata": {}
        }
      ]
    },
    {
      "cell_type": "code",
      "source": [
        "import fasttext\n",
        "import PyPDF2, pdfplumber\n",
        "import fastai\n",
        "import nltk\n",
        "import numpy as np # linear algebra\n",
        "import pandas as pd # data processing, CSV file I/O (e.g. pd.read_csv)\n",
        "import os\n",
        "import csv\n",
        "from nltk.tokenize import word_tokenize\n",
        "from nltk.corpus import stopwords"
      ],
      "metadata": {
        "id": "dKBDCEg80Dro"
      },
      "execution_count": null,
      "outputs": []
    },
    {
      "cell_type": "code",
      "source": [
        "from google.colab import drive\n",
        "drive.mount('/content/drive')\n",
        "CV ='/content/drive/My Drive/Colab Notebooks/cc.fr.300.bin'"
      ],
      "metadata": {
        "id": "sRZ6aV5zr2VW",
        "colab": {
          "base_uri": "https://localhost:8080/"
        },
        "outputId": "3c43e881-b593-4c42-e4f8-0eee9629c057"
      },
      "execution_count": null,
      "outputs": [
        {
          "output_type": "stream",
          "name": "stdout",
          "text": [
            "Mounted at /content/drive\n"
          ]
        }
      ]
    },
    {
      "cell_type": "code",
      "source": [
        "ft_model = fasttext.load_model(CV)"
      ],
      "metadata": {
        "colab": {
          "base_uri": "https://localhost:8080/"
        },
        "id": "qmYiP-xu0VkS",
        "outputId": "1ab14302-a0c3-4229-bf81-072bd24b08a9"
      },
      "execution_count": null,
      "outputs": [
        {
          "output_type": "stream",
          "name": "stderr",
          "text": [
            "Warning : `load_model` does not return WordVectorModel or SupervisedModel any more, but a `FastText` object which is very similar.\n"
          ]
        }
      ]
    },
    {
      "cell_type": "code",
      "source": [
        "import os\n",
        "\n",
        "data_dir = '/content/drive/My Drive/Colab Notebooks/CV'\n",
        "\n",
        "# Vérifier si le dossier existe\n",
        "if os.path.exists(data_dir):\n",
        "    # Liste des fichiers et dossiers dans le répertoire\n",
        "    content = os.listdir(data_dir)\n",
        "    \n",
        "    # Afficher le contenu\n",
        "    for item in content:\n",
        "        print(item)\n",
        "else:\n",
        "    print(\"Le dossier spécifié n'existe pas.\")\n"
      ],
      "metadata": {
        "colab": {
          "base_uri": "https://localhost:8080/"
        },
        "id": "1HS45uoQocAl",
        "outputId": "3b69526b-4d39-4567-a40c-ae06f27018a1"
      },
      "execution_count": null,
      "outputs": [
        {
          "output_type": "stream",
          "name": "stdout",
          "text": [
            "cv_sam.pdf\n",
            "cv.pdf\n",
            "cv_aude.pdf\n"
          ]
        }
      ]
    },
    {
      "cell_type": "code",
      "source": [
        "def WordSimilarity(word1, word2): \n",
        "   embedding1 = ft_model.get_word_vector(word1)\n",
        "   embedding2 = ft_model.get_word_vector(word2)\n",
        "   # Compute the cosine similarity between the embeddings\n",
        "   similarity_score = np.dot(embedding1, embedding2) / (np.linalg.norm(embedding1) * np.linalg.norm(embedding2))\n",
        "  # print(f\"Similarity between {word1} and {word2}: {similarity_score:.2f}\")\n",
        "   return similarity_score "
      ],
      "metadata": {
        "id": "Mcnlmd650V5z"
      },
      "execution_count": null,
      "outputs": []
    },
    {
      "cell_type": "code",
      "source": [
        "def Similarity(present_skills, post_skills):\n",
        "    \n",
        "  n=0\n",
        "  \n",
        "  for x in present_skills:\n",
        "     List=[]\n",
        "     for y in post_skills:\n",
        "        b= WordSimilarity(x,y)\n",
        "        List.append(b)\n",
        "        a=max(List)\n",
        "     if   a>= 0.5:\n",
        "            n=n+1\n",
        "     elif a<0.5 and a>= 0.4:\n",
        "            n=n+0.5\n",
        "     else:\n",
        "            n=n+0\n",
        "  similarity= n*100/len(post_skills)\n",
        "  return similarity"
      ],
      "metadata": {
        "id": "bGCZDMPv0WMF"
      },
      "execution_count": null,
      "outputs": []
    },
    {
      "cell_type": "code",
      "source": [
        "CV=r\"/content/drive/My Drive/Colab Notebooks/CV/cv_sam.pdf\""
      ],
      "metadata": {
        "id": "lRErnulr0WVq"
      },
      "execution_count": null,
      "outputs": []
    },
    {
      "cell_type": "code",
      "source": [
        "CV_File=open(CV,'rb')\n",
        "Script=PyPDF2.PdfReader(CV_File)\n",
        "pages = len(Script.pages)"
      ],
      "metadata": {
        "id": "3ulWNQYUzFJA"
      },
      "execution_count": null,
      "outputs": []
    },
    {
      "cell_type": "code",
      "source": [
        "Script = []\n",
        "with pdfplumber.open(CV_File) as pdf:\n",
        "    for i in range (0,pages):\n",
        "        page=pdf.pages[i]\n",
        "        text=page.extract_text()\n",
        "        print (text)\n",
        "        Script.append(text)"
      ],
      "metadata": {
        "id": "HyGy1Izi0ldq",
        "colab": {
          "base_uri": "https://localhost:8080/"
        },
        "outputId": "e8249ea6-bd9e-49ee-a8e2-8aa7d2f38688"
      },
      "execution_count": null,
      "outputs": [
        {
          "output_type": "stream",
          "name": "stdout",
          "text": [
            "PROFIL\n",
            "YAO SAMUEL\n",
            "Étudiant en 3ème année de licence en\n",
            "Né le 02/04/2002 systèmes réseaux informatiques et\n",
            "télécommunications. Créatif, passionné d’\n",
            "intelligence artificielle et d’électronique, j'ai\n",
            "toujours eu le goût pour l'apprentissage .\n",
            "COORDONEES\n",
            "COORDONEES\n",
            "FORMATION\n",
            "01 40957145\n",
            "Treichville Avenue 21 Rue 15\n",
            " Depuis 2020\n",
            "Samuelyao107@gmail.com\n",
            "Licence en Systèmes Réseaux\n",
            "Informatiques et Télécommunications à\n",
            "ESATIC\n",
            "COMPETENCE\n",
            " 2021-2022\n",
            "S\n",
            "Certification Développement web\n",
            "PYTHON  2020-2021\n",
            "ANGLAIS\n",
            "Certifié ICDL (International Certification\n",
            "of Digital Literacy)\n",
            "Raspberry Pi\n",
            " 2019-2020\n",
            "Obtention du BAC C au Lycée Moderne\n",
            "de Soubré\n",
            "ARDPYUTINHOO N\n",
            "EXPERIENCE\n",
            "MACHINE LEARNING\n",
            " Réalisation d’une application\n",
            "ARDUINO utilisant la vision par ordinateur\n",
            "ANACONDA\n",
            "pour la réconnaissance de\n",
            "monuments ivoiriens\n",
            " Réalisation d’une application de\n",
            "parking intelligent utilisant la\n",
            "ANGLAIS\n",
            "ANALYSE DE DONNEES vision par ordinateur pour la\n",
            "réconnaissance des plaques\n",
            "d’immatriculation.\n",
            "\n"
          ]
        }
      ]
    },
    {
      "cell_type": "code",
      "source": [
        "Script= ' '.join(Script)# Transform string into list"
      ],
      "metadata": {
        "id": "nHAHgfbS0rEX"
      },
      "execution_count": null,
      "outputs": []
    },
    {
      "cell_type": "code",
      "source": [
        "nltk.download('punkt')"
      ],
      "metadata": {
        "id": "-q_az_Zj3SjI",
        "colab": {
          "base_uri": "https://localhost:8080/"
        },
        "outputId": "512ff9bf-69ba-4b70-c6b9-306908b7cedf"
      },
      "execution_count": null,
      "outputs": [
        {
          "output_type": "stream",
          "name": "stderr",
          "text": [
            "[nltk_data] Downloading package punkt to /root/nltk_data...\n",
            "[nltk_data]   Unzipping tokenizers/punkt.zip.\n"
          ]
        },
        {
          "output_type": "execute_result",
          "data": {
            "text/plain": [
              "True"
            ]
          },
          "metadata": {},
          "execution_count": 14
        }
      ]
    },
    {
      "cell_type": "code",
      "source": [
        "nltk.download('stopwords')\n",
        "\n",
        "\n",
        "text_tokens = word_tokenize(Script)\n",
        "\n",
        "tokens_without_sw = [word for word in text_tokens if not word in stopwords.words('french')]\n",
        "\n",
        "print(tokens_without_sw)\n",
        "Script = (\" \").join(tokens_without_sw)\n",
        "print(Script)"
      ],
      "metadata": {
        "id": "4vqhUU-Q0tTq",
        "colab": {
          "base_uri": "https://localhost:8080/"
        },
        "outputId": "81a0e8e8-91df-4fcf-fa6d-79e69c1cf63e"
      },
      "execution_count": null,
      "outputs": [
        {
          "output_type": "stream",
          "name": "stdout",
          "text": [
            "['PROFIL', 'YAO', 'SAMUEL', 'Étudiant', '3ème', 'année', 'licence', 'Né', '02/04/2002', 'systèmes', 'réseaux', 'informatiques', 'télécommunications', '.', 'Créatif', ',', 'passionné', '’', 'intelligence', 'artificielle', '’', 'électronique', ',', \"j'ai\", 'toujours', 'goût', \"l'apprentissage\", '.', 'COORDONEES', 'COORDONEES', 'FORMATION', '01', '40957145', 'Treichville', 'Avenue', '21', 'Rue', '15', '\\uf0b7', 'Depuis', '2020', 'Samuelyao107', '@', 'gmail.com', 'Licence', 'Systèmes', 'Réseaux', 'Informatiques', 'Télécommunications', 'ESATIC', 'COMPETENCE', '\\uf0b7', '2021-2022', 'S', 'Certification', 'Développement', 'web', 'PYTHON', '\\uf0b7', '2020-2021', 'ANGLAIS', 'Certifié', 'ICDL', '(', 'International', 'Certification', 'of', 'Digital', 'Literacy', ')', 'Raspberry', 'Pi', '\\uf0b7', '2019-2020', 'Obtention', 'BAC', 'C', 'Lycée', 'Moderne', 'Soubré', 'ARDPYUTINHOO', 'N', 'EXPERIENCE', 'MACHINE', 'LEARNING', '\\uf0b7', 'Réalisation', '’', 'application', 'ARDUINO', 'utilisant', 'vision', 'ordinateur', 'ANACONDA', 'réconnaissance', 'monuments', 'ivoiriens', '\\uf0b7', 'Réalisation', '’', 'application', 'parking', 'intelligent', 'utilisant', 'ANGLAIS', 'ANALYSE', 'DE', 'DONNEES', 'vision', 'ordinateur', 'réconnaissance', 'plaques', '’', 'immatriculation', '.']\n",
            "PROFIL YAO SAMUEL Étudiant 3ème année licence Né 02/04/2002 systèmes réseaux informatiques télécommunications . Créatif , passionné ’ intelligence artificielle ’ électronique , j'ai toujours goût l'apprentissage . COORDONEES COORDONEES FORMATION 01 40957145 Treichville Avenue 21 Rue 15  Depuis 2020 Samuelyao107 @ gmail.com Licence Systèmes Réseaux Informatiques Télécommunications ESATIC COMPETENCE  2021-2022 S Certification Développement web PYTHON  2020-2021 ANGLAIS Certifié ICDL ( International Certification of Digital Literacy ) Raspberry Pi  2019-2020 Obtention BAC C Lycée Moderne Soubré ARDPYUTINHOO N EXPERIENCE MACHINE LEARNING  Réalisation ’ application ARDUINO utilisant vision ordinateur ANACONDA réconnaissance monuments ivoiriens  Réalisation ’ application parking intelligent utilisant ANGLAIS ANALYSE DE DONNEES vision ordinateur réconnaissance plaques ’ immatriculation .\n"
          ]
        },
        {
          "output_type": "stream",
          "name": "stderr",
          "text": [
            "[nltk_data] Downloading package stopwords to /root/nltk_data...\n",
            "[nltk_data]   Unzipping corpora/stopwords.zip.\n"
          ]
        }
      ]
    },
    {
      "cell_type": "code",
      "source": [
        "Req=r\"/content/drive/My Drive/Colab Notebooks/OFFRE.pdf\""
      ],
      "metadata": {
        "id": "Vd_fTSkOK6qy"
      },
      "execution_count": null,
      "outputs": []
    },
    {
      "cell_type": "code",
      "source": [
        "Req_File=open(Req,'rb')\n",
        "Script_Req=PyPDF2.PdfReader(Req_File)\n",
        "pages=len(Script_Req.pages)"
      ],
      "metadata": {
        "id": "x_vGI0ra0li0"
      },
      "execution_count": null,
      "outputs": []
    },
    {
      "cell_type": "code",
      "source": [
        "Script_Req = []\n",
        "with pdfplumber.open(Req_File) as pdf:\n",
        "    for i in range (0,pages):\n",
        "        page=pdf.pages[i]\n",
        "        text=page.extract_text()\n",
        "        print (text)\n",
        "        Script_Req.append(text)"
      ],
      "metadata": {
        "id": "UJNpC6gH0zXy",
        "colab": {
          "base_uri": "https://localhost:8080/"
        },
        "outputId": "11cf9ced-8a50-41f7-e32a-b6c95149ee04"
      },
      "execution_count": null,
      "outputs": [
        {
          "output_type": "stream",
          "name": "stdout",
          "text": [
            "OFFRE D’EMPLOI : DÉVELOPPEUR(EUSE) WEB\n",
            "TÂCHES ET RESPONSABILITÉS PRINCIPALES\n",
            "• Développer le site Web ainsi que des services Web permettant l’affichage optimal et convivial des applications Web pour la diffusion\n",
            "de données scientifiques ;\n",
            "• Assurer la documentation et le développement des tests ;\n",
            "• Participer aux tâches relatives au support technique ;\n",
            "• Assurer une veille technologique continue.\n",
            "QUALIFICATIONS ESSENTIELLES\n",
            "ÉTUDES ET EXPÉRIENCE\n",
            "• Technique et/ou baccalauréat en informatique ou combinaison acceptable d’études, de formations et/ou d’expériences pertinentes.\n",
            "• Deux ans d’expérience en développement et intégration Web (comprenant programmation et maintenance).\n",
            "COMPÉTENCES TECHNIQUES\n",
            "• Connaissance des langages Web suivants : Javascript, Typescript, HTML5 et CSS ;\n",
            "• Connaissance de l’architecture MVC ;\n",
            "• Connaissance d’un langage de programmation orientée objet (ex. JAVA). Le candidat doit maîtriser les concepts et principes\n",
            "principaux ;\n",
            "• Connaissance d’un logiciel de gestion de versions (Git) ;\n",
            "• Connaissance des techniques de modélisation de données et des systèmes de gestion de bases de données relationnelles (SGBDR).\n",
            "COMPÉTENCES PERSONNELLES\n",
            "• Bonnes communications écrite et verbale en français et en anglais ;\n",
            "• Doit être à l'aise à travailler dans un environnement très dynamique ;\n",
            "• Excellente compétence en résolution de problèmes ;\n",
            "• Enthousiasme et capacité d'apprentissage rapide ;\n",
            "• Souci du détail ;\n",
            "• Initiative et autonomie ;\n",
            "• Excellent esprit d’équipe ;\n",
            "• Respect et bonnes relations interpersonnelles.\n",
            "CONNAISSANCES CONSTITUANT UN ATOUT\n",
            "• Connaissance d’Angular ;\n",
            "• Techniques de développement AGILE ;\n",
            "• Administration de serveurs PostgreSQL ;\n",
            "• CMS tel Joomla, Drupal ou Wordpress ;\n",
            "• Application IntelliJ IDE ;\n",
            "• Administration de serveurs Linux ;\n",
            "• Langage de programmation Python ;\n",
            "• Géomatique.\n",
            "AVANTAGES DE TRAVAILLER À L’OGSL\n",
            "• Bon esprit de cohésion au sein d’une équipe dynamique ;\n",
            "• Environnement de travail stimulant ;\n",
            "• Horaire flexible et conciliation travail-vie personnelle ;\n",
            "• Secteur innovant ;\n",
            "• Partenariats avec un réseau élargi d’acteurs au Canada et à l’international (différents paliers de gouvernements, organismes à but non\n",
            "lucratifs, réseaux universitaires, centres d’excellence, organisations autochtones, etc.) ;\n",
            "• Activités de perfectionnement et de formation ;\n",
            "• Situé sur le campus de l’UQAR :\n",
            "o Service des activités physiques et sportives (SAPS) ;\n",
            "o Centre de la petite enfance (garderie) ;\n",
            "o Plusieurs espaces verts ;\n",
            "o Terminus du transport en commun ;\n",
            "o Cafétéria ;\n",
            "• Capitale de la région du Bas-Saint-Laurent, Rimouski est une ville reconnue pour sa qualité de vie exceptionnelle, ainsi que pour la présence\n",
            "d’une communauté dynamique.\n"
          ]
        }
      ]
    },
    {
      "cell_type": "code",
      "source": [
        "Script_Req= ' '.join(Script_Req)# Transform string into list\n",
        "type(Script_Req)"
      ],
      "metadata": {
        "id": "LFIbEzTZ0zDJ",
        "colab": {
          "base_uri": "https://localhost:8080/"
        },
        "outputId": "5023c129-f497-4b61-bd71-f722690363ce"
      },
      "execution_count": null,
      "outputs": [
        {
          "output_type": "execute_result",
          "data": {
            "text/plain": [
              "str"
            ]
          },
          "metadata": {},
          "execution_count": 19
        }
      ]
    },
    {
      "cell_type": "code",
      "source": [
        "nltk.download('stopwords')\n",
        "text_tokens = word_tokenize(Script_Req.lower())\n",
        "\n",
        "tokens_without_sw = [word for word in text_tokens if not word in stopwords.words('french')]\n",
        "\n",
        "print(tokens_without_sw)\n",
        "Script_Req = (\" \").join(tokens_without_sw)\n",
        "print(Script_Req)"
      ],
      "metadata": {
        "id": "1ND0MHp70y4U",
        "colab": {
          "base_uri": "https://localhost:8080/"
        },
        "outputId": "c7369cf1-64f9-48a9-8fc2-5109fde010da"
      },
      "execution_count": null,
      "outputs": [
        {
          "output_type": "stream",
          "name": "stdout",
          "text": [
            "['offre', '’', 'emploi', ':', 'développeur', '(', 'euse', ')', 'web', 'tâches', 'responsabilités', 'principales', '•', 'développer', 'site', 'web', 'ainsi', 'services', 'web', 'permettant', '’', 'affichage', 'optimal', 'convivial', 'applications', 'web', 'diffusion', 'données', 'scientifiques', ';', '•', 'assurer', 'documentation', 'développement', 'tests', ';', '•', 'participer', 'tâches', 'relatives', 'support', 'technique', ';', '•', 'assurer', 'veille', 'technologique', 'continue', '.', 'qualifications', 'essentielles', 'études', 'expérience', '•', 'technique', 'et/ou', 'baccalauréat', 'informatique', 'combinaison', 'acceptable', '’', 'études', ',', 'formations', 'et/ou', '’', 'expériences', 'pertinentes', '.', '•', 'deux', 'ans', '’', 'expérience', 'développement', 'intégration', 'web', '(', 'comprenant', 'programmation', 'maintenance', ')', '.', 'compétences', 'techniques', '•', 'connaissance', 'langages', 'web', 'suivants', ':', 'javascript', ',', 'typescript', ',', 'html5', 'css', ';', '•', 'connaissance', '’', 'architecture', 'mvc', ';', '•', 'connaissance', '’', 'langage', 'programmation', 'orientée', 'objet', '(', 'ex', '.', 'java', ')', '.', 'candidat', 'doit', 'maîtriser', 'concepts', 'principes', 'principaux', ';', '•', 'connaissance', '’', 'logiciel', 'gestion', 'versions', '(', 'git', ')', ';', '•', 'connaissance', 'techniques', 'modélisation', 'données', 'systèmes', 'gestion', 'bases', 'données', 'relationnelles', '(', 'sgbdr', ')', '.', 'compétences', 'personnelles', '•', 'bonnes', 'communications', 'écrite', 'verbale', 'français', 'anglais', ';', '•', 'doit', 'être', \"l'aise\", 'travailler', 'environnement', 'très', 'dynamique', ';', '•', 'excellente', 'compétence', 'résolution', 'problèmes', ';', '•', 'enthousiasme', 'capacité', \"d'apprentissage\", 'rapide', ';', '•', 'souci', 'détail', ';', '•', 'initiative', 'autonomie', ';', '•', 'excellent', 'esprit', '’', 'équipe', ';', '•', 'respect', 'bonnes', 'relations', 'interpersonnelles', '.', 'connaissances', 'constituant', 'atout', '•', 'connaissance', '’', 'angular', ';', '•', 'techniques', 'développement', 'agile', ';', '•', 'administration', 'serveurs', 'postgresql', ';', '•', 'cms', 'tel', 'joomla', ',', 'drupal', 'wordpress', ';', '•', 'application', 'intellij', 'ide', ';', '•', 'administration', 'serveurs', 'linux', ';', '•', 'langage', 'programmation', 'python', ';', '•', 'géomatique', '.', 'avantages', 'travailler', '’', 'ogsl', '•', 'bon', 'esprit', 'cohésion', 'sein', '’', 'équipe', 'dynamique', ';', '•', 'environnement', 'travail', 'stimulant', ';', '•', 'horaire', 'flexible', 'conciliation', 'travail-vie', 'personnelle', ';', '•', 'secteur', 'innovant', ';', '•', 'partenariats', 'réseau', 'élargi', '’', 'acteurs', 'canada', '’', 'international', '(', 'différents', 'paliers', 'gouvernements', ',', 'organismes', 'but', 'non', 'lucratifs', ',', 'réseaux', 'universitaires', ',', 'centres', '’', 'excellence', ',', 'organisations', 'autochtones', ',', 'etc', '.', ')', ';', '•', 'activités', 'perfectionnement', 'formation', ';', '•', 'situé', 'campus', '’', 'uqar', ':', 'o', 'service', 'activités', 'physiques', 'sportives', '(', 'saps', ')', ';', 'o', 'centre', 'petite', 'enfance', '(', 'garderie', ')', ';', 'o', 'plusieurs', 'espaces', 'verts', ';', 'o', 'terminus', 'transport', 'commun', ';', 'o', 'cafétéria', ';', '•', 'capitale', 'région', 'bas-saint-laurent', ',', 'rimouski', 'ville', 'reconnue', 'qualité', 'vie', 'exceptionnelle', ',', 'ainsi', 'présence', '’', 'communauté', 'dynamique', '.']\n",
            "offre ’ emploi : développeur ( euse ) web tâches responsabilités principales • développer site web ainsi services web permettant ’ affichage optimal convivial applications web diffusion données scientifiques ; • assurer documentation développement tests ; • participer tâches relatives support technique ; • assurer veille technologique continue . qualifications essentielles études expérience • technique et/ou baccalauréat informatique combinaison acceptable ’ études , formations et/ou ’ expériences pertinentes . • deux ans ’ expérience développement intégration web ( comprenant programmation maintenance ) . compétences techniques • connaissance langages web suivants : javascript , typescript , html5 css ; • connaissance ’ architecture mvc ; • connaissance ’ langage programmation orientée objet ( ex . java ) . candidat doit maîtriser concepts principes principaux ; • connaissance ’ logiciel gestion versions ( git ) ; • connaissance techniques modélisation données systèmes gestion bases données relationnelles ( sgbdr ) . compétences personnelles • bonnes communications écrite verbale français anglais ; • doit être l'aise travailler environnement très dynamique ; • excellente compétence résolution problèmes ; • enthousiasme capacité d'apprentissage rapide ; • souci détail ; • initiative autonomie ; • excellent esprit ’ équipe ; • respect bonnes relations interpersonnelles . connaissances constituant atout • connaissance ’ angular ; • techniques développement agile ; • administration serveurs postgresql ; • cms tel joomla , drupal wordpress ; • application intellij ide ; • administration serveurs linux ; • langage programmation python ; • géomatique . avantages travailler ’ ogsl • bon esprit cohésion sein ’ équipe dynamique ; • environnement travail stimulant ; • horaire flexible conciliation travail-vie personnelle ; • secteur innovant ; • partenariats réseau élargi ’ acteurs canada ’ international ( différents paliers gouvernements , organismes but non lucratifs , réseaux universitaires , centres ’ excellence , organisations autochtones , etc . ) ; • activités perfectionnement formation ; • situé campus ’ uqar : o service activités physiques sportives ( saps ) ; o centre petite enfance ( garderie ) ; o plusieurs espaces verts ; o terminus transport commun ; o cafétéria ; • capitale région bas-saint-laurent , rimouski ville reconnue qualité vie exceptionnelle , ainsi présence ’ communauté dynamique .\n"
          ]
        },
        {
          "output_type": "stream",
          "name": "stderr",
          "text": [
            "[nltk_data] Downloading package stopwords to /root/nltk_data...\n",
            "[nltk_data]   Package stopwords is already up-to-date!\n"
          ]
        }
      ]
    },
    {
      "cell_type": "code",
      "source": [
        "skills_def = pd.read_csv('/content/drive/My Drive/Colab Notebooks/competences.csv',header=0)"
      ],
      "metadata": {
        "id": "ubxtdNs10ys9"
      },
      "execution_count": null,
      "outputs": []
    },
    {
      "cell_type": "code",
      "source": [
        "skills_def.head()"
      ],
      "metadata": {
        "id": "HSeuW3wV0yes",
        "colab": {
          "base_uri": "https://localhost:8080/",
          "height": 206
        },
        "outputId": "325bf61a-8a48-4feb-e121-41fad3b110b2"
      },
      "execution_count": null,
      "outputs": [
        {
          "output_type": "execute_result",
          "data": {
            "text/plain": [
              "                   etiquettes\n",
              "0                          3d\n",
              "1                          3d\n",
              "2           3d-reconstruction\n",
              "3                  importance\n",
              "4  type de données abstraites"
            ],
            "text/html": [
              "\n",
              "  <div id=\"df-ae5eb2cd-350c-49ff-bf10-b1a10f6f7296\">\n",
              "    <div class=\"colab-df-container\">\n",
              "      <div>\n",
              "<style scoped>\n",
              "    .dataframe tbody tr th:only-of-type {\n",
              "        vertical-align: middle;\n",
              "    }\n",
              "\n",
              "    .dataframe tbody tr th {\n",
              "        vertical-align: top;\n",
              "    }\n",
              "\n",
              "    .dataframe thead th {\n",
              "        text-align: right;\n",
              "    }\n",
              "</style>\n",
              "<table border=\"1\" class=\"dataframe\">\n",
              "  <thead>\n",
              "    <tr style=\"text-align: right;\">\n",
              "      <th></th>\n",
              "      <th>etiquettes</th>\n",
              "    </tr>\n",
              "  </thead>\n",
              "  <tbody>\n",
              "    <tr>\n",
              "      <th>0</th>\n",
              "      <td>3d</td>\n",
              "    </tr>\n",
              "    <tr>\n",
              "      <th>1</th>\n",
              "      <td>3d</td>\n",
              "    </tr>\n",
              "    <tr>\n",
              "      <th>2</th>\n",
              "      <td>3d-reconstruction</td>\n",
              "    </tr>\n",
              "    <tr>\n",
              "      <th>3</th>\n",
              "      <td>importance</td>\n",
              "    </tr>\n",
              "    <tr>\n",
              "      <th>4</th>\n",
              "      <td>type de données abstraites</td>\n",
              "    </tr>\n",
              "  </tbody>\n",
              "</table>\n",
              "</div>\n",
              "      <button class=\"colab-df-convert\" onclick=\"convertToInteractive('df-ae5eb2cd-350c-49ff-bf10-b1a10f6f7296')\"\n",
              "              title=\"Convert this dataframe to an interactive table.\"\n",
              "              style=\"display:none;\">\n",
              "        \n",
              "  <svg xmlns=\"http://www.w3.org/2000/svg\" height=\"24px\"viewBox=\"0 0 24 24\"\n",
              "       width=\"24px\">\n",
              "    <path d=\"M0 0h24v24H0V0z\" fill=\"none\"/>\n",
              "    <path d=\"M18.56 5.44l.94 2.06.94-2.06 2.06-.94-2.06-.94-.94-2.06-.94 2.06-2.06.94zm-11 1L8.5 8.5l.94-2.06 2.06-.94-2.06-.94L8.5 2.5l-.94 2.06-2.06.94zm10 10l.94 2.06.94-2.06 2.06-.94-2.06-.94-.94-2.06-.94 2.06-2.06.94z\"/><path d=\"M17.41 7.96l-1.37-1.37c-.4-.4-.92-.59-1.43-.59-.52 0-1.04.2-1.43.59L10.3 9.45l-7.72 7.72c-.78.78-.78 2.05 0 2.83L4 21.41c.39.39.9.59 1.41.59.51 0 1.02-.2 1.41-.59l7.78-7.78 2.81-2.81c.8-.78.8-2.07 0-2.86zM5.41 20L4 18.59l7.72-7.72 1.47 1.35L5.41 20z\"/>\n",
              "  </svg>\n",
              "      </button>\n",
              "      \n",
              "  <style>\n",
              "    .colab-df-container {\n",
              "      display:flex;\n",
              "      flex-wrap:wrap;\n",
              "      gap: 12px;\n",
              "    }\n",
              "\n",
              "    .colab-df-convert {\n",
              "      background-color: #E8F0FE;\n",
              "      border: none;\n",
              "      border-radius: 50%;\n",
              "      cursor: pointer;\n",
              "      display: none;\n",
              "      fill: #1967D2;\n",
              "      height: 32px;\n",
              "      padding: 0 0 0 0;\n",
              "      width: 32px;\n",
              "    }\n",
              "\n",
              "    .colab-df-convert:hover {\n",
              "      background-color: #E2EBFA;\n",
              "      box-shadow: 0px 1px 2px rgba(60, 64, 67, 0.3), 0px 1px 3px 1px rgba(60, 64, 67, 0.15);\n",
              "      fill: #174EA6;\n",
              "    }\n",
              "\n",
              "    [theme=dark] .colab-df-convert {\n",
              "      background-color: #3B4455;\n",
              "      fill: #D2E3FC;\n",
              "    }\n",
              "\n",
              "    [theme=dark] .colab-df-convert:hover {\n",
              "      background-color: #434B5C;\n",
              "      box-shadow: 0px 1px 3px 1px rgba(0, 0, 0, 0.15);\n",
              "      filter: drop-shadow(0px 1px 2px rgba(0, 0, 0, 0.3));\n",
              "      fill: #FFFFFF;\n",
              "    }\n",
              "  </style>\n",
              "\n",
              "      <script>\n",
              "        const buttonEl =\n",
              "          document.querySelector('#df-ae5eb2cd-350c-49ff-bf10-b1a10f6f7296 button.colab-df-convert');\n",
              "        buttonEl.style.display =\n",
              "          google.colab.kernel.accessAllowed ? 'block' : 'none';\n",
              "\n",
              "        async function convertToInteractive(key) {\n",
              "          const element = document.querySelector('#df-ae5eb2cd-350c-49ff-bf10-b1a10f6f7296');\n",
              "          const dataTable =\n",
              "            await google.colab.kernel.invokeFunction('convertToInteractive',\n",
              "                                                     [key], {});\n",
              "          if (!dataTable) return;\n",
              "\n",
              "          const docLinkHtml = 'Like what you see? Visit the ' +\n",
              "            '<a target=\"_blank\" href=https://colab.research.google.com/notebooks/data_table.ipynb>data table notebook</a>'\n",
              "            + ' to learn more about interactive tables.';\n",
              "          element.innerHTML = '';\n",
              "          dataTable['output_type'] = 'display_data';\n",
              "          await google.colab.output.renderOutput(dataTable, element);\n",
              "          const docLink = document.createElement('div');\n",
              "          docLink.innerHTML = docLinkHtml;\n",
              "          element.appendChild(docLink);\n",
              "        }\n",
              "      </script>\n",
              "    </div>\n",
              "  </div>\n",
              "  "
            ]
          },
          "metadata": {},
          "execution_count": 22
        }
      ]
    },
    {
      "cell_type": "code",
      "source": [
        "skills_list = list(skills_def['etiquettes'])"
      ],
      "metadata": {
        "id": "58wlNh2909Zn"
      },
      "execution_count": null,
      "outputs": []
    },
    {
      "cell_type": "code",
      "source": [
        "# Extraire les compétences présentes dans le cv\n",
        "present_skills = []\n",
        "for skill in skills_list:\n",
        "    if skill.lower() in Script.lower():\n",
        "        present_skills.append(skill)\n",
        "present_skills = list(set(present_skills))"
      ],
      "metadata": {
        "id": "J_cNaQPR09WK"
      },
      "execution_count": null,
      "outputs": []
    },
    {
      "cell_type": "code",
      "source": [
        "# Afficher les compétences présentes\n",
        "print(present_skills)"
      ],
      "metadata": {
        "id": "TtBY5frw09S1",
        "colab": {
          "base_uri": "https://localhost:8080/"
        },
        "outputId": "91294345-f26c-4556-8397-a45f68abb8a8"
      },
      "execution_count": null,
      "outputs": [
        {
          "output_type": "stream",
          "name": "stdout",
          "text": [
            "['r', 'développement web', 'arduino', 'électron', 'python', 'intelligence artificielle', 'f', 'git', 'c', 'fil', 'communications']\n"
          ]
        }
      ]
    },
    {
      "cell_type": "code",
      "source": [],
      "metadata": {
        "id": "Lix1wK_uN05a"
      },
      "execution_count": null,
      "outputs": []
    },
    {
      "cell_type": "code",
      "source": [
        "#Extraire les compétences présentes dans la fiche de poste\n",
        "post_skills = []\n",
        "for skill in skills_list:\n",
        "    if skill.lower() in Script_Req.lower():\n",
        "        post_skills.append(skill)\n",
        "post_skills = list(set(post_skills))"
      ],
      "metadata": {
        "id": "Yuij8gbI09QS"
      },
      "execution_count": null,
      "outputs": []
    },
    {
      "cell_type": "code",
      "source": [
        "print(post_skills)\n",
        "Script_Req"
      ],
      "metadata": {
        "id": "h9HBsw0w09Nj",
        "colab": {
          "base_uri": "https://localhost:8080/",
          "height": 165
        },
        "outputId": "16689b3c-c5d9-434d-9ac3-64aee17b0dc0"
      },
      "execution_count": null,
      "outputs": [
        {
          "output_type": "stream",
          "name": "stdout",
          "text": [
            "['dyn', 'r', 'programmation orientée objet', 'f', 'javascript', 'html', 'communications', 'ava', 'site web', 'avantages', 'fusion', 'wordpress', 'c', 'drupal', 'css', 'postgresql', 'java', 'api', 'diffusion', 'rapide', 'linux', 'sql', 'python', 'git', 'mvc', 'modélisation', 'serveur', 'logiciel']\n"
          ]
        },
        {
          "output_type": "execute_result",
          "data": {
            "text/plain": [
              "\"offre ’ emploi : développeur ( euse ) web tâches responsabilités principales • développer site web ainsi services web permettant ’ affichage optimal convivial applications web diffusion données scientifiques ; • assurer documentation développement tests ; • participer tâches relatives support technique ; • assurer veille technologique continue . qualifications essentielles études expérience • technique et/ou baccalauréat informatique combinaison acceptable ’ études , formations et/ou ’ expériences pertinentes . • deux ans ’ expérience développement intégration web ( comprenant programmation maintenance ) . compétences techniques • connaissance langages web suivants : javascript , typescript , html5 css ; • connaissance ’ architecture mvc ; • connaissance ’ langage programmation orientée objet ( ex . java ) . candidat doit maîtriser concepts principes principaux ; • connaissance ’ logiciel gestion versions ( git ) ; • connaissance techniques modélisation données systèmes gestion bases données relationnelles ( sgbdr ) . compétences personnelles • bonnes communications écrite verbale français anglais ; • doit être l'aise travailler environnement très dynamique ; • excellente compétence résolution problèmes ; • enthousiasme capacité d'apprentissage rapide ; • souci détail ; • initiative autonomie ; • excellent esprit ’ équipe ; • respect bonnes relations interpersonnelles . connaissances constituant atout • connaissance ’ angular ; • techniques développement agile ; • administration serveurs postgresql ; • cms tel joomla , drupal wordpress ; • application intellij ide ; • administration serveurs linux ; • langage programmation python ; • géomatique . avantages travailler ’ ogsl • bon esprit cohésion sein ’ équipe dynamique ; • environnement travail stimulant ; • horaire flexible conciliation travail-vie personnelle ; • secteur innovant ; • partenariats réseau élargi ’ acteurs canada ’ international ( différents paliers gouvernements , organismes but non lucratifs , réseaux universitaires , centres ’ excellence , organisations autochtones , etc . ) ; • activités perfectionnement formation ; • situé campus ’ uqar : o service activités physiques sportives ( saps ) ; o centre petite enfance ( garderie ) ; o plusieurs espaces verts ; o terminus transport commun ; o cafétéria ; • capitale région bas-saint-laurent , rimouski ville reconnue qualité vie exceptionnelle , ainsi présence ’ communauté dynamique .\""
            ],
            "application/vnd.google.colaboratory.intrinsic+json": {
              "type": "string"
            }
          },
          "metadata": {},
          "execution_count": 27
        }
      ]
    },
    {
      "cell_type": "code",
      "source": [
        "domaines = pd.read_csv('/content/drive/My Drive/Colab Notebooks/Domaines.csv',header=0)\n",
        "diplomes = pd.read_csv('/content/drive/My Drive/Colab Notebooks/Diplomes.csv',header=0)"
      ],
      "metadata": {
        "id": "KQzSmOHC09I_"
      },
      "execution_count": null,
      "outputs": []
    },
    {
      "cell_type": "code",
      "source": [
        "diplomes_list = list(diplomes['Diplome'])\n",
        "domaines_list = list(domaines['domaine'])"
      ],
      "metadata": {
        "id": "-ZQASeP81K0e"
      },
      "execution_count": null,
      "outputs": []
    },
    {
      "cell_type": "code",
      "source": [
        "domaines.head()"
      ],
      "metadata": {
        "id": "PYPjNMjs1Kq4",
        "colab": {
          "base_uri": "https://localhost:8080/",
          "height": 206
        },
        "outputId": "fc9aea90-76b0-4b50-a156-9e1598b88c15"
      },
      "execution_count": null,
      "outputs": [
        {
          "output_type": "execute_result",
          "data": {
            "text/plain": [
              "                                     domaine\n",
              "0  design et innovation pour l'environnement\n",
              "1                                scénographe\n",
              "2                           architecte naval\n",
              "3    architecture et patrimoine contemporain\n",
              "4    management des projets urbains durables"
            ],
            "text/html": [
              "\n",
              "  <div id=\"df-11c6f62d-96ae-429a-9921-250eec864eaf\">\n",
              "    <div class=\"colab-df-container\">\n",
              "      <div>\n",
              "<style scoped>\n",
              "    .dataframe tbody tr th:only-of-type {\n",
              "        vertical-align: middle;\n",
              "    }\n",
              "\n",
              "    .dataframe tbody tr th {\n",
              "        vertical-align: top;\n",
              "    }\n",
              "\n",
              "    .dataframe thead th {\n",
              "        text-align: right;\n",
              "    }\n",
              "</style>\n",
              "<table border=\"1\" class=\"dataframe\">\n",
              "  <thead>\n",
              "    <tr style=\"text-align: right;\">\n",
              "      <th></th>\n",
              "      <th>domaine</th>\n",
              "    </tr>\n",
              "  </thead>\n",
              "  <tbody>\n",
              "    <tr>\n",
              "      <th>0</th>\n",
              "      <td>design et innovation pour l'environnement</td>\n",
              "    </tr>\n",
              "    <tr>\n",
              "      <th>1</th>\n",
              "      <td>scénographe</td>\n",
              "    </tr>\n",
              "    <tr>\n",
              "      <th>2</th>\n",
              "      <td>architecte naval</td>\n",
              "    </tr>\n",
              "    <tr>\n",
              "      <th>3</th>\n",
              "      <td>architecture et patrimoine contemporain</td>\n",
              "    </tr>\n",
              "    <tr>\n",
              "      <th>4</th>\n",
              "      <td>management des projets urbains durables</td>\n",
              "    </tr>\n",
              "  </tbody>\n",
              "</table>\n",
              "</div>\n",
              "      <button class=\"colab-df-convert\" onclick=\"convertToInteractive('df-11c6f62d-96ae-429a-9921-250eec864eaf')\"\n",
              "              title=\"Convert this dataframe to an interactive table.\"\n",
              "              style=\"display:none;\">\n",
              "        \n",
              "  <svg xmlns=\"http://www.w3.org/2000/svg\" height=\"24px\"viewBox=\"0 0 24 24\"\n",
              "       width=\"24px\">\n",
              "    <path d=\"M0 0h24v24H0V0z\" fill=\"none\"/>\n",
              "    <path d=\"M18.56 5.44l.94 2.06.94-2.06 2.06-.94-2.06-.94-.94-2.06-.94 2.06-2.06.94zm-11 1L8.5 8.5l.94-2.06 2.06-.94-2.06-.94L8.5 2.5l-.94 2.06-2.06.94zm10 10l.94 2.06.94-2.06 2.06-.94-2.06-.94-.94-2.06-.94 2.06-2.06.94z\"/><path d=\"M17.41 7.96l-1.37-1.37c-.4-.4-.92-.59-1.43-.59-.52 0-1.04.2-1.43.59L10.3 9.45l-7.72 7.72c-.78.78-.78 2.05 0 2.83L4 21.41c.39.39.9.59 1.41.59.51 0 1.02-.2 1.41-.59l7.78-7.78 2.81-2.81c.8-.78.8-2.07 0-2.86zM5.41 20L4 18.59l7.72-7.72 1.47 1.35L5.41 20z\"/>\n",
              "  </svg>\n",
              "      </button>\n",
              "      \n",
              "  <style>\n",
              "    .colab-df-container {\n",
              "      display:flex;\n",
              "      flex-wrap:wrap;\n",
              "      gap: 12px;\n",
              "    }\n",
              "\n",
              "    .colab-df-convert {\n",
              "      background-color: #E8F0FE;\n",
              "      border: none;\n",
              "      border-radius: 50%;\n",
              "      cursor: pointer;\n",
              "      display: none;\n",
              "      fill: #1967D2;\n",
              "      height: 32px;\n",
              "      padding: 0 0 0 0;\n",
              "      width: 32px;\n",
              "    }\n",
              "\n",
              "    .colab-df-convert:hover {\n",
              "      background-color: #E2EBFA;\n",
              "      box-shadow: 0px 1px 2px rgba(60, 64, 67, 0.3), 0px 1px 3px 1px rgba(60, 64, 67, 0.15);\n",
              "      fill: #174EA6;\n",
              "    }\n",
              "\n",
              "    [theme=dark] .colab-df-convert {\n",
              "      background-color: #3B4455;\n",
              "      fill: #D2E3FC;\n",
              "    }\n",
              "\n",
              "    [theme=dark] .colab-df-convert:hover {\n",
              "      background-color: #434B5C;\n",
              "      box-shadow: 0px 1px 3px 1px rgba(0, 0, 0, 0.15);\n",
              "      filter: drop-shadow(0px 1px 2px rgba(0, 0, 0, 0.3));\n",
              "      fill: #FFFFFF;\n",
              "    }\n",
              "  </style>\n",
              "\n",
              "      <script>\n",
              "        const buttonEl =\n",
              "          document.querySelector('#df-11c6f62d-96ae-429a-9921-250eec864eaf button.colab-df-convert');\n",
              "        buttonEl.style.display =\n",
              "          google.colab.kernel.accessAllowed ? 'block' : 'none';\n",
              "\n",
              "        async function convertToInteractive(key) {\n",
              "          const element = document.querySelector('#df-11c6f62d-96ae-429a-9921-250eec864eaf');\n",
              "          const dataTable =\n",
              "            await google.colab.kernel.invokeFunction('convertToInteractive',\n",
              "                                                     [key], {});\n",
              "          if (!dataTable) return;\n",
              "\n",
              "          const docLinkHtml = 'Like what you see? Visit the ' +\n",
              "            '<a target=\"_blank\" href=https://colab.research.google.com/notebooks/data_table.ipynb>data table notebook</a>'\n",
              "            + ' to learn more about interactive tables.';\n",
              "          element.innerHTML = '';\n",
              "          dataTable['output_type'] = 'display_data';\n",
              "          await google.colab.output.renderOutput(dataTable, element);\n",
              "          const docLink = document.createElement('div');\n",
              "          docLink.innerHTML = docLinkHtml;\n",
              "          element.appendChild(docLink);\n",
              "        }\n",
              "      </script>\n",
              "    </div>\n",
              "  </div>\n",
              "  "
            ]
          },
          "metadata": {},
          "execution_count": 30
        }
      ]
    },
    {
      "cell_type": "code",
      "source": [
        "diplomes.head()"
      ],
      "metadata": {
        "id": "UlBWPRTt1KgK",
        "colab": {
          "base_uri": "https://localhost:8080/",
          "height": 206
        },
        "outputId": "700a4131-8be8-4927-80dd-0a63c6201241"
      },
      "execution_count": null,
      "outputs": [
        {
          "output_type": "execute_result",
          "data": {
            "text/plain": [
              "    Diplome\n",
              "0   Licence\n",
              "1    Master\n",
              "2  Doctorat\n",
              "3       Phd\n",
              "4       DEA"
            ],
            "text/html": [
              "\n",
              "  <div id=\"df-68f7e6fd-132f-4301-9d78-d999d6ad0821\">\n",
              "    <div class=\"colab-df-container\">\n",
              "      <div>\n",
              "<style scoped>\n",
              "    .dataframe tbody tr th:only-of-type {\n",
              "        vertical-align: middle;\n",
              "    }\n",
              "\n",
              "    .dataframe tbody tr th {\n",
              "        vertical-align: top;\n",
              "    }\n",
              "\n",
              "    .dataframe thead th {\n",
              "        text-align: right;\n",
              "    }\n",
              "</style>\n",
              "<table border=\"1\" class=\"dataframe\">\n",
              "  <thead>\n",
              "    <tr style=\"text-align: right;\">\n",
              "      <th></th>\n",
              "      <th>Diplome</th>\n",
              "    </tr>\n",
              "  </thead>\n",
              "  <tbody>\n",
              "    <tr>\n",
              "      <th>0</th>\n",
              "      <td>Licence</td>\n",
              "    </tr>\n",
              "    <tr>\n",
              "      <th>1</th>\n",
              "      <td>Master</td>\n",
              "    </tr>\n",
              "    <tr>\n",
              "      <th>2</th>\n",
              "      <td>Doctorat</td>\n",
              "    </tr>\n",
              "    <tr>\n",
              "      <th>3</th>\n",
              "      <td>Phd</td>\n",
              "    </tr>\n",
              "    <tr>\n",
              "      <th>4</th>\n",
              "      <td>DEA</td>\n",
              "    </tr>\n",
              "  </tbody>\n",
              "</table>\n",
              "</div>\n",
              "      <button class=\"colab-df-convert\" onclick=\"convertToInteractive('df-68f7e6fd-132f-4301-9d78-d999d6ad0821')\"\n",
              "              title=\"Convert this dataframe to an interactive table.\"\n",
              "              style=\"display:none;\">\n",
              "        \n",
              "  <svg xmlns=\"http://www.w3.org/2000/svg\" height=\"24px\"viewBox=\"0 0 24 24\"\n",
              "       width=\"24px\">\n",
              "    <path d=\"M0 0h24v24H0V0z\" fill=\"none\"/>\n",
              "    <path d=\"M18.56 5.44l.94 2.06.94-2.06 2.06-.94-2.06-.94-.94-2.06-.94 2.06-2.06.94zm-11 1L8.5 8.5l.94-2.06 2.06-.94-2.06-.94L8.5 2.5l-.94 2.06-2.06.94zm10 10l.94 2.06.94-2.06 2.06-.94-2.06-.94-.94-2.06-.94 2.06-2.06.94z\"/><path d=\"M17.41 7.96l-1.37-1.37c-.4-.4-.92-.59-1.43-.59-.52 0-1.04.2-1.43.59L10.3 9.45l-7.72 7.72c-.78.78-.78 2.05 0 2.83L4 21.41c.39.39.9.59 1.41.59.51 0 1.02-.2 1.41-.59l7.78-7.78 2.81-2.81c.8-.78.8-2.07 0-2.86zM5.41 20L4 18.59l7.72-7.72 1.47 1.35L5.41 20z\"/>\n",
              "  </svg>\n",
              "      </button>\n",
              "      \n",
              "  <style>\n",
              "    .colab-df-container {\n",
              "      display:flex;\n",
              "      flex-wrap:wrap;\n",
              "      gap: 12px;\n",
              "    }\n",
              "\n",
              "    .colab-df-convert {\n",
              "      background-color: #E8F0FE;\n",
              "      border: none;\n",
              "      border-radius: 50%;\n",
              "      cursor: pointer;\n",
              "      display: none;\n",
              "      fill: #1967D2;\n",
              "      height: 32px;\n",
              "      padding: 0 0 0 0;\n",
              "      width: 32px;\n",
              "    }\n",
              "\n",
              "    .colab-df-convert:hover {\n",
              "      background-color: #E2EBFA;\n",
              "      box-shadow: 0px 1px 2px rgba(60, 64, 67, 0.3), 0px 1px 3px 1px rgba(60, 64, 67, 0.15);\n",
              "      fill: #174EA6;\n",
              "    }\n",
              "\n",
              "    [theme=dark] .colab-df-convert {\n",
              "      background-color: #3B4455;\n",
              "      fill: #D2E3FC;\n",
              "    }\n",
              "\n",
              "    [theme=dark] .colab-df-convert:hover {\n",
              "      background-color: #434B5C;\n",
              "      box-shadow: 0px 1px 3px 1px rgba(0, 0, 0, 0.15);\n",
              "      filter: drop-shadow(0px 1px 2px rgba(0, 0, 0, 0.3));\n",
              "      fill: #FFFFFF;\n",
              "    }\n",
              "  </style>\n",
              "\n",
              "      <script>\n",
              "        const buttonEl =\n",
              "          document.querySelector('#df-68f7e6fd-132f-4301-9d78-d999d6ad0821 button.colab-df-convert');\n",
              "        buttonEl.style.display =\n",
              "          google.colab.kernel.accessAllowed ? 'block' : 'none';\n",
              "\n",
              "        async function convertToInteractive(key) {\n",
              "          const element = document.querySelector('#df-68f7e6fd-132f-4301-9d78-d999d6ad0821');\n",
              "          const dataTable =\n",
              "            await google.colab.kernel.invokeFunction('convertToInteractive',\n",
              "                                                     [key], {});\n",
              "          if (!dataTable) return;\n",
              "\n",
              "          const docLinkHtml = 'Like what you see? Visit the ' +\n",
              "            '<a target=\"_blank\" href=https://colab.research.google.com/notebooks/data_table.ipynb>data table notebook</a>'\n",
              "            + ' to learn more about interactive tables.';\n",
              "          element.innerHTML = '';\n",
              "          dataTable['output_type'] = 'display_data';\n",
              "          await google.colab.output.renderOutput(dataTable, element);\n",
              "          const docLink = document.createElement('div');\n",
              "          docLink.innerHTML = docLinkHtml;\n",
              "          element.appendChild(docLink);\n",
              "        }\n",
              "      </script>\n",
              "    </div>\n",
              "  </div>\n",
              "  "
            ]
          },
          "metadata": {},
          "execution_count": 31
        }
      ]
    },
    {
      "cell_type": "code",
      "source": [
        "# Extraire les diplomes présentes dans le cv\n",
        "present_diplomes = []\n",
        "for diplome in diplomes_list:\n",
        "    if diplome.lower() in Script.lower():\n",
        "        present_diplomes.append(diplome)\n",
        "present_diplomes = list(set(present_diplomes))\n",
        "print(present_diplomes)"
      ],
      "metadata": {
        "id": "7tBQtJdt1R1c",
        "colab": {
          "base_uri": "https://localhost:8080/"
        },
        "outputId": "2222e2bc-dfb8-49b7-fa7e-d371a2aad33a"
      },
      "execution_count": null,
      "outputs": [
        {
          "output_type": "stream",
          "name": "stdout",
          "text": [
            "['bac', 'Licence']\n"
          ]
        }
      ]
    },
    {
      "cell_type": "code",
      "source": [
        "# Extraire les diplomes présentes dans l'appel d'offre\n",
        "post_diplomes = []\n",
        "for diplome in diplomes_list:\n",
        "    if diplome.lower() in Script_Req.lower():\n",
        "        post_diplomes.append(diplome)\n",
        "post_diplomes = list(set(post_diplomes))\n",
        "print(post_diplomes)"
      ],
      "metadata": {
        "id": "-VueSRY61RyE",
        "colab": {
          "base_uri": "https://localhost:8080/"
        },
        "outputId": "ec187731-abda-4e37-de08-a14084d918c4"
      },
      "execution_count": null,
      "outputs": [
        {
          "output_type": "stream",
          "name": "stdout",
          "text": [
            "['bac', 'MS', 'BUT', 'CAPA', 'DES', 'CAP', 'baccalauréat']\n"
          ]
        }
      ]
    },
    {
      "cell_type": "code",
      "source": [
        "# Extraire les domaines présentes dans le cv\n",
        "present_domaines = []\n",
        "for domaine in domaines_list:\n",
        "    if domaine.lower() in Script.lower():\n",
        "        present_domaines.append(domaine)\n",
        "present_domaines = list(set(present_domaines))\n",
        "print(present_domaines)"
      ],
      "metadata": {
        "id": "exr9hK2y1Ruu",
        "colab": {
          "base_uri": "https://localhost:8080/"
        },
        "outputId": "2e1d2277-f3f4-4ce5-d192-7c420ae669e3"
      },
      "execution_count": null,
      "outputs": [
        {
          "output_type": "stream",
          "name": "stdout",
          "text": [
            "['communication', 'AM', 'SAM', ' développement web', ' intelligence artificielle']\n"
          ]
        }
      ]
    },
    {
      "cell_type": "code",
      "source": [
        "# Extraire les domaines présentes dans l'appel d'offre\n",
        "post_domaines = []\n",
        "for domaine in domaines_list:\n",
        "    if domaine.lower() in Script_Req:\n",
        "        post_domaines.append(domaine)\n",
        "post_domaines = list(set(post_domaines))\n",
        "print(post_domaines)"
      ],
      "metadata": {
        "id": "bgS4GDUl1RsQ",
        "colab": {
          "base_uri": "https://localhost:8080/"
        },
        "outputId": "e998fbcb-379b-4526-81be-0f2dea575de1"
      },
      "execution_count": null,
      "outputs": [
        {
          "output_type": "stream",
          "name": "stdout",
          "text": [
            "['gestion', 'AM', ' programmation', 'communication']\n"
          ]
        }
      ]
    },
    {
      "cell_type": "code",
      "source": [
        "skills_similarity = Similarity(present_skills, post_skills)\n",
        "diplomes_similarity=Similarity(present_diplomes, post_diplomes)\n",
        "domaines_similarity=Similarity(present_domaines, post_domaines)\n"
      ],
      "metadata": {
        "id": "JRmChxWb1mTs"
      },
      "execution_count": null,
      "outputs": []
    },
    {
      "cell_type": "code",
      "source": [
        "print(domaines_similarity)\n",
        "print(diplomes_similarity)\n",
        "print(skills_similarity)"
      ],
      "metadata": {
        "id": "5BAHVdt2A8E3",
        "colab": {
          "base_uri": "https://localhost:8080/"
        },
        "outputId": "6d288f49-300c-4060-f969-88366b5f1c5a"
      },
      "execution_count": null,
      "outputs": [
        {
          "output_type": "stream",
          "name": "stdout",
          "text": [
            "50.0\n",
            "14.285714285714286\n",
            "25.0\n"
          ]
        }
      ]
    },
    {
      "cell_type": "code",
      "source": [
        "score_final=(domaines_similarity+diplomes_similarity+skills_similarity)/3"
      ],
      "metadata": {
        "id": "ZqF65XyWA8A5"
      },
      "execution_count": null,
      "outputs": []
    },
    {
      "cell_type": "code",
      "source": [
        "print(\"le score de ce CV est: \", score_final)"
      ],
      "metadata": {
        "id": "VOIWX2A7A7-P",
        "colab": {
          "base_uri": "https://localhost:8080/"
        },
        "outputId": "3a9be630-2c3e-4d52-cccb-f0bc40b71c07"
      },
      "execution_count": null,
      "outputs": [
        {
          "output_type": "stream",
          "name": "stdout",
          "text": [
            "le score de ce CV est:  29.761904761904763\n"
          ]
        }
      ]
    },
    {
      "cell_type": "code",
      "source": [
        "import os\n",
        "\n",
        "data_dir = '/content/drive/My Drive/Colab Notebooks/CV'\n",
        "\n",
        "# Vérifier si le dossier existe\n",
        "if os.path.exists(data_dir):\n",
        "    # Liste des fichiers et dossiers dans le répertoire\n",
        "    content = os.listdir(data_dir)\n",
        "    \n",
        "    # Dictionnaire pour stocker le contenu\n",
        "    content_dict = {}\n",
        "    \n",
        "    # Parcourir le contenu\n",
        "    for item in content:\n",
        "        # Vérifier si l'élément est un fichier\n",
        "        if os.path.isfile(os.path.join(data_dir, item)):\n",
        "            # Stocker le fichier dans le dictionnaire avec le nom de variable souhaité\n",
        "            content_dict['file_' + item] = item\n",
        "        # Sinon, il s'agit d'un dossier\n",
        "        else:\n",
        "            # Stocker le dossier dans le dictionnaire avec le nom de variable souhaité\n",
        "            content_dict['folder_' + item] = item\n",
        "    \n",
        "    # Afficher le contenu\n",
        "    for key, value in content_dict.items():\n",
        "        print(key + ':', value)\n",
        "else:\n",
        "    print(\"Le dossier spécifié n'existe pas.\")\n"
      ],
      "metadata": {
        "colab": {
          "base_uri": "https://localhost:8080/"
        },
        "id": "DqTiLKfjpe2J",
        "outputId": "357bb1d3-7d14-4019-fcf8-96d47b8373c8"
      },
      "execution_count": null,
      "outputs": [
        {
          "output_type": "stream",
          "name": "stdout",
          "text": [
            "file_cv_sam.pdf: cv_sam.pdf\n",
            "file_cv.pdf: cv.pdf\n",
            "file_cv_aude.pdf: cv_aude.pdf\n"
          ]
        }
      ]
    },
    {
      "cell_type": "code",
      "source": [
        "data_dir = '/content/drive/My Drive/Colab Notebooks/CV'\n",
        "\n",
        "# Vérifier si le dossier existe\n",
        "if os.path.exists(data_dir):\n",
        "    # Liste des fichiers dans le répertoire\n",
        "    files = [f for f in os.listdir(data_dir) if os.path.isfile(os.path.join(data_dir, f))]\n",
        "    \n",
        "    # Parcourir les fichiers\n",
        "    for file in files:\n",
        "        # Chemin d'accès complet du fichier\n",
        "        file_path = os.path.join(data_dir, file)\n",
        "        \n",
        "        # Vérifier si le fichier est un PDF\n",
        "        if file.lower().endswith('.pdf'):\n",
        "            # Ouvrir le fichier PDF\n",
        "            with open(file_path, 'rb') as CV_File:\n",
        "                Script = PyPDF2.PdfReader(CV_File)\n",
        "                pages = len(Script.pages)\n",
        "                text_list = []\n",
        "                \n",
        "                # Extraire le texte de chaque page du PDF\n",
        "                with pdfplumber.open(CV_File) as pdf:\n",
        "                    for i in range(pages):\n",
        "                        page = pdf.pages[i]\n",
        "                        text = page.extract_text()\n",
        "                        text_list.append(text)\n",
        "                \n",
        "                # Afficher le texte extrait\n",
        "                print(f\"Contenu du fichier {file}:\")\n",
        "                for text in text_list:\n",
        "                    print(text)\n",
        "                print('-' * 40)\n",
        "        else:\n",
        "            print(f\"Le fichier {file} n'est pas un fichier PDF.\")\n",
        "else:\n",
        "    print(\"Le dossier spécifié n'existe pas.\")\n"
      ],
      "metadata": {
        "colab": {
          "base_uri": "https://localhost:8080/"
        },
        "id": "XDkUy9obqBzd",
        "outputId": "5e22e5e4-a28b-4c74-c04b-3c651329c7e2"
      },
      "execution_count": null,
      "outputs": [
        {
          "output_type": "stream",
          "name": "stdout",
          "text": [
            "Contenu du fichier cv_sam.pdf:\n",
            "PROFIL\n",
            "YAO SAMUEL\n",
            "Étudiant en 3ème année de licence en\n",
            "Né le 02/04/2002 systèmes réseaux informatiques et\n",
            "télécommunications. Créatif, passionné d’\n",
            "intelligence artificielle et d’électronique, j'ai\n",
            "toujours eu le goût pour l'apprentissage .\n",
            "COORDONEES\n",
            "COORDONEES\n",
            "FORMATION\n",
            "01 40957145\n",
            "Treichville Avenue 21 Rue 15\n",
            " Depuis 2020\n",
            "Samuelyao107@gmail.com\n",
            "Licence en Systèmes Réseaux\n",
            "Informatiques et Télécommunications à\n",
            "ESATIC\n",
            "COMPETENCE\n",
            " 2021-2022\n",
            "S\n",
            "Certification Développement web\n",
            "PYTHON  2020-2021\n",
            "ANGLAIS\n",
            "Certifié ICDL (International Certification\n",
            "of Digital Literacy)\n",
            "Raspberry Pi\n",
            " 2019-2020\n",
            "Obtention du BAC C au Lycée Moderne\n",
            "de Soubré\n",
            "ARDPYUTINHOO N\n",
            "EXPERIENCE\n",
            "MACHINE LEARNING\n",
            " Réalisation d’une application\n",
            "ARDUINO utilisant la vision par ordinateur\n",
            "ANACONDA\n",
            "pour la réconnaissance de\n",
            "monuments ivoiriens\n",
            " Réalisation d’une application de\n",
            "parking intelligent utilisant la\n",
            "ANGLAIS\n",
            "ANALYSE DE DONNEES vision par ordinateur pour la\n",
            "réconnaissance des plaques\n",
            "d’immatriculation.\n",
            "\n",
            "----------------------------------------\n",
            "Contenu du fichier cv.pdf:\n",
            "www.ITjobs.ca\n",
            "Modèle de CV Développeur PHP\n",
            "Paul Bertrand\n",
            "4568, boulevard des Lilas\n",
            "Tél. : 514 000 0000\n",
            "Courriel : paulbertrand@webmail.ca\n",
            "Paul Bertrand\n",
            "Développeur PHP\n",
            "OBJECTIF\n",
            "Concevoir et développer des applications Internet, intranet, gérer les besoins réseaux et\n",
            "administrer des serveurs Linux.\n",
            "COMPÉTENCES\n",
            "Plus de trois ans d’expérience en analyse, conception et réalisation d’applications on-line, ainsi\n",
            "qu’en gestion réseaux et serveurs. Je maîtrise les outils de développement, de design et la\n",
            "maintenance de serveurs Linux Debian.\n",
            "EXPERIENCES PROFESSIONNELLES\n",
            " 2015 – à date : XXXXXXXXXXX\n",
            "Poste : Développeur PHP, MySQL, RealBasic, Flash\n",
            "Développement d'applications PHP, MySQL en ligne d'e-detailing, e-learning, webinar,\n",
            "web séminaire\n",
            "Administration et maintenance des serveurs Linux Debian\n",
            " 2015 – à date : XXXXXXXXXXX\n",
            "Création du magazine XXXXXXX\n",
            "Administration et maintenance des serveurs Linux Debian. Développements en PHP,\n",
            "MySQL, Flash de solutions vidéo et audio\n",
            "Développement en PHP, MySQL du site Internet (basé sur mambo)\n",
            "Création du magazine\n",
            "Copyright© 2017 les Carrières jobWings Tous droits réservés Encore plus de modèles sur www.CV.ca\n",
            "www.ITjobs.ca\n",
            " 2013 – à date : XXXXXXXXXXX\n",
            "Poste : Chef de projet / Développeur PHP MySQL / Administrateur réseau.\n",
            "Développements en PHP, MySQL de projet clients\n",
            "Administration parc informatique et serveurs d'hébergement sous Linux Debian\n",
            "Développement en PHP, MySQL du site Internet XXXXXXX\n",
            " 2011 - 2016 : XXXXXXXXXXX\n",
            "Poste : Chef de projet / Développeur / Administrateur\n",
            "Mise en place des différentes solutions techniques\n",
            "Administration du parc serveurs sous Linux Debian\n",
            "Développements en PHP, MySQL des frontends\n",
            "Création du service d'hébergement gratuit edeign.com\n",
            " 2010 - 2014 : XXXXXXXXXXX\n",
            "Poste : Webmaster développeur PHP/MySQL - graphiste / Opérateur serveur\n",
            "Création, mise en place, et gestion du pôle Web\n",
            "Réalisation de sites Internet en PHP, MySQL\n",
            "Migration des serveurs Web de WinNT4/Win2000 (IIS) vers Linux/GNU (LAMP)\n",
            "Administration et maintenance des serveurs Linux Debian\n",
            "Réalisation de l’intranet de la société en PHP, MySQL\n",
            "Réalisation du portail du provider sosconnexion.com (PHP, MySQL)\n",
            "Référencement Internet\n",
            " 2008 - 2009 : XXXXXXXXXXX\n",
            "Poste : Développeur multimédia on line/off line\n",
            "Développement de sites Internet en PHP, MySQL, Flash et de cd-rom (Lingo)\n",
            " 2007 – 2008 : XXXXXXXXXXX\n",
            "Poste : Développeur multimédia off line\n",
            "Développement de cd-rom pour la communication interne de l'entreprise\n",
            " 2006 : Stage de 6 mois à XXXXXXXXXXX\n",
            "Poste : Maintenance réseaux et parc informatique\n",
            "Copyright© 2017 les Carrières jobWings Tous droits réservés Encore plus de modèles sur www.CV.ca\n",
            "www.ITjobs.ca\n",
            "FORMATIONS - ÉTUDES\n",
            " 1995 -1998 : Baccalauréat en informatique à l’UQÀM\n",
            "LANGUES\n",
            " Bilingue français anglais (oral et écrit)\n",
            "LANGAGES INFORMATIQUES\n",
            " Web : PHP, HTML, CSS, SPIP, Javascript, référencement\n",
            " Systèmes d'exploitation : Windows (9X, NT, Me, 2000, XP), Dos, Linux (Mandrake), Mac\n",
            "OS\n",
            " Réseaux : Architecture, protocoles, maintenance, technologies PKI\n",
            " Programmation : C, C++, Pascal, Visual Basic, Corba, Java, environnement Delphi,\n",
            "modélisation UML\n",
            " Bases de données : SQL (MySQL), Access\n",
            " Logiciels : Adobe Photoshop, Illustrator, Macromedia Dreamweaver, MS Project, Suite\n",
            "Office\n",
            "LOISIRS\n",
            " Vélo, graphisme (création de logos, et création de visuels pour T-shirts)\n",
            " Développement du projet XXXXXXXXX, un lecteur de news online avec archivage. Ce\n",
            "projet est en cours de développement\n",
            " Développement d'applications pour Mac OS X. (free/donationware)\n",
            "Copyright© 2017 les Carrières jobWings Tous droits réservés Encore plus de modèles sur www.CV.ca\n",
            "----------------------------------------\n",
            "Contenu du fichier cv_aude.pdf:\n",
            "PROFIL\n",
            "Licenciée en Systèmes Réseaux\n",
            "Informatiques et Télécommunications\n",
            "(SRIT) et certifiée UX/UI Designer, je suis à\n",
            "la recherche d’un stage en UX/UI Design.\n",
            "Autodidacte et passionnée par le design,\n",
            "je suis. Pour moi, apprendre auprès de\n",
            "CAMARA MAHOUA AUDE\n",
            "votre structure serait un véritable honneur.\n",
            "AYMONE PRISCILLE\n",
            "FORMATION\n",
            "Née le 19/10/2002\n",
            "COORDONNEES • 2022 Formation de l’ONG Femmes et\n",
            "TIC dans le cadre du\n",
            "Email\n",
            "programme DCLIC de\n",
            "priscillecam@gmail.com\n",
            "l’Organisation Internationale de\n",
            "LinkedIn\n",
            "la Francophonie\n",
            "Mahoua Aude Camara\n",
            "Formation en UX/UI design\n",
            "Contacts\n",
            "0102244580/0788325534\n",
            "• Depuis ESATIC\n",
            "2020 Licence en SRIT\n",
            "EXPERIENCE\n",
            "ESATIC\n",
            "Participante d’un projet • 2020\n",
            "2023-2022 Certification ICDL Essentiel sur\n",
            "estudiantin portant sur la\n",
            "l’ordinateur et le web/ Essentiel\n",
            "digitalisation de la gestion\n",
            "sur les applications\n",
            "des parkings dans la\n",
            "bureautiques\n",
            "communes du Plateau;\n",
            "2021-2022 Formatrice à la section LYCEE MUNICIPAL SIMONE EHIVET\n",
            "• 2019 à\n",
            "domotique du club GBAGBO\n",
            "2020\n",
            "informatique de l’ESATIC ; BAC C\n",
            "2021-2022 Chef de projet école portant\n",
            "Coding Bootcamp 2018\n",
            "sur le tourisme 2.0 ;\n",
            "• 2018 Certification Greenfoot et Alice\n",
            "Chef de projet estudiantin\n",
            "COMPETENCES\n",
            "2020-2021 portant sur la réalisation d’un\n",
            "système d’aide à la santé.\n",
            "Word/PowerPoint\n",
            "Figma/Adobe xd\n",
            "LANGUES\n",
            "Illustrator/Photoshop\n",
            "Français Anglais Mandarin\n",
            "Python 3.0, PHP, JS\n",
            "Html 3.0/CSS 5.0\n",
            "----------------------------------------\n"
          ]
        }
      ]
    },
    {
      "cell_type": "code",
      "source": [
        "data_dir = '/content/drive/My Drive/Colab Notebooks/CV'\n",
        "\n",
        "# Vérifier si le dossier existe\n",
        "if os.path.exists(data_dir):\n",
        "    # Liste des fichiers dans le répertoire\n",
        "    files = [f for f in os.listdir(data_dir) if os.path.isfile(os.path.join(data_dir, f))]\n",
        "    \n",
        "    # Parcourir les fichiers\n",
        "    for file in files:\n",
        "        # Chemin d'accès complet du fichier\n",
        "        file_path = os.path.join(data_dir, file)\n",
        "        \n",
        "        # Vérifier si le fichier est un PDF\n",
        "        if file.lower().endswith('.pdf'):\n",
        "            # Ouvrir le fichier PDF\n",
        "            with open(file_path, 'rb') as CV_File:\n",
        "                Script = PyPDF2.PdfReader(CV_File)\n",
        "                pages = len(Script.pages)\n",
        "                text_list = []\n",
        "                \n",
        "                # Extraire le texte de chaque page du PDF\n",
        "                with pdfplumber.open(CV_File) as pdf:\n",
        "                    for i in range(pages):\n",
        "                        page = pdf.pages[i]\n",
        "                        text = page.extract_text()\n",
        "                        text_list.append(text)\n",
        "                \n",
        "                # Convertir la liste de textes en une seule chaîne de caractères\n",
        "                Script = ' '.join(text_list)\n",
        "                \n",
        "                # Appliquer le traitement NLP\n",
        "                nltk.download('punkt')\n",
        "                nltk.download('stopwords')\n",
        "                \n",
        "                text_tokens = word_tokenize(Script)\n",
        "                \n",
        "                tokens_without_sw = [word for word in text_tokens if not word in stopwords.words('french')]\n",
        "                \n",
        "                Script = ' '.join(tokens_without_sw)\n",
        "                \n",
        "                # Afficher le résultat\n",
        "                print(f\"Contenu du fichier {file}:\")\n",
        "                print(Script)\n",
        "                print('-' * 40)\n",
        "        else:\n",
        "            print(f\"Le fichier {file} n'est pas un fichier PDF.\")\n",
        "else:\n",
        "    print(\"Le dossier spécifié n'existe pas.\")\n"
      ],
      "metadata": {
        "colab": {
          "base_uri": "https://localhost:8080/"
        },
        "id": "CqosSyn6rm_Z",
        "outputId": "87d315f3-02b6-4459-c405-dbee0dcb1ff2"
      },
      "execution_count": null,
      "outputs": [
        {
          "output_type": "stream",
          "name": "stderr",
          "text": [
            "[nltk_data] Downloading package punkt to /root/nltk_data...\n",
            "[nltk_data]   Package punkt is already up-to-date!\n",
            "[nltk_data] Downloading package stopwords to /root/nltk_data...\n",
            "[nltk_data]   Package stopwords is already up-to-date!\n"
          ]
        },
        {
          "output_type": "stream",
          "name": "stdout",
          "text": [
            "Contenu du fichier cv_sam.pdf:\n",
            "PROFIL YAO SAMUEL Étudiant 3ème année licence Né 02/04/2002 systèmes réseaux informatiques télécommunications . Créatif , passionné ’ intelligence artificielle ’ électronique , j'ai toujours goût l'apprentissage . COORDONEES COORDONEES FORMATION 01 40957145 Treichville Avenue 21 Rue 15  Depuis 2020 Samuelyao107 @ gmail.com Licence Systèmes Réseaux Informatiques Télécommunications ESATIC COMPETENCE  2021-2022 S Certification Développement web PYTHON  2020-2021 ANGLAIS Certifié ICDL ( International Certification of Digital Literacy ) Raspberry Pi  2019-2020 Obtention BAC C Lycée Moderne Soubré ARDPYUTINHOO N EXPERIENCE MACHINE LEARNING  Réalisation ’ application ARDUINO utilisant vision ordinateur ANACONDA réconnaissance monuments ivoiriens  Réalisation ’ application parking intelligent utilisant ANGLAIS ANALYSE DE DONNEES vision ordinateur réconnaissance plaques ’ immatriculation .\n",
            "----------------------------------------\n"
          ]
        },
        {
          "output_type": "stream",
          "name": "stderr",
          "text": [
            "[nltk_data] Downloading package punkt to /root/nltk_data...\n",
            "[nltk_data]   Package punkt is already up-to-date!\n",
            "[nltk_data] Downloading package stopwords to /root/nltk_data...\n",
            "[nltk_data]   Package stopwords is already up-to-date!\n"
          ]
        },
        {
          "output_type": "stream",
          "name": "stdout",
          "text": [
            "Contenu du fichier cv.pdf:\n",
            "www.ITjobs.ca Modèle CV Développeur PHP Paul Bertrand 4568 , boulevard Lilas Tél . : 514 000 0000 Courriel : paulbertrand @ webmail.ca Paul Bertrand Développeur PHP OBJECTIF Concevoir développer applications Internet , intranet , gérer besoins réseaux administrer serveurs Linux . COMPÉTENCES Plus trois ans ’ expérience analyse , conception réalisation ’ applications on-line , ainsi ’ gestion réseaux serveurs . Je maîtrise outils développement , design maintenance serveurs Linux Debian . EXPERIENCES PROFESSIONNELLES  2015 – date : XXXXXXXXXXX Poste : Développeur PHP , MySQL , RealBasic , Flash Développement d'applications PHP , MySQL ligne ' e-detailing , e-learning , webinar , web séminaire Administration maintenance serveurs Linux Debian  2015 – date : XXXXXXXXXXX Création magazine XXXXXXX Administration maintenance serveurs Linux Debian . Développements PHP , MySQL , Flash solutions vidéo audio Développement PHP , MySQL site Internet ( basé mambo ) Création magazine Copyright© 2017 Carrières jobWings Tous droits réservés Encore plus modèles www.CV.ca www.ITjobs.ca  2013 – date : XXXXXXXXXXX Poste : Chef projet / Développeur PHP MySQL / Administrateur réseau . Développements PHP , MySQL projet clients Administration parc informatique serveurs d'hébergement sous Linux Debian Développement PHP , MySQL site Internet XXXXXXX  2011 - 2016 : XXXXXXXXXXX Poste : Chef projet / Développeur / Administrateur Mise place différentes solutions techniques Administration parc serveurs sous Linux Debian Développements PHP , MySQL frontends Création service d'hébergement gratuit edeign.com  2010 - 2014 : XXXXXXXXXXX Poste : Webmaster développeur PHP/MySQL - graphiste / Opérateur serveur Création , mise place , gestion pôle Web Réalisation sites Internet PHP , MySQL Migration serveurs Web WinNT4/Win2000 ( IIS ) vers Linux/GNU ( LAMP ) Administration maintenance serveurs Linux Debian Réalisation ’ intranet société PHP , MySQL Réalisation portail provider sosconnexion.com ( PHP , MySQL ) Référencement Internet  2008 - 2009 : XXXXXXXXXXX Poste : Développeur multimédia line/off line Développement sites Internet PHP , MySQL , Flash cd-rom ( Lingo )  2007 – 2008 : XXXXXXXXXXX Poste : Développeur multimédia off line Développement cd-rom communication interne l'entreprise  2006 : Stage 6 mois XXXXXXXXXXX Poste : Maintenance réseaux parc informatique Copyright© 2017 Carrières jobWings Tous droits réservés Encore plus modèles www.CV.ca www.ITjobs.ca FORMATIONS - ÉTUDES  1995 -1998 : Baccalauréat informatique ’ UQÀM LANGUES  Bilingue français anglais ( oral écrit ) LANGAGES INFORMATIQUES  Web : PHP , HTML , CSS , SPIP , Javascript , référencement  Systèmes d'exploitation : Windows ( 9X , NT , Me , 2000 , XP ) , Dos , Linux ( Mandrake ) , Mac OS  Réseaux : Architecture , protocoles , maintenance , technologies PKI  Programmation : C , C++ , Pascal , Visual Basic , Corba , Java , environnement Delphi , modélisation UML  Bases données : SQL ( MySQL ) , Access  Logiciels : Adobe Photoshop , Illustrator , Macromedia Dreamweaver , MS Project , Suite Office LOISIRS  Vélo , graphisme ( création logos , création visuels T-shirts )  Développement projet XXXXXXXXX , lecteur news online archivage . Ce projet cours développement  Développement d'applications Mac OS X . ( free/donationware ) Copyright© 2017 Carrières jobWings Tous droits réservés Encore plus modèles www.CV.ca\n",
            "----------------------------------------\n",
            "Contenu du fichier cv_aude.pdf:\n",
            "PROFIL Licenciée Systèmes Réseaux Informatiques Télécommunications ( SRIT ) certifiée UX/UI Designer , recherche ’ stage UX/UI Design . Autodidacte passionnée design , . Pour , apprendre auprès CAMARA MAHOUA AUDE structure véritable honneur . AYMONE PRISCILLE FORMATION Née 19/10/2002 COORDONNEES • 2022 Formation ’ ONG Femmes TIC cadre Email programme DCLIC priscillecam @ gmail.com ’ Organisation Internationale LinkedIn Francophonie Mahoua Aude Camara Formation UX/UI design Contacts 0102244580/0788325534 • Depuis ESATIC 2020 Licence SRIT EXPERIENCE ESATIC Participante ’ projet • 2020 2023-2022 Certification ICDL Essentiel estudiantin portant ’ ordinateur web/ Essentiel digitalisation gestion applications parkings bureautiques communes Plateau ; 2021-2022 Formatrice section LYCEE MUNICIPAL SIMONE EHIVET • 2019 domotique club GBAGBO 2020 informatique ’ ESATIC ; BAC C 2021-2022 Chef projet école portant Coding Bootcamp 2018 tourisme 2.0 ; • 2018 Certification Greenfoot Alice Chef projet estudiantin COMPETENCES 2020-2021 portant réalisation ’ système ’ aide santé . Word/PowerPoint Figma/Adobe xd LANGUES Illustrator/Photoshop Français Anglais Mandarin Python 3.0 , PHP , JS Html 3.0/CSS 5.0\n",
            "----------------------------------------\n"
          ]
        },
        {
          "output_type": "stream",
          "name": "stderr",
          "text": [
            "[nltk_data] Downloading package punkt to /root/nltk_data...\n",
            "[nltk_data]   Package punkt is already up-to-date!\n",
            "[nltk_data] Downloading package stopwords to /root/nltk_data...\n",
            "[nltk_data]   Package stopwords is already up-to-date!\n"
          ]
        }
      ]
    },
    {
      "cell_type": "code",
      "source": [
        "data_dir = '/content/drive/My Drive/Colab Notebooks/CV'\n",
        "\n",
        "# Vérifier si le dossier existe\n",
        "if os.path.exists(data_dir):\n",
        "    # Liste des fichiers dans le répertoire\n",
        "    files = [f for f in os.listdir(data_dir) if os.path.isfile(os.path.join(data_dir, f))]\n",
        "    \n",
        "    # Parcourir les fichiers\n",
        "    for file in files:\n",
        "        # Chemin d'accès complet du fichier\n",
        "        file_path = os.path.join(data_dir, file)\n",
        "        \n",
        "        # Vérifier si le fichier est un PDF\n",
        "        if file.lower().endswith('.pdf'):\n",
        "            # Ouvrir le fichier PDF\n",
        "            with open(file_path, 'rb') as CV_File:\n",
        "                Script = PyPDF2.PdfReader(CV_File)\n",
        "                pages = len(Script.pages)\n",
        "                text_list = []\n",
        "                \n",
        "                # Extraire le texte de chaque page du PDF\n",
        "                with pdfplumber.open(CV_File) as pdf:\n",
        "                    for i in range(pages):\n",
        "                        page = pdf.pages[i]\n",
        "                        text = page.extract_text()\n",
        "                        text_list.append(text)\n",
        "                \n",
        "                # Convertir la liste de textes en une seule chaîne de caractères\n",
        "                Script = ' '.join(text_list)\n",
        "                \n",
        "                # Appliquer le traitement NLP\n",
        "                nltk.download('punkt')\n",
        "                nltk.download('stopwords')\n",
        "                \n",
        "                text_tokens = word_tokenize(Script)\n",
        "                \n",
        "                tokens_without_sw = [word for word in text_tokens if not word in stopwords.words('french')]\n",
        "                \n",
        "                Script = ' '.join(tokens_without_sw)\n",
        "                \n",
        "                # Afficher le résultat\n",
        "                print(f\"Contenu du fichier {file}:\")\n",
        "                print(Script)\n",
        "                \n",
        "                # Extraire les compétences présentes dans le CV\n",
        "                present_skills = []\n",
        "                for skill in skills_list:\n",
        "                    if skill.lower() in Script.lower():\n",
        "                        present_skills.append(skill)\n",
        "                present_skills = list(set(present_skills))\n",
        "                \n",
        "                # Afficher les compétences présentes\n",
        "                print(\"Compétences présentes :\", present_skills)\n",
        "                \n",
        "                # Extraire les diplômes présents dans le CV\n",
        "                present_diplomes = []\n",
        "                for diplome in diplomes_list:\n",
        "                    if diplome.lower() in Script.lower():\n",
        "                        present_diplomes.append(diplome)\n",
        "                present_diplomes = list(set(present_diplomes))\n",
        "                \n",
        "                # Afficher les diplômes présents\n",
        "                print(\"Diplômes présents :\", present_diplomes)\n",
        "                \n",
        "                # Extraire les domaines présents dans le CV\n",
        "                present_domaines = []\n",
        "                for domaine in domaines_list:\n",
        "                    if domaine.lower() in Script.lower():\n",
        "                        present_domaines.append(domaine)\n",
        "                present_domaines = list(set(present_domaines))\n",
        "                \n",
        "                # Afficher les domaines présents\n",
        "                print(\"Domaines présents :\", present_domaines)\n",
        "                \n",
        "                # Calculer les similarités entre les compétences, diplômes et domaines\n",
        "                skills_similarity = Similarity(present_skills, post_skills)\n",
        "                diplomes_similarity = Similarity(present_diplomes, post_diplomes)\n",
        "                domaines_similarity = Similarity(present_domaines, post_domaines)\n",
        "\n",
        "                            # Afficher les similarités\n",
        "                print(\"Similarité des domaines :\", domaines_similarity)\n",
        "                print(\"Similarité des diplômes :\", diplomes_similarity)\n",
        "                print(\"Similarité des compétences :\", skills_similarity)\n",
        "                \n",
        "                # Calculer le score final\n",
        "                score_final = (domaines_similarity + diplomes_similarity + skills_similarity) / 3\n",
        "                \n",
        "                # Afficher le score final\n",
        "                print(\"Le score de ce CV est :\", score_final)\n",
        "                \n",
        "                print('-' * 40)\n",
        "        else:\n",
        "            print(f\"Le fichier {file} n'est pas un fichier PDF.\")"
      ],
      "metadata": {
        "id": "oipv_-X1sPzS",
        "colab": {
          "base_uri": "https://localhost:8080/"
        },
        "outputId": "05664af1-ce90-49c0-a580-26795b63476f"
      },
      "execution_count": 47,
      "outputs": [
        {
          "output_type": "stream",
          "name": "stderr",
          "text": [
            "[nltk_data] Downloading package punkt to /root/nltk_data...\n",
            "[nltk_data]   Package punkt is already up-to-date!\n",
            "[nltk_data] Downloading package stopwords to /root/nltk_data...\n",
            "[nltk_data]   Package stopwords is already up-to-date!\n"
          ]
        },
        {
          "output_type": "stream",
          "name": "stdout",
          "text": [
            "Contenu du fichier cv_sam.pdf:\n",
            "PROFIL YAO SAMUEL Étudiant 3ème année licence Né 02/04/2002 systèmes réseaux informatiques télécommunications . Créatif , passionné ’ intelligence artificielle ’ électronique , j'ai toujours goût l'apprentissage . COORDONEES COORDONEES FORMATION 01 40957145 Treichville Avenue 21 Rue 15  Depuis 2020 Samuelyao107 @ gmail.com Licence Systèmes Réseaux Informatiques Télécommunications ESATIC COMPETENCE  2021-2022 S Certification Développement web PYTHON  2020-2021 ANGLAIS Certifié ICDL ( International Certification of Digital Literacy ) Raspberry Pi  2019-2020 Obtention BAC C Lycée Moderne Soubré ARDPYUTINHOO N EXPERIENCE MACHINE LEARNING  Réalisation ’ application ARDUINO utilisant vision ordinateur ANACONDA réconnaissance monuments ivoiriens  Réalisation ’ application parking intelligent utilisant ANGLAIS ANALYSE DE DONNEES vision ordinateur réconnaissance plaques ’ immatriculation .\n",
            "Compétences présentes : ['r', 'développement web', 'arduino', 'électron', 'python', 'intelligence artificielle', 'f', 'git', 'c', 'fil', 'communications']\n",
            "Diplômes présents : ['bac', 'Licence']\n",
            "Domaines présents : ['communication', 'AM', 'SAM', ' développement web', ' intelligence artificielle']\n",
            "Similarité des domaines : 50.0\n",
            "Similarité des diplômes : 14.285714285714286\n",
            "Similarité des compétences : 25.0\n",
            "Le score de ce CV est : 29.761904761904763\n",
            "----------------------------------------\n"
          ]
        },
        {
          "output_type": "stream",
          "name": "stderr",
          "text": [
            "[nltk_data] Downloading package punkt to /root/nltk_data...\n",
            "[nltk_data]   Package punkt is already up-to-date!\n",
            "[nltk_data] Downloading package stopwords to /root/nltk_data...\n",
            "[nltk_data]   Package stopwords is already up-to-date!\n"
          ]
        },
        {
          "output_type": "stream",
          "name": "stdout",
          "text": [
            "Contenu du fichier cv.pdf:\n",
            "www.ITjobs.ca Modèle CV Développeur PHP Paul Bertrand 4568 , boulevard Lilas Tél . : 514 000 0000 Courriel : paulbertrand @ webmail.ca Paul Bertrand Développeur PHP OBJECTIF Concevoir développer applications Internet , intranet , gérer besoins réseaux administrer serveurs Linux . COMPÉTENCES Plus trois ans ’ expérience analyse , conception réalisation ’ applications on-line , ainsi ’ gestion réseaux serveurs . Je maîtrise outils développement , design maintenance serveurs Linux Debian . EXPERIENCES PROFESSIONNELLES  2015 – date : XXXXXXXXXXX Poste : Développeur PHP , MySQL , RealBasic , Flash Développement d'applications PHP , MySQL ligne ' e-detailing , e-learning , webinar , web séminaire Administration maintenance serveurs Linux Debian  2015 – date : XXXXXXXXXXX Création magazine XXXXXXX Administration maintenance serveurs Linux Debian . Développements PHP , MySQL , Flash solutions vidéo audio Développement PHP , MySQL site Internet ( basé mambo ) Création magazine Copyright© 2017 Carrières jobWings Tous droits réservés Encore plus modèles www.CV.ca www.ITjobs.ca  2013 – date : XXXXXXXXXXX Poste : Chef projet / Développeur PHP MySQL / Administrateur réseau . Développements PHP , MySQL projet clients Administration parc informatique serveurs d'hébergement sous Linux Debian Développement PHP , MySQL site Internet XXXXXXX  2011 - 2016 : XXXXXXXXXXX Poste : Chef projet / Développeur / Administrateur Mise place différentes solutions techniques Administration parc serveurs sous Linux Debian Développements PHP , MySQL frontends Création service d'hébergement gratuit edeign.com  2010 - 2014 : XXXXXXXXXXX Poste : Webmaster développeur PHP/MySQL - graphiste / Opérateur serveur Création , mise place , gestion pôle Web Réalisation sites Internet PHP , MySQL Migration serveurs Web WinNT4/Win2000 ( IIS ) vers Linux/GNU ( LAMP ) Administration maintenance serveurs Linux Debian Réalisation ’ intranet société PHP , MySQL Réalisation portail provider sosconnexion.com ( PHP , MySQL ) Référencement Internet  2008 - 2009 : XXXXXXXXXXX Poste : Développeur multimédia line/off line Développement sites Internet PHP , MySQL , Flash cd-rom ( Lingo )  2007 – 2008 : XXXXXXXXXXX Poste : Développeur multimédia off line Développement cd-rom communication interne l'entreprise  2006 : Stage 6 mois XXXXXXXXXXX Poste : Maintenance réseaux parc informatique Copyright© 2017 Carrières jobWings Tous droits réservés Encore plus modèles www.CV.ca www.ITjobs.ca FORMATIONS - ÉTUDES  1995 -1998 : Baccalauréat informatique ’ UQÀM LANGUES  Bilingue français anglais ( oral écrit ) LANGAGES INFORMATIQUES  Web : PHP , HTML , CSS , SPIP , Javascript , référencement  Systèmes d'exploitation : Windows ( 9X , NT , Me , 2000 , XP ) , Dos , Linux ( Mandrake ) , Mac OS  Réseaux : Architecture , protocoles , maintenance , technologies PKI  Programmation : C , C++ , Pascal , Visual Basic , Corba , Java , environnement Delphi , modélisation UML  Bases données : SQL ( MySQL ) , Access  Logiciels : Adobe Photoshop , Illustrator , Macromedia Dreamweaver , MS Project , Suite Office LOISIRS  Vélo , graphisme ( création logos , création visuels T-shirts )  Développement projet XXXXXXXXX , lecteur news online archivage . Ce projet cours développement  Développement d'applications Mac OS X . ( free/donationware ) Copyright© 2017 Carrières jobWings Tous droits réservés Encore plus modèles www.CV.ca\n",
            "Compétences présentes : ['r', 'frontend', 'multimédia', 'f', 'chef', 'entreprise', 'conception', 'javascript', 'html', 'concevoir', 'ava', 'mina', 'php', 'c', 'css', 'java', 'linux', 'sql', 'cli', 'mysql', 'modélisation', 'serveur', 'debian', 'logiciel']\n",
            "Diplômes présents : ['bac', 'Master', 'MS', 'DES', 'baccalauréat']\n",
            "Domaines présents : ['communication', 'AM', ' programmation', 'gestion', 'Droit']\n",
            "Similarité des domaines : 100.0\n",
            "Similarité des diplômes : 57.142857142857146\n",
            "Similarité des compétences : 66.07142857142857\n",
            "Le score de ce CV est : 74.40476190476191\n",
            "----------------------------------------\n",
            "Contenu du fichier cv_aude.pdf:\n",
            "PROFIL Licenciée Systèmes Réseaux Informatiques Télécommunications ( SRIT ) certifiée UX/UI Designer , recherche ’ stage UX/UI Design . Autodidacte passionnée design , . Pour , apprendre auprès CAMARA MAHOUA AUDE structure véritable honneur . AYMONE PRISCILLE FORMATION Née 19/10/2002 COORDONNEES • 2022 Formation ’ ONG Femmes TIC cadre Email programme DCLIC priscillecam @ gmail.com ’ Organisation Internationale LinkedIn Francophonie Mahoua Aude Camara Formation UX/UI design Contacts 0102244580/0788325534 • Depuis ESATIC 2020 Licence SRIT EXPERIENCE ESATIC Participante ’ projet • 2020 2023-2022 Certification ICDL Essentiel estudiantin portant ’ ordinateur web/ Essentiel digitalisation gestion applications parkings bureautiques communes Plateau ; 2021-2022 Formatrice section LYCEE MUNICIPAL SIMONE EHIVET • 2019 domotique club GBAGBO 2020 informatique ’ ESATIC ; BAC C 2021-2022 Chef projet école portant Coding Bootcamp 2018 tourisme 2.0 ; • 2018 Certification Greenfoot Alice Chef projet estudiantin COMPETENCES 2020-2021 portant réalisation ’ système ’ aide santé . Word/PowerPoint Figma/Adobe xd LANGUES Illustrator/Photoshop Français Anglais Mandarin Python 3.0 , PHP , JS Html 3.0/CSS 5.0\n",
            "Compétences présentes : ['r', 'chef', 'fil', 'python', 'php', 'html', 'f', 'git', 'cli', 'point', 'c', 'figma', 'css', 'tour', 'communications']\n",
            "Diplômes présents : ['bac', 'DES', 'Licence']\n",
            "Domaines présents : ['gestion', 'AM', 'communication']\n",
            "Similarité des domaines : 75.0\n",
            "Similarité des diplômes : 28.571428571428573\n",
            "Similarité des compétences : 35.714285714285715\n",
            "Le score de ce CV est : 46.42857142857142\n",
            "----------------------------------------\n"
          ]
        },
        {
          "output_type": "stream",
          "name": "stderr",
          "text": [
            "[nltk_data] Downloading package punkt to /root/nltk_data...\n",
            "[nltk_data]   Package punkt is already up-to-date!\n",
            "[nltk_data] Downloading package stopwords to /root/nltk_data...\n",
            "[nltk_data]   Package stopwords is already up-to-date!\n"
          ]
        }
      ]
    },
    {
      "cell_type": "markdown",
      "source": [
        "Ranking des cv"
      ],
      "metadata": {
        "id": "StwmudKdy8Pf"
      }
    },
    {
      "cell_type": "code",
      "source": [
        "data_dir = '/content/drive/My Drive/Colab Notebooks/CV'\n",
        "\n",
        "# Vérifier si le dossier existe\n",
        "if os.path.exists(data_dir):\n",
        "    # Liste des fichiers dans le répertoire\n",
        "    files = [f for f in os.listdir(data_dir) if os.path.isfile(os.path.join(data_dir, f))]\n",
        "    \n",
        "    # Dictionnaire pour stocker les scores\n",
        "    scores_dict = {}\n",
        "    \n",
        "    # Parcourir les fichiers\n",
        "    for file in files:\n",
        "        # Chemin d'accès complet du fichier\n",
        "        file_path = os.path.join(data_dir, file)\n",
        "        \n",
        "        # Vérifier si le fichier est un PDF\n",
        "        if file.lower().endswith('.pdf'):\n",
        "            # Ouvrir le fichier PDF\n",
        "            with open(file_path, 'rb') as CV_File:\n",
        "                Script = PyPDF2.PdfReader(CV_File)\n",
        "                pages = len(Script.pages)\n",
        "                text_list = []\n",
        "                \n",
        "                # Extraire le texte de chaque page du PDF\n",
        "                with pdfplumber.open(CV_File) as pdf:\n",
        "                    for i in range(pages):\n",
        "                        page = pdf.pages[i]\n",
        "                        text = page.extract_text()\n",
        "                        text_list.append(text)\n",
        "                \n",
        "                # Convertir la liste de textes en une seule chaîne de caractères\n",
        "                Script = ' '.join(text_list)\n",
        "                \n",
        "                # Appliquer le traitement NLP\n",
        "                nltk.download('punkt')\n",
        "                nltk.download('stopwords')\n",
        "                \n",
        "                text_tokens = word_tokenize(Script)\n",
        "                \n",
        "                tokens_without_sw = [word for word in text_tokens if not word in stopwords.words('french')]\n",
        "                \n",
        "                Script = ' '.join(tokens_without_sw)\n",
        "\n",
        "                \n",
        "                # Afficher le résultat\n",
        "                print(f\"Contenu du fichier {file}:\")\n",
        "                print(Script)\n",
        "                \n",
        "                # Extraire les compétences présentes dans le CV\n",
        "                present_skills = []\n",
        "                for skill in skills_list:\n",
        "                    if skill.lower() in Script.lower():\n",
        "                        present_skills.append(skill)\n",
        "                present_skills = list(set(present_skills))\n",
        "                \n",
        "                # Afficher les compétences présentes\n",
        "                print(\"Compétences présentes :\", present_skills)\n",
        "\n",
        "                # Extraire les diplômes présents dans le CV\n",
        "                present_diplomes = []\n",
        "                for diplome in diplomes_list:\n",
        "                    if diplome.lower() in Script.lower():\n",
        "                        present_diplomes.append(diplome)\n",
        "                present_diplomes = list(set(present_diplomes))\n",
        "                \n",
        "                # Afficher les diplômes présents\n",
        "                print(\"Diplômes présents :\", present_diplomes)\n",
        "                \n",
        "\n",
        "                # Extraire les domaines présents dans le CV\n",
        "                present_domaines = []\n",
        "                for domaine in domaines_list:\n",
        "                    if domaine.lower() in Script.lower():\n",
        "                        present_domaines.append(domaine)\n",
        "                present_domaines = list(set(present_domaines))\n",
        "\n",
        "                # Afficher les domaines présents\n",
        "                print(\"Domaines présents :\", present_domaines)\n",
        "                \n",
        "                # Calculer les similarités entre les compétences, diplômes et domaines\n",
        "                skills_similarity = Similarity(present_skills, post_skills)\n",
        "                diplomes_similarity = Similarity(present_diplomes, post_diplomes)\n",
        "                domaines_similarity = Similarity(present_domaines, post_domaines)\n",
        "\n",
        "                 # Afficher les similarités\n",
        "                print(\"Similarité des domaines :\", domaines_similarity)\n",
        "                print(\"Similarité des diplômes :\", diplomes_similarity)\n",
        "                print(\"Similarité des compétences :\", skills_similarity)\n",
        "                \n",
        "                \n",
        "                # Calculer le score final\n",
        "                score_final = (domaines_similarity + diplomes_similarity + skills_similarity) / 3\n",
        "\n",
        "                # Afficher le score final\n",
        "                print(\"Le score de ce CV est :\", score_final)\n",
        "                \n",
        "                print('-' * 40)\n",
        "\n",
        "                # Stocker le score dans le dictionnaire\n",
        "                scores_dict[file] = score_final\n",
        "                \n",
        "    # Trier le dictionnaire des scores par ordre décroissant des valeurs\n",
        "    sorted_scores = {k: v for k, v in sorted(scores_dict.items(), key=lambda item: item[1], reverse=True)}\n",
        "    # Afficher le classement\n",
        "    print(\"Classement des CV est le suivant:\")\n",
        "    for index, (file, score) in enumerate(sorted_scores.items(), 1):\n",
        "        print(f\"{index}. {file} | Score : {score}\")"
      ],
      "metadata": {
        "colab": {
          "base_uri": "https://localhost:8080/"
        },
        "id": "gdfpzW4twdQy",
        "outputId": "fb009402-c94e-473f-d3b9-83a4f368f77a"
      },
      "execution_count": 53,
      "outputs": [
        {
          "output_type": "stream",
          "name": "stderr",
          "text": [
            "[nltk_data] Downloading package punkt to /root/nltk_data...\n",
            "[nltk_data]   Package punkt is already up-to-date!\n",
            "[nltk_data] Downloading package stopwords to /root/nltk_data...\n",
            "[nltk_data]   Package stopwords is already up-to-date!\n"
          ]
        },
        {
          "output_type": "stream",
          "name": "stdout",
          "text": [
            "Contenu du fichier cv_sam.pdf:\n",
            "PROFIL YAO SAMUEL Étudiant 3ème année licence Né 02/04/2002 systèmes réseaux informatiques télécommunications . Créatif , passionné ’ intelligence artificielle ’ électronique , j'ai toujours goût l'apprentissage . COORDONEES COORDONEES FORMATION 01 40957145 Treichville Avenue 21 Rue 15  Depuis 2020 Samuelyao107 @ gmail.com Licence Systèmes Réseaux Informatiques Télécommunications ESATIC COMPETENCE  2021-2022 S Certification Développement web PYTHON  2020-2021 ANGLAIS Certifié ICDL ( International Certification of Digital Literacy ) Raspberry Pi  2019-2020 Obtention BAC C Lycée Moderne Soubré ARDPYUTINHOO N EXPERIENCE MACHINE LEARNING  Réalisation ’ application ARDUINO utilisant vision ordinateur ANACONDA réconnaissance monuments ivoiriens  Réalisation ’ application parking intelligent utilisant ANGLAIS ANALYSE DE DONNEES vision ordinateur réconnaissance plaques ’ immatriculation .\n",
            "Compétences présentes : ['r', 'développement web', 'arduino', 'électron', 'python', 'intelligence artificielle', 'f', 'git', 'c', 'fil', 'communications']\n",
            "Diplômes présents : ['bac', 'Licence']\n",
            "Domaines présents : ['communication', 'AM', 'SAM', ' développement web', ' intelligence artificielle']\n",
            "Similarité des domaines : 50.0\n",
            "Similarité des diplômes : 14.285714285714286\n",
            "Similarité des compétences : 25.0\n",
            "Le score de ce CV est : 29.761904761904763\n",
            "----------------------------------------\n"
          ]
        },
        {
          "output_type": "stream",
          "name": "stderr",
          "text": [
            "[nltk_data] Downloading package punkt to /root/nltk_data...\n",
            "[nltk_data]   Package punkt is already up-to-date!\n",
            "[nltk_data] Downloading package stopwords to /root/nltk_data...\n",
            "[nltk_data]   Package stopwords is already up-to-date!\n"
          ]
        },
        {
          "output_type": "stream",
          "name": "stdout",
          "text": [
            "Contenu du fichier cv.pdf:\n",
            "www.ITjobs.ca Modèle CV Développeur PHP Paul Bertrand 4568 , boulevard Lilas Tél . : 514 000 0000 Courriel : paulbertrand @ webmail.ca Paul Bertrand Développeur PHP OBJECTIF Concevoir développer applications Internet , intranet , gérer besoins réseaux administrer serveurs Linux . COMPÉTENCES Plus trois ans ’ expérience analyse , conception réalisation ’ applications on-line , ainsi ’ gestion réseaux serveurs . Je maîtrise outils développement , design maintenance serveurs Linux Debian . EXPERIENCES PROFESSIONNELLES  2015 – date : XXXXXXXXXXX Poste : Développeur PHP , MySQL , RealBasic , Flash Développement d'applications PHP , MySQL ligne ' e-detailing , e-learning , webinar , web séminaire Administration maintenance serveurs Linux Debian  2015 – date : XXXXXXXXXXX Création magazine XXXXXXX Administration maintenance serveurs Linux Debian . Développements PHP , MySQL , Flash solutions vidéo audio Développement PHP , MySQL site Internet ( basé mambo ) Création magazine Copyright© 2017 Carrières jobWings Tous droits réservés Encore plus modèles www.CV.ca www.ITjobs.ca  2013 – date : XXXXXXXXXXX Poste : Chef projet / Développeur PHP MySQL / Administrateur réseau . Développements PHP , MySQL projet clients Administration parc informatique serveurs d'hébergement sous Linux Debian Développement PHP , MySQL site Internet XXXXXXX  2011 - 2016 : XXXXXXXXXXX Poste : Chef projet / Développeur / Administrateur Mise place différentes solutions techniques Administration parc serveurs sous Linux Debian Développements PHP , MySQL frontends Création service d'hébergement gratuit edeign.com  2010 - 2014 : XXXXXXXXXXX Poste : Webmaster développeur PHP/MySQL - graphiste / Opérateur serveur Création , mise place , gestion pôle Web Réalisation sites Internet PHP , MySQL Migration serveurs Web WinNT4/Win2000 ( IIS ) vers Linux/GNU ( LAMP ) Administration maintenance serveurs Linux Debian Réalisation ’ intranet société PHP , MySQL Réalisation portail provider sosconnexion.com ( PHP , MySQL ) Référencement Internet  2008 - 2009 : XXXXXXXXXXX Poste : Développeur multimédia line/off line Développement sites Internet PHP , MySQL , Flash cd-rom ( Lingo )  2007 – 2008 : XXXXXXXXXXX Poste : Développeur multimédia off line Développement cd-rom communication interne l'entreprise  2006 : Stage 6 mois XXXXXXXXXXX Poste : Maintenance réseaux parc informatique Copyright© 2017 Carrières jobWings Tous droits réservés Encore plus modèles www.CV.ca www.ITjobs.ca FORMATIONS - ÉTUDES  1995 -1998 : Baccalauréat informatique ’ UQÀM LANGUES  Bilingue français anglais ( oral écrit ) LANGAGES INFORMATIQUES  Web : PHP , HTML , CSS , SPIP , Javascript , référencement  Systèmes d'exploitation : Windows ( 9X , NT , Me , 2000 , XP ) , Dos , Linux ( Mandrake ) , Mac OS  Réseaux : Architecture , protocoles , maintenance , technologies PKI  Programmation : C , C++ , Pascal , Visual Basic , Corba , Java , environnement Delphi , modélisation UML  Bases données : SQL ( MySQL ) , Access  Logiciels : Adobe Photoshop , Illustrator , Macromedia Dreamweaver , MS Project , Suite Office LOISIRS  Vélo , graphisme ( création logos , création visuels T-shirts )  Développement projet XXXXXXXXX , lecteur news online archivage . Ce projet cours développement  Développement d'applications Mac OS X . ( free/donationware ) Copyright© 2017 Carrières jobWings Tous droits réservés Encore plus modèles www.CV.ca\n",
            "Compétences présentes : ['r', 'frontend', 'multimédia', 'f', 'chef', 'entreprise', 'conception', 'javascript', 'html', 'concevoir', 'ava', 'mina', 'php', 'c', 'css', 'java', 'linux', 'sql', 'cli', 'mysql', 'modélisation', 'serveur', 'debian', 'logiciel']\n",
            "Diplômes présents : ['bac', 'Master', 'MS', 'DES', 'baccalauréat']\n",
            "Domaines présents : ['communication', 'AM', ' programmation', 'gestion', 'Droit']\n",
            "Similarité des domaines : 100.0\n",
            "Similarité des diplômes : 57.142857142857146\n",
            "Similarité des compétences : 66.07142857142857\n",
            "Le score de ce CV est : 74.40476190476191\n",
            "----------------------------------------\n",
            "Contenu du fichier cv_aude.pdf:\n",
            "PROFIL Licenciée Systèmes Réseaux Informatiques Télécommunications ( SRIT ) certifiée UX/UI Designer , recherche ’ stage UX/UI Design . Autodidacte passionnée design , . Pour , apprendre auprès CAMARA MAHOUA AUDE structure véritable honneur . AYMONE PRISCILLE FORMATION Née 19/10/2002 COORDONNEES • 2022 Formation ’ ONG Femmes TIC cadre Email programme DCLIC priscillecam @ gmail.com ’ Organisation Internationale LinkedIn Francophonie Mahoua Aude Camara Formation UX/UI design Contacts 0102244580/0788325534 • Depuis ESATIC 2020 Licence SRIT EXPERIENCE ESATIC Participante ’ projet • 2020 2023-2022 Certification ICDL Essentiel estudiantin portant ’ ordinateur web/ Essentiel digitalisation gestion applications parkings bureautiques communes Plateau ; 2021-2022 Formatrice section LYCEE MUNICIPAL SIMONE EHIVET • 2019 domotique club GBAGBO 2020 informatique ’ ESATIC ; BAC C 2021-2022 Chef projet école portant Coding Bootcamp 2018 tourisme 2.0 ; • 2018 Certification Greenfoot Alice Chef projet estudiantin COMPETENCES 2020-2021 portant réalisation ’ système ’ aide santé . Word/PowerPoint Figma/Adobe xd LANGUES Illustrator/Photoshop Français Anglais Mandarin Python 3.0 , PHP , JS Html 3.0/CSS 5.0\n",
            "Compétences présentes : ['r', 'chef', 'fil', 'python', 'php', 'html', 'f', 'git', 'cli', 'point', 'c', 'figma', 'css', 'tour', 'communications']\n",
            "Diplômes présents : ['bac', 'DES', 'Licence']\n",
            "Domaines présents : ['gestion', 'AM', 'communication']\n",
            "Similarité des domaines : 75.0\n",
            "Similarité des diplômes : 28.571428571428573\n",
            "Similarité des compétences : 35.714285714285715\n",
            "Le score de ce CV est : 46.42857142857142\n",
            "----------------------------------------\n",
            "Classement des CV est le suivant:\n",
            "1. cv.pdf | Score : 74.40476190476191\n",
            "2. cv_aude.pdf | Score : 46.42857142857142\n",
            "3. cv_sam.pdf | Score : 29.761904761904763\n"
          ]
        },
        {
          "output_type": "stream",
          "name": "stderr",
          "text": [
            "[nltk_data] Downloading package punkt to /root/nltk_data...\n",
            "[nltk_data]   Package punkt is already up-to-date!\n",
            "[nltk_data] Downloading package stopwords to /root/nltk_data...\n",
            "[nltk_data]   Package stopwords is already up-to-date!\n"
          ]
        }
      ]
    }
  ]
}