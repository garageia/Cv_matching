{
  "nbformat": 4,
  "nbformat_minor": 0,
  "metadata": {
    "colab": {
      "provenance": []
    },
    "kernelspec": {
      "name": "python3",
      "display_name": "Python 3"
    },
    "language_info": {
      "name": "python"
    }
  },
  "cells": [
    {
      "cell_type": "code",
      "execution_count": 3,
      "metadata": {
        "colab": {
          "base_uri": "https://localhost:8080/"
        },
        "id": "Xq-2CsMVzwA6",
        "outputId": "f4a09da8-d72c-46a7-a043-90afd9197170"
      },
      "outputs": [
        {
          "output_type": "stream",
          "name": "stdout",
          "text": [
            "Looking in indexes: https://pypi.org/simple, https://us-python.pkg.dev/colab-wheels/public/simple/\n",
            "Collecting fasttext\n",
            "  Downloading fasttext-0.9.2.tar.gz (68 kB)\n",
            "\u001b[2K     \u001b[90m━━━━━━━━━━━━━━━━━━━━━━━━━━━━━━━━━━━━━━━━\u001b[0m \u001b[32m68.8/68.8 kB\u001b[0m \u001b[31m2.7 MB/s\u001b[0m eta \u001b[36m0:00:00\u001b[0m\n",
            "\u001b[?25h  Preparing metadata (setup.py) ... \u001b[?25l\u001b[?25hdone\n",
            "Collecting pybind11>=2.2 (from fasttext)\n",
            "  Using cached pybind11-2.10.4-py3-none-any.whl (222 kB)\n",
            "Requirement already satisfied: setuptools>=0.7.0 in /usr/local/lib/python3.10/dist-packages (from fasttext) (67.7.2)\n",
            "Requirement already satisfied: numpy in /usr/local/lib/python3.10/dist-packages (from fasttext) (1.22.4)\n",
            "Building wheels for collected packages: fasttext\n",
            "  Building wheel for fasttext (setup.py) ... \u001b[?25l\u001b[?25hdone\n",
            "  Created wheel for fasttext: filename=fasttext-0.9.2-cp310-cp310-linux_x86_64.whl size=4393167 sha256=fd359e3955caf10bc30203049fd119cd7b49b9f5b57e5ab30578256ed979f63e\n",
            "  Stored in directory: /root/.cache/pip/wheels/a5/13/75/f811c84a8ab36eedbaef977a6a58a98990e8e0f1967f98f394\n",
            "Successfully built fasttext\n",
            "Installing collected packages: pybind11, fasttext\n",
            "Successfully installed fasttext-0.9.2 pybind11-2.10.4\n"
          ]
        }
      ],
      "source": [
        "!pip install fasttext"
      ]
    },
    {
      "cell_type": "code",
      "source": [
        "!pip install PyPDF2"
      ],
      "metadata": {
        "colab": {
          "base_uri": "https://localhost:8080/"
        },
        "id": "C_Oa-74A1xrh",
        "outputId": "4aeab26b-d1f2-448f-854b-f78305b3faaf"
      },
      "execution_count": 4,
      "outputs": [
        {
          "output_type": "stream",
          "name": "stdout",
          "text": [
            "Looking in indexes: https://pypi.org/simple, https://us-python.pkg.dev/colab-wheels/public/simple/\n",
            "Collecting PyPDF2\n",
            "  Downloading pypdf2-3.0.1-py3-none-any.whl (232 kB)\n",
            "\u001b[2K     \u001b[90m━━━━━━━━━━━━━━━━━━━━━━━━━━━━━━━━━━━━━━━\u001b[0m \u001b[32m232.6/232.6 kB\u001b[0m \u001b[31m4.2 MB/s\u001b[0m eta \u001b[36m0:00:00\u001b[0m\n",
            "\u001b[?25hInstalling collected packages: PyPDF2\n",
            "Successfully installed PyPDF2-3.0.1\n"
          ]
        }
      ]
    },
    {
      "cell_type": "code",
      "source": [
        "!pip install pdfplumber"
      ],
      "metadata": {
        "colab": {
          "base_uri": "https://localhost:8080/",
          "height": 524
        },
        "id": "YvduIqx717bd",
        "outputId": "322d546b-4c6b-4902-e327-d85a41978ffd"
      },
      "execution_count": 5,
      "outputs": [
        {
          "output_type": "stream",
          "name": "stdout",
          "text": [
            "Looking in indexes: https://pypi.org/simple, https://us-python.pkg.dev/colab-wheels/public/simple/\n",
            "Collecting pdfplumber\n",
            "  Downloading pdfplumber-0.9.0-py3-none-any.whl (46 kB)\n",
            "\u001b[2K     \u001b[90m━━━━━━━━━━━━━━━━━━━━━━━━━━━━━━━━━━━━━━━━\u001b[0m \u001b[32m46.1/46.1 kB\u001b[0m \u001b[31m1.7 MB/s\u001b[0m eta \u001b[36m0:00:00\u001b[0m\n",
            "\u001b[?25hCollecting pdfminer.six==20221105 (from pdfplumber)\n",
            "  Downloading pdfminer.six-20221105-py3-none-any.whl (5.6 MB)\n",
            "\u001b[2K     \u001b[90m━━━━━━━━━━━━━━━━━━━━━━━━━━━━━━━━━━━━━━━━\u001b[0m \u001b[32m5.6/5.6 MB\u001b[0m \u001b[31m46.5 MB/s\u001b[0m eta \u001b[36m0:00:00\u001b[0m\n",
            "\u001b[?25hCollecting Pillow>=9.1 (from pdfplumber)\n",
            "  Downloading Pillow-9.5.0-cp310-cp310-manylinux_2_28_x86_64.whl (3.4 MB)\n",
            "\u001b[2K     \u001b[90m━━━━━━━━━━━━━━━━━━━━━━━━━━━━━━━━━━━━━━━━\u001b[0m \u001b[32m3.4/3.4 MB\u001b[0m \u001b[31m92.7 MB/s\u001b[0m eta \u001b[36m0:00:00\u001b[0m\n",
            "\u001b[?25hCollecting Wand>=0.6.10 (from pdfplumber)\n",
            "  Downloading Wand-0.6.11-py2.py3-none-any.whl (143 kB)\n",
            "\u001b[2K     \u001b[90m━━━━━━━━━━━━━━━━━━━━━━━━━━━━━━━━━━━━━━\u001b[0m \u001b[32m143.6/143.6 kB\u001b[0m \u001b[31m15.4 MB/s\u001b[0m eta \u001b[36m0:00:00\u001b[0m\n",
            "\u001b[?25hRequirement already satisfied: charset-normalizer>=2.0.0 in /usr/local/lib/python3.10/dist-packages (from pdfminer.six==20221105->pdfplumber) (2.0.12)\n",
            "Requirement already satisfied: cryptography>=36.0.0 in /usr/local/lib/python3.10/dist-packages (from pdfminer.six==20221105->pdfplumber) (40.0.2)\n",
            "Requirement already satisfied: cffi>=1.12 in /usr/local/lib/python3.10/dist-packages (from cryptography>=36.0.0->pdfminer.six==20221105->pdfplumber) (1.15.1)\n",
            "Requirement already satisfied: pycparser in /usr/local/lib/python3.10/dist-packages (from cffi>=1.12->cryptography>=36.0.0->pdfminer.six==20221105->pdfplumber) (2.21)\n",
            "Installing collected packages: Wand, Pillow, pdfminer.six, pdfplumber\n",
            "  Attempting uninstall: Pillow\n",
            "    Found existing installation: Pillow 8.4.0\n",
            "    Uninstalling Pillow-8.4.0:\n",
            "      Successfully uninstalled Pillow-8.4.0\n",
            "Successfully installed Pillow-9.5.0 Wand-0.6.11 pdfminer.six-20221105 pdfplumber-0.9.0\n"
          ]
        },
        {
          "output_type": "display_data",
          "data": {
            "application/vnd.colab-display-data+json": {
              "pip_warning": {
                "packages": [
                  "PIL"
                ]
              }
            }
          },
          "metadata": {}
        }
      ]
    },
    {
      "cell_type": "code",
      "source": [
        "import fasttext\n",
        "import PyPDF2, pdfplumber\n",
        "import fastai\n",
        "import nltk\n",
        "import numpy as np # linear algebra\n",
        "import pandas as pd # data processing, CSV file I/O (e.g. pd.read_csv)\n",
        "import os\n",
        "import csv\n",
        "from nltk.tokenize import word_tokenize\n",
        "from nltk.corpus import stopwords"
      ],
      "metadata": {
        "id": "dKBDCEg80Dro"
      },
      "execution_count": 6,
      "outputs": []
    },
    {
      "cell_type": "code",
      "source": [
        "from google.colab import drive\n",
        "drive.mount('/content/drive')\n",
        "CV ='/content/drive/My Drive/Colab Notebooks/cc.fr.300.bin'"
      ],
      "metadata": {
        "id": "sRZ6aV5zr2VW",
        "colab": {
          "base_uri": "https://localhost:8080/"
        },
        "outputId": "c9a42b19-a234-4779-e547-5365f56b035d"
      },
      "execution_count": 7,
      "outputs": [
        {
          "output_type": "stream",
          "name": "stdout",
          "text": [
            "Mounted at /content/drive\n"
          ]
        }
      ]
    },
    {
      "cell_type": "code",
      "source": [
        "ft_model = fasttext.load_model(CV)"
      ],
      "metadata": {
        "colab": {
          "base_uri": "https://localhost:8080/"
        },
        "id": "qmYiP-xu0VkS",
        "outputId": "225c8172-0b6f-44f5-dcd2-112dd876bb01"
      },
      "execution_count": 8,
      "outputs": [
        {
          "output_type": "stream",
          "name": "stderr",
          "text": [
            "Warning : `load_model` does not return WordVectorModel or SupervisedModel any more, but a `FastText` object which is very similar.\n"
          ]
        }
      ]
    },
    {
      "cell_type": "code",
      "source": [
        "data_dir= '/content/drive/My Drive/Colab Notebooks/CV'"
      ],
      "metadata": {
        "id": "3Wna0yqwrL6A"
      },
      "execution_count": 9,
      "outputs": []
    },
    {
      "cell_type": "code",
      "source": [
        "def WordSimilarity(word1, word2): \n",
        "   embedding1 = ft_model.get_word_vector(word1)\n",
        "   embedding2 = ft_model.get_word_vector(word2)\n",
        "   # Compute the cosine similarity between the embeddings\n",
        "   similarity_score = np.dot(embedding1, embedding2) / (np.linalg.norm(embedding1) * np.linalg.norm(embedding2))\n",
        "  # print(f\"Similarity between {word1} and {word2}: {similarity_score:.2f}\")\n",
        "   return similarity_score"
      ],
      "metadata": {
        "id": "Mcnlmd650V5z"
      },
      "execution_count": 10,
      "outputs": []
    },
    {
      "cell_type": "code",
      "source": [
        "def Similarity(present_skills, post_skills):\n",
        "    \n",
        "  n=0\n",
        "  \n",
        "  for x in present_skills:\n",
        "     List=[]\n",
        "     for y in post_skills:\n",
        "        b= WordSimilarity(x,y)\n",
        "        List.append(b)\n",
        "        a=max(List)\n",
        "     if   a>= 0.5:\n",
        "            n=n+1\n",
        "     elif a<0.5 and a>= 0.4:\n",
        "            n=n+0.5\n",
        "     else:\n",
        "            n=n+0\n",
        "  similarity= n*100/len(post_skills)\n",
        "  return similarity"
      ],
      "metadata": {
        "id": "bGCZDMPv0WMF"
      },
      "execution_count": 11,
      "outputs": []
    },
    {
      "cell_type": "code",
      "source": [
        "CV=r\"/content/drive/My Drive/Colab Notebooks/CV/cv_sam.pdf\""
      ],
      "metadata": {
        "id": "lRErnulr0WVq"
      },
      "execution_count": 14,
      "outputs": []
    },
    {
      "cell_type": "code",
      "source": [
        "CV_File=open(CV,'rb')\n",
        "Script=PyPDF2.PdfReader(CV_File)\n",
        "pages = len(Script.pages)"
      ],
      "metadata": {
        "id": "3ulWNQYUzFJA"
      },
      "execution_count": 15,
      "outputs": []
    },
    {
      "cell_type": "code",
      "source": [
        "Script = []\n",
        "with pdfplumber.open(CV_File) as pdf:\n",
        "    for i in range (0,pages):\n",
        "        page=pdf.pages[i]\n",
        "        text=page.extract_text()\n",
        "        print (text)\n",
        "        Script.append(text)"
      ],
      "metadata": {
        "id": "HyGy1Izi0ldq",
        "colab": {
          "base_uri": "https://localhost:8080/"
        },
        "outputId": "50d52837-f804-4f5e-cb96-3b0f8f90957d"
      },
      "execution_count": 16,
      "outputs": [
        {
          "output_type": "stream",
          "name": "stdout",
          "text": [
            "PROFIL\n",
            "YAO SAMUEL\n",
            "Étudiant en 3ème année de licence en\n",
            "Né le 02/04/2002 systèmes réseaux informatiques et\n",
            "télécommunications. Créatif, passionné d’\n",
            "intelligence artificielle et d’électronique, j'ai\n",
            "toujours eu le goût pour l'apprentissage .\n",
            "COORDONEES\n",
            "COORDONEES\n",
            "FORMATION\n",
            "01 40957145\n",
            "Treichville Avenue 21 Rue 15\n",
            " Depuis 2020\n",
            "Samuelyao107@gmail.com\n",
            "Licence en Systèmes Réseaux\n",
            "Informatiques et Télécommunications à\n",
            "ESATIC\n",
            "COMPETENCE\n",
            " 2021-2022\n",
            "S\n",
            "Certification Développement web\n",
            "PYTHON  2020-2021\n",
            "ANGLAIS\n",
            "Certifié ICDL (International Certification\n",
            "of Digital Literacy)\n",
            "Raspberry Pi\n",
            " 2019-2020\n",
            "Obtention du BAC C au Lycée Moderne\n",
            "de Soubré\n",
            "ARDPYUTINHOO N\n",
            "EXPERIENCE\n",
            "MACHINE LEARNING\n",
            " Réalisation d’une application\n",
            "ARDUINO utilisant la vision par ordinateur\n",
            "ANACONDA\n",
            "pour la réconnaissance de\n",
            "monuments ivoiriens\n",
            " Réalisation d’une application de\n",
            "parking intelligent utilisant la\n",
            "ANGLAIS\n",
            "ANALYSE DE DONNEES vision par ordinateur pour la\n",
            "réconnaissance des plaques\n",
            "d’immatriculation.\n",
            "\n"
          ]
        }
      ]
    },
    {
      "cell_type": "code",
      "source": [
        "Script= ' '.join(Script)# Transform string into list"
      ],
      "metadata": {
        "id": "nHAHgfbS0rEX"
      },
      "execution_count": 17,
      "outputs": []
    },
    {
      "cell_type": "code",
      "source": [
        "nltk.download('punkt')"
      ],
      "metadata": {
        "id": "-q_az_Zj3SjI",
        "colab": {
          "base_uri": "https://localhost:8080/"
        },
        "outputId": "a8c504f6-c6b3-4235-de29-94ac5547971c"
      },
      "execution_count": 18,
      "outputs": [
        {
          "output_type": "stream",
          "name": "stderr",
          "text": [
            "[nltk_data] Downloading package punkt to /root/nltk_data...\n",
            "[nltk_data]   Unzipping tokenizers/punkt.zip.\n"
          ]
        },
        {
          "output_type": "execute_result",
          "data": {
            "text/plain": [
              "True"
            ]
          },
          "metadata": {},
          "execution_count": 18
        }
      ]
    },
    {
      "cell_type": "code",
      "source": [
        "nltk.download('stopwords')\n",
        "\n",
        "\n",
        "text_tokens = word_tokenize(Script)\n",
        "\n",
        "tokens_without_sw = [word for word in text_tokens if not word in stopwords.words('french')]\n",
        "\n",
        "print(tokens_without_sw)\n",
        "Script = (\" \").join(tokens_without_sw)\n",
        "print(Script)"
      ],
      "metadata": {
        "id": "4vqhUU-Q0tTq",
        "colab": {
          "base_uri": "https://localhost:8080/"
        },
        "outputId": "154ad85d-891d-46fe-d46a-93b121971dce"
      },
      "execution_count": 19,
      "outputs": [
        {
          "output_type": "stream",
          "name": "stdout",
          "text": [
            "['PROFIL', 'YAO', 'SAMUEL', 'Étudiant', '3ème', 'année', 'licence', 'Né', '02/04/2002', 'systèmes', 'réseaux', 'informatiques', 'télécommunications', '.', 'Créatif', ',', 'passionné', '’', 'intelligence', 'artificielle', '’', 'électronique', ',', \"j'ai\", 'toujours', 'goût', \"l'apprentissage\", '.', 'COORDONEES', 'COORDONEES', 'FORMATION', '01', '40957145', 'Treichville', 'Avenue', '21', 'Rue', '15', '\\uf0b7', 'Depuis', '2020', 'Samuelyao107', '@', 'gmail.com', 'Licence', 'Systèmes', 'Réseaux', 'Informatiques', 'Télécommunications', 'ESATIC', 'COMPETENCE', '\\uf0b7', '2021-2022', 'S', 'Certification', 'Développement', 'web', 'PYTHON', '\\uf0b7', '2020-2021', 'ANGLAIS', 'Certifié', 'ICDL', '(', 'International', 'Certification', 'of', 'Digital', 'Literacy', ')', 'Raspberry', 'Pi', '\\uf0b7', '2019-2020', 'Obtention', 'BAC', 'C', 'Lycée', 'Moderne', 'Soubré', 'ARDPYUTINHOO', 'N', 'EXPERIENCE', 'MACHINE', 'LEARNING', '\\uf0b7', 'Réalisation', '’', 'application', 'ARDUINO', 'utilisant', 'vision', 'ordinateur', 'ANACONDA', 'réconnaissance', 'monuments', 'ivoiriens', '\\uf0b7', 'Réalisation', '’', 'application', 'parking', 'intelligent', 'utilisant', 'ANGLAIS', 'ANALYSE', 'DE', 'DONNEES', 'vision', 'ordinateur', 'réconnaissance', 'plaques', '’', 'immatriculation', '.']\n",
            "PROFIL YAO SAMUEL Étudiant 3ème année licence Né 02/04/2002 systèmes réseaux informatiques télécommunications . Créatif , passionné ’ intelligence artificielle ’ électronique , j'ai toujours goût l'apprentissage . COORDONEES COORDONEES FORMATION 01 40957145 Treichville Avenue 21 Rue 15  Depuis 2020 Samuelyao107 @ gmail.com Licence Systèmes Réseaux Informatiques Télécommunications ESATIC COMPETENCE  2021-2022 S Certification Développement web PYTHON  2020-2021 ANGLAIS Certifié ICDL ( International Certification of Digital Literacy ) Raspberry Pi  2019-2020 Obtention BAC C Lycée Moderne Soubré ARDPYUTINHOO N EXPERIENCE MACHINE LEARNING  Réalisation ’ application ARDUINO utilisant vision ordinateur ANACONDA réconnaissance monuments ivoiriens  Réalisation ’ application parking intelligent utilisant ANGLAIS ANALYSE DE DONNEES vision ordinateur réconnaissance plaques ’ immatriculation .\n"
          ]
        },
        {
          "output_type": "stream",
          "name": "stderr",
          "text": [
            "[nltk_data] Downloading package stopwords to /root/nltk_data...\n",
            "[nltk_data]   Unzipping corpora/stopwords.zip.\n"
          ]
        }
      ]
    },
    {
      "cell_type": "code",
      "source": [
        "Req=r\"/content/drive/My Drive/Colab Notebooks/OFFRE.pdf\""
      ],
      "metadata": {
        "id": "Vd_fTSkOK6qy"
      },
      "execution_count": 20,
      "outputs": []
    },
    {
      "cell_type": "code",
      "source": [
        "Req_File=open(Req,'rb')\n",
        "Script_Req=PyPDF2.PdfReader(Req_File)\n",
        "pages=len(Script_Req.pages)"
      ],
      "metadata": {
        "id": "x_vGI0ra0li0"
      },
      "execution_count": 21,
      "outputs": []
    },
    {
      "cell_type": "code",
      "source": [
        "Script_Req = []\n",
        "with pdfplumber.open(Req_File) as pdf:\n",
        "    for i in range (0,pages):\n",
        "        page=pdf.pages[i]\n",
        "        text=page.extract_text()\n",
        "        print (text)\n",
        "        Script_Req.append(text)"
      ],
      "metadata": {
        "id": "UJNpC6gH0zXy",
        "colab": {
          "base_uri": "https://localhost:8080/"
        },
        "outputId": "af5f95c0-4be1-4206-8d38-39a07399e3a8"
      },
      "execution_count": 22,
      "outputs": [
        {
          "output_type": "stream",
          "name": "stdout",
          "text": [
            "OFFRE D’EMPLOI : DÉVELOPPEUR(EUSE) WEB\n",
            "TÂCHES ET RESPONSABILITÉS PRINCIPALES\n",
            "• Développer le site Web ainsi que des services Web permettant l’affichage optimal et convivial des applications Web pour la diffusion\n",
            "de données scientifiques ;\n",
            "• Assurer la documentation et le développement des tests ;\n",
            "• Participer aux tâches relatives au support technique ;\n",
            "• Assurer une veille technologique continue.\n",
            "QUALIFICATIONS ESSENTIELLES\n",
            "ÉTUDES ET EXPÉRIENCE\n",
            "• Technique et/ou baccalauréat en informatique ou combinaison acceptable d’études, de formations et/ou d’expériences pertinentes.\n",
            "• Deux ans d’expérience en développement et intégration Web (comprenant programmation et maintenance).\n",
            "COMPÉTENCES TECHNIQUES\n",
            "• Connaissance des langages Web suivants : Javascript, Typescript, HTML5 et CSS ;\n",
            "• Connaissance de l’architecture MVC ;\n",
            "• Connaissance d’un langage de programmation orientée objet (ex. JAVA). Le candidat doit maîtriser les concepts et principes\n",
            "principaux ;\n",
            "• Connaissance d’un logiciel de gestion de versions (Git) ;\n",
            "• Connaissance des techniques de modélisation de données et des systèmes de gestion de bases de données relationnelles (SGBDR).\n",
            "COMPÉTENCES PERSONNELLES\n",
            "• Bonnes communications écrite et verbale en français et en anglais ;\n",
            "• Doit être à l'aise à travailler dans un environnement très dynamique ;\n",
            "• Excellente compétence en résolution de problèmes ;\n",
            "• Enthousiasme et capacité d'apprentissage rapide ;\n",
            "• Souci du détail ;\n",
            "• Initiative et autonomie ;\n",
            "• Excellent esprit d’équipe ;\n",
            "• Respect et bonnes relations interpersonnelles.\n",
            "CONNAISSANCES CONSTITUANT UN ATOUT\n",
            "• Connaissance d’Angular ;\n",
            "• Techniques de développement AGILE ;\n",
            "• Administration de serveurs PostgreSQL ;\n",
            "• CMS tel Joomla, Drupal ou Wordpress ;\n",
            "• Application IntelliJ IDE ;\n",
            "• Administration de serveurs Linux ;\n",
            "• Langage de programmation Python ;\n",
            "• Géomatique.\n",
            "AVANTAGES DE TRAVAILLER À L’OGSL\n",
            "• Bon esprit de cohésion au sein d’une équipe dynamique ;\n",
            "• Environnement de travail stimulant ;\n",
            "• Horaire flexible et conciliation travail-vie personnelle ;\n",
            "• Secteur innovant ;\n",
            "• Partenariats avec un réseau élargi d’acteurs au Canada et à l’international (différents paliers de gouvernements, organismes à but non\n",
            "lucratifs, réseaux universitaires, centres d’excellence, organisations autochtones, etc.) ;\n",
            "• Activités de perfectionnement et de formation ;\n",
            "• Situé sur le campus de l’UQAR :\n",
            "o Service des activités physiques et sportives (SAPS) ;\n",
            "o Centre de la petite enfance (garderie) ;\n",
            "o Plusieurs espaces verts ;\n",
            "o Terminus du transport en commun ;\n",
            "o Cafétéria ;\n",
            "• Capitale de la région du Bas-Saint-Laurent, Rimouski est une ville reconnue pour sa qualité de vie exceptionnelle, ainsi que pour la présence\n",
            "d’une communauté dynamique.\n"
          ]
        }
      ]
    },
    {
      "cell_type": "code",
      "source": [
        "Script_Req= ' '.join(Script_Req)# Transform string into list\n",
        "type(Script_Req)"
      ],
      "metadata": {
        "id": "LFIbEzTZ0zDJ",
        "colab": {
          "base_uri": "https://localhost:8080/"
        },
        "outputId": "9adcad4b-cef7-4b04-c3ae-6b1bab3b7587"
      },
      "execution_count": 23,
      "outputs": [
        {
          "output_type": "execute_result",
          "data": {
            "text/plain": [
              "str"
            ]
          },
          "metadata": {},
          "execution_count": 23
        }
      ]
    },
    {
      "cell_type": "code",
      "source": [
        "nltk.download('stopwords')\n",
        "text_tokens = word_tokenize(Script_Req.lower())\n",
        "\n",
        "tokens_without_sw = [word for word in text_tokens if not word in stopwords.words('french')]\n",
        "\n",
        "print(tokens_without_sw)\n",
        "Script_Req = (\" \").join(tokens_without_sw)\n",
        "print(Script_Req)"
      ],
      "metadata": {
        "id": "1ND0MHp70y4U",
        "colab": {
          "base_uri": "https://localhost:8080/"
        },
        "outputId": "b957a8bc-a10d-4fa2-c6e6-8e678d102d17"
      },
      "execution_count": 24,
      "outputs": [
        {
          "output_type": "stream",
          "name": "stdout",
          "text": [
            "['offre', '’', 'emploi', ':', 'développeur', '(', 'euse', ')', 'web', 'tâches', 'responsabilités', 'principales', '•', 'développer', 'site', 'web', 'ainsi', 'services', 'web', 'permettant', '’', 'affichage', 'optimal', 'convivial', 'applications', 'web', 'diffusion', 'données', 'scientifiques', ';', '•', 'assurer', 'documentation', 'développement', 'tests', ';', '•', 'participer', 'tâches', 'relatives', 'support', 'technique', ';', '•', 'assurer', 'veille', 'technologique', 'continue', '.', 'qualifications', 'essentielles', 'études', 'expérience', '•', 'technique', 'et/ou', 'baccalauréat', 'informatique', 'combinaison', 'acceptable', '’', 'études', ',', 'formations', 'et/ou', '’', 'expériences', 'pertinentes', '.', '•', 'deux', 'ans', '’', 'expérience', 'développement', 'intégration', 'web', '(', 'comprenant', 'programmation', 'maintenance', ')', '.', 'compétences', 'techniques', '•', 'connaissance', 'langages', 'web', 'suivants', ':', 'javascript', ',', 'typescript', ',', 'html5', 'css', ';', '•', 'connaissance', '’', 'architecture', 'mvc', ';', '•', 'connaissance', '’', 'langage', 'programmation', 'orientée', 'objet', '(', 'ex', '.', 'java', ')', '.', 'candidat', 'doit', 'maîtriser', 'concepts', 'principes', 'principaux', ';', '•', 'connaissance', '’', 'logiciel', 'gestion', 'versions', '(', 'git', ')', ';', '•', 'connaissance', 'techniques', 'modélisation', 'données', 'systèmes', 'gestion', 'bases', 'données', 'relationnelles', '(', 'sgbdr', ')', '.', 'compétences', 'personnelles', '•', 'bonnes', 'communications', 'écrite', 'verbale', 'français', 'anglais', ';', '•', 'doit', 'être', \"l'aise\", 'travailler', 'environnement', 'très', 'dynamique', ';', '•', 'excellente', 'compétence', 'résolution', 'problèmes', ';', '•', 'enthousiasme', 'capacité', \"d'apprentissage\", 'rapide', ';', '•', 'souci', 'détail', ';', '•', 'initiative', 'autonomie', ';', '•', 'excellent', 'esprit', '’', 'équipe', ';', '•', 'respect', 'bonnes', 'relations', 'interpersonnelles', '.', 'connaissances', 'constituant', 'atout', '•', 'connaissance', '’', 'angular', ';', '•', 'techniques', 'développement', 'agile', ';', '•', 'administration', 'serveurs', 'postgresql', ';', '•', 'cms', 'tel', 'joomla', ',', 'drupal', 'wordpress', ';', '•', 'application', 'intellij', 'ide', ';', '•', 'administration', 'serveurs', 'linux', ';', '•', 'langage', 'programmation', 'python', ';', '•', 'géomatique', '.', 'avantages', 'travailler', '’', 'ogsl', '•', 'bon', 'esprit', 'cohésion', 'sein', '’', 'équipe', 'dynamique', ';', '•', 'environnement', 'travail', 'stimulant', ';', '•', 'horaire', 'flexible', 'conciliation', 'travail-vie', 'personnelle', ';', '•', 'secteur', 'innovant', ';', '•', 'partenariats', 'réseau', 'élargi', '’', 'acteurs', 'canada', '’', 'international', '(', 'différents', 'paliers', 'gouvernements', ',', 'organismes', 'but', 'non', 'lucratifs', ',', 'réseaux', 'universitaires', ',', 'centres', '’', 'excellence', ',', 'organisations', 'autochtones', ',', 'etc', '.', ')', ';', '•', 'activités', 'perfectionnement', 'formation', ';', '•', 'situé', 'campus', '’', 'uqar', ':', 'o', 'service', 'activités', 'physiques', 'sportives', '(', 'saps', ')', ';', 'o', 'centre', 'petite', 'enfance', '(', 'garderie', ')', ';', 'o', 'plusieurs', 'espaces', 'verts', ';', 'o', 'terminus', 'transport', 'commun', ';', 'o', 'cafétéria', ';', '•', 'capitale', 'région', 'bas-saint-laurent', ',', 'rimouski', 'ville', 'reconnue', 'qualité', 'vie', 'exceptionnelle', ',', 'ainsi', 'présence', '’', 'communauté', 'dynamique', '.']\n",
            "offre ’ emploi : développeur ( euse ) web tâches responsabilités principales • développer site web ainsi services web permettant ’ affichage optimal convivial applications web diffusion données scientifiques ; • assurer documentation développement tests ; • participer tâches relatives support technique ; • assurer veille technologique continue . qualifications essentielles études expérience • technique et/ou baccalauréat informatique combinaison acceptable ’ études , formations et/ou ’ expériences pertinentes . • deux ans ’ expérience développement intégration web ( comprenant programmation maintenance ) . compétences techniques • connaissance langages web suivants : javascript , typescript , html5 css ; • connaissance ’ architecture mvc ; • connaissance ’ langage programmation orientée objet ( ex . java ) . candidat doit maîtriser concepts principes principaux ; • connaissance ’ logiciel gestion versions ( git ) ; • connaissance techniques modélisation données systèmes gestion bases données relationnelles ( sgbdr ) . compétences personnelles • bonnes communications écrite verbale français anglais ; • doit être l'aise travailler environnement très dynamique ; • excellente compétence résolution problèmes ; • enthousiasme capacité d'apprentissage rapide ; • souci détail ; • initiative autonomie ; • excellent esprit ’ équipe ; • respect bonnes relations interpersonnelles . connaissances constituant atout • connaissance ’ angular ; • techniques développement agile ; • administration serveurs postgresql ; • cms tel joomla , drupal wordpress ; • application intellij ide ; • administration serveurs linux ; • langage programmation python ; • géomatique . avantages travailler ’ ogsl • bon esprit cohésion sein ’ équipe dynamique ; • environnement travail stimulant ; • horaire flexible conciliation travail-vie personnelle ; • secteur innovant ; • partenariats réseau élargi ’ acteurs canada ’ international ( différents paliers gouvernements , organismes but non lucratifs , réseaux universitaires , centres ’ excellence , organisations autochtones , etc . ) ; • activités perfectionnement formation ; • situé campus ’ uqar : o service activités physiques sportives ( saps ) ; o centre petite enfance ( garderie ) ; o plusieurs espaces verts ; o terminus transport commun ; o cafétéria ; • capitale région bas-saint-laurent , rimouski ville reconnue qualité vie exceptionnelle , ainsi présence ’ communauté dynamique .\n"
          ]
        },
        {
          "output_type": "stream",
          "name": "stderr",
          "text": [
            "[nltk_data] Downloading package stopwords to /root/nltk_data...\n",
            "[nltk_data]   Package stopwords is already up-to-date!\n"
          ]
        }
      ]
    },
    {
      "cell_type": "code",
      "source": [
        "skills_def = pd.read_csv('/content/drive/My Drive/Colab Notebooks/competences.csv',header=0)"
      ],
      "metadata": {
        "id": "ubxtdNs10ys9"
      },
      "execution_count": 25,
      "outputs": []
    },
    {
      "cell_type": "code",
      "source": [
        "skills_def.head()"
      ],
      "metadata": {
        "id": "HSeuW3wV0yes",
        "colab": {
          "base_uri": "https://localhost:8080/",
          "height": 206
        },
        "outputId": "85be6d3b-665d-4ecf-ed75-ab67f2cd5397"
      },
      "execution_count": 26,
      "outputs": [
        {
          "output_type": "execute_result",
          "data": {
            "text/plain": [
              "                   etiquettes\n",
              "0                          3d\n",
              "1                          3d\n",
              "2           3d-reconstruction\n",
              "3                  importance\n",
              "4  type de données abstraites"
            ],
            "text/html": [
              "\n",
              "  <div id=\"df-4e780d48-7e9f-4fd4-a707-847f2359ba5c\">\n",
              "    <div class=\"colab-df-container\">\n",
              "      <div>\n",
              "<style scoped>\n",
              "    .dataframe tbody tr th:only-of-type {\n",
              "        vertical-align: middle;\n",
              "    }\n",
              "\n",
              "    .dataframe tbody tr th {\n",
              "        vertical-align: top;\n",
              "    }\n",
              "\n",
              "    .dataframe thead th {\n",
              "        text-align: right;\n",
              "    }\n",
              "</style>\n",
              "<table border=\"1\" class=\"dataframe\">\n",
              "  <thead>\n",
              "    <tr style=\"text-align: right;\">\n",
              "      <th></th>\n",
              "      <th>etiquettes</th>\n",
              "    </tr>\n",
              "  </thead>\n",
              "  <tbody>\n",
              "    <tr>\n",
              "      <th>0</th>\n",
              "      <td>3d</td>\n",
              "    </tr>\n",
              "    <tr>\n",
              "      <th>1</th>\n",
              "      <td>3d</td>\n",
              "    </tr>\n",
              "    <tr>\n",
              "      <th>2</th>\n",
              "      <td>3d-reconstruction</td>\n",
              "    </tr>\n",
              "    <tr>\n",
              "      <th>3</th>\n",
              "      <td>importance</td>\n",
              "    </tr>\n",
              "    <tr>\n",
              "      <th>4</th>\n",
              "      <td>type de données abstraites</td>\n",
              "    </tr>\n",
              "  </tbody>\n",
              "</table>\n",
              "</div>\n",
              "      <button class=\"colab-df-convert\" onclick=\"convertToInteractive('df-4e780d48-7e9f-4fd4-a707-847f2359ba5c')\"\n",
              "              title=\"Convert this dataframe to an interactive table.\"\n",
              "              style=\"display:none;\">\n",
              "        \n",
              "  <svg xmlns=\"http://www.w3.org/2000/svg\" height=\"24px\"viewBox=\"0 0 24 24\"\n",
              "       width=\"24px\">\n",
              "    <path d=\"M0 0h24v24H0V0z\" fill=\"none\"/>\n",
              "    <path d=\"M18.56 5.44l.94 2.06.94-2.06 2.06-.94-2.06-.94-.94-2.06-.94 2.06-2.06.94zm-11 1L8.5 8.5l.94-2.06 2.06-.94-2.06-.94L8.5 2.5l-.94 2.06-2.06.94zm10 10l.94 2.06.94-2.06 2.06-.94-2.06-.94-.94-2.06-.94 2.06-2.06.94z\"/><path d=\"M17.41 7.96l-1.37-1.37c-.4-.4-.92-.59-1.43-.59-.52 0-1.04.2-1.43.59L10.3 9.45l-7.72 7.72c-.78.78-.78 2.05 0 2.83L4 21.41c.39.39.9.59 1.41.59.51 0 1.02-.2 1.41-.59l7.78-7.78 2.81-2.81c.8-.78.8-2.07 0-2.86zM5.41 20L4 18.59l7.72-7.72 1.47 1.35L5.41 20z\"/>\n",
              "  </svg>\n",
              "      </button>\n",
              "      \n",
              "  <style>\n",
              "    .colab-df-container {\n",
              "      display:flex;\n",
              "      flex-wrap:wrap;\n",
              "      gap: 12px;\n",
              "    }\n",
              "\n",
              "    .colab-df-convert {\n",
              "      background-color: #E8F0FE;\n",
              "      border: none;\n",
              "      border-radius: 50%;\n",
              "      cursor: pointer;\n",
              "      display: none;\n",
              "      fill: #1967D2;\n",
              "      height: 32px;\n",
              "      padding: 0 0 0 0;\n",
              "      width: 32px;\n",
              "    }\n",
              "\n",
              "    .colab-df-convert:hover {\n",
              "      background-color: #E2EBFA;\n",
              "      box-shadow: 0px 1px 2px rgba(60, 64, 67, 0.3), 0px 1px 3px 1px rgba(60, 64, 67, 0.15);\n",
              "      fill: #174EA6;\n",
              "    }\n",
              "\n",
              "    [theme=dark] .colab-df-convert {\n",
              "      background-color: #3B4455;\n",
              "      fill: #D2E3FC;\n",
              "    }\n",
              "\n",
              "    [theme=dark] .colab-df-convert:hover {\n",
              "      background-color: #434B5C;\n",
              "      box-shadow: 0px 1px 3px 1px rgba(0, 0, 0, 0.15);\n",
              "      filter: drop-shadow(0px 1px 2px rgba(0, 0, 0, 0.3));\n",
              "      fill: #FFFFFF;\n",
              "    }\n",
              "  </style>\n",
              "\n",
              "      <script>\n",
              "        const buttonEl =\n",
              "          document.querySelector('#df-4e780d48-7e9f-4fd4-a707-847f2359ba5c button.colab-df-convert');\n",
              "        buttonEl.style.display =\n",
              "          google.colab.kernel.accessAllowed ? 'block' : 'none';\n",
              "\n",
              "        async function convertToInteractive(key) {\n",
              "          const element = document.querySelector('#df-4e780d48-7e9f-4fd4-a707-847f2359ba5c');\n",
              "          const dataTable =\n",
              "            await google.colab.kernel.invokeFunction('convertToInteractive',\n",
              "                                                     [key], {});\n",
              "          if (!dataTable) return;\n",
              "\n",
              "          const docLinkHtml = 'Like what you see? Visit the ' +\n",
              "            '<a target=\"_blank\" href=https://colab.research.google.com/notebooks/data_table.ipynb>data table notebook</a>'\n",
              "            + ' to learn more about interactive tables.';\n",
              "          element.innerHTML = '';\n",
              "          dataTable['output_type'] = 'display_data';\n",
              "          await google.colab.output.renderOutput(dataTable, element);\n",
              "          const docLink = document.createElement('div');\n",
              "          docLink.innerHTML = docLinkHtml;\n",
              "          element.appendChild(docLink);\n",
              "        }\n",
              "      </script>\n",
              "    </div>\n",
              "  </div>\n",
              "  "
            ]
          },
          "metadata": {},
          "execution_count": 26
        }
      ]
    },
    {
      "cell_type": "code",
      "source": [
        "skills_list = list(skills_def['etiquettes'])"
      ],
      "metadata": {
        "id": "58wlNh2909Zn"
      },
      "execution_count": 27,
      "outputs": []
    },
    {
      "cell_type": "code",
      "source": [
        "# Extraire les compétences présentes dans le cv\n",
        "present_skills = []\n",
        "for skill in skills_list:\n",
        "    if skill.lower() in Script.lower():\n",
        "        present_skills.append(skill)\n",
        "present_skills = list(set(present_skills))"
      ],
      "metadata": {
        "id": "J_cNaQPR09WK"
      },
      "execution_count": 28,
      "outputs": []
    },
    {
      "cell_type": "code",
      "source": [
        "# Afficher les compétences présentes\n",
        "print(present_skills)"
      ],
      "metadata": {
        "id": "TtBY5frw09S1",
        "colab": {
          "base_uri": "https://localhost:8080/"
        },
        "outputId": "df6e1196-abdf-4ba1-dc98-524ea8543b1c"
      },
      "execution_count": 29,
      "outputs": [
        {
          "output_type": "stream",
          "name": "stdout",
          "text": [
            "['python', 'git', 'r', 'développement web', 'communications', 'c', 'électron', 'arduino', 'f', 'fil', 'intelligence artificielle']\n"
          ]
        }
      ]
    },
    {
      "cell_type": "code",
      "source": [],
      "metadata": {
        "id": "Lix1wK_uN05a"
      },
      "execution_count": 29,
      "outputs": []
    },
    {
      "cell_type": "code",
      "source": [
        "#Extraire les compétences présentes dans la fiche de poste\n",
        "post_skills = []\n",
        "for skill in skills_list:\n",
        "    if skill.lower() in Script_Req.lower():\n",
        "        post_skills.append(skill)\n",
        "post_skills = list(set(post_skills))"
      ],
      "metadata": {
        "id": "Yuij8gbI09QS"
      },
      "execution_count": 30,
      "outputs": []
    },
    {
      "cell_type": "code",
      "source": [
        "print(post_skills)\n",
        "Script_Req"
      ],
      "metadata": {
        "id": "h9HBsw0w09Nj",
        "colab": {
          "base_uri": "https://localhost:8080/",
          "height": 165
        },
        "outputId": "01d032d8-59bb-4a46-dffb-91ceaf39d954"
      },
      "execution_count": 31,
      "outputs": [
        {
          "output_type": "stream",
          "name": "stdout",
          "text": [
            "['python', 'communications', 'logiciel', 'wordpress', 'sql', 'git', 'mvc', 'avantages', 'rapide', 'serveur', 'html', 'postgresql', 'javascript', 'api', 'modélisation', 'dyn', 'programmation orientée objet', 'site web', 'fusion', 'java', 'drupal', 'r', 'ava', 'diffusion', 'c', 'css', 'f', 'linux']\n"
          ]
        },
        {
          "output_type": "execute_result",
          "data": {
            "text/plain": [
              "\"offre ’ emploi : développeur ( euse ) web tâches responsabilités principales • développer site web ainsi services web permettant ’ affichage optimal convivial applications web diffusion données scientifiques ; • assurer documentation développement tests ; • participer tâches relatives support technique ; • assurer veille technologique continue . qualifications essentielles études expérience • technique et/ou baccalauréat informatique combinaison acceptable ’ études , formations et/ou ’ expériences pertinentes . • deux ans ’ expérience développement intégration web ( comprenant programmation maintenance ) . compétences techniques • connaissance langages web suivants : javascript , typescript , html5 css ; • connaissance ’ architecture mvc ; • connaissance ’ langage programmation orientée objet ( ex . java ) . candidat doit maîtriser concepts principes principaux ; • connaissance ’ logiciel gestion versions ( git ) ; • connaissance techniques modélisation données systèmes gestion bases données relationnelles ( sgbdr ) . compétences personnelles • bonnes communications écrite verbale français anglais ; • doit être l'aise travailler environnement très dynamique ; • excellente compétence résolution problèmes ; • enthousiasme capacité d'apprentissage rapide ; • souci détail ; • initiative autonomie ; • excellent esprit ’ équipe ; • respect bonnes relations interpersonnelles . connaissances constituant atout • connaissance ’ angular ; • techniques développement agile ; • administration serveurs postgresql ; • cms tel joomla , drupal wordpress ; • application intellij ide ; • administration serveurs linux ; • langage programmation python ; • géomatique . avantages travailler ’ ogsl • bon esprit cohésion sein ’ équipe dynamique ; • environnement travail stimulant ; • horaire flexible conciliation travail-vie personnelle ; • secteur innovant ; • partenariats réseau élargi ’ acteurs canada ’ international ( différents paliers gouvernements , organismes but non lucratifs , réseaux universitaires , centres ’ excellence , organisations autochtones , etc . ) ; • activités perfectionnement formation ; • situé campus ’ uqar : o service activités physiques sportives ( saps ) ; o centre petite enfance ( garderie ) ; o plusieurs espaces verts ; o terminus transport commun ; o cafétéria ; • capitale région bas-saint-laurent , rimouski ville reconnue qualité vie exceptionnelle , ainsi présence ’ communauté dynamique .\""
            ],
            "application/vnd.google.colaboratory.intrinsic+json": {
              "type": "string"
            }
          },
          "metadata": {},
          "execution_count": 31
        }
      ]
    },
    {
      "cell_type": "code",
      "source": [
        "domaines = pd.read_csv('/content/drive/My Drive/Colab Notebooks/Domaines.csv',header=0)\n",
        "diplomes = pd.read_csv('/content/drive/My Drive/Colab Notebooks/Diplomes.csv',header=0)"
      ],
      "metadata": {
        "id": "KQzSmOHC09I_"
      },
      "execution_count": 32,
      "outputs": []
    },
    {
      "cell_type": "code",
      "source": [
        "diplomes_list = list(diplomes['Diplome'])\n",
        "domaines_list = list(domaines['domaine'])"
      ],
      "metadata": {
        "id": "-ZQASeP81K0e"
      },
      "execution_count": 33,
      "outputs": []
    },
    {
      "cell_type": "code",
      "source": [
        "domaines.head()"
      ],
      "metadata": {
        "id": "PYPjNMjs1Kq4",
        "colab": {
          "base_uri": "https://localhost:8080/",
          "height": 206
        },
        "outputId": "49e575bc-c8a8-41f3-b8a2-94a6cd390b7a"
      },
      "execution_count": 34,
      "outputs": [
        {
          "output_type": "execute_result",
          "data": {
            "text/plain": [
              "                                     domaine\n",
              "0  design et innovation pour l'environnement\n",
              "1                                scénographe\n",
              "2                           architecte naval\n",
              "3    architecture et patrimoine contemporain\n",
              "4    management des projets urbains durables"
            ],
            "text/html": [
              "\n",
              "  <div id=\"df-a0938cba-2ae3-446d-974a-41ed1cf07eab\">\n",
              "    <div class=\"colab-df-container\">\n",
              "      <div>\n",
              "<style scoped>\n",
              "    .dataframe tbody tr th:only-of-type {\n",
              "        vertical-align: middle;\n",
              "    }\n",
              "\n",
              "    .dataframe tbody tr th {\n",
              "        vertical-align: top;\n",
              "    }\n",
              "\n",
              "    .dataframe thead th {\n",
              "        text-align: right;\n",
              "    }\n",
              "</style>\n",
              "<table border=\"1\" class=\"dataframe\">\n",
              "  <thead>\n",
              "    <tr style=\"text-align: right;\">\n",
              "      <th></th>\n",
              "      <th>domaine</th>\n",
              "    </tr>\n",
              "  </thead>\n",
              "  <tbody>\n",
              "    <tr>\n",
              "      <th>0</th>\n",
              "      <td>design et innovation pour l'environnement</td>\n",
              "    </tr>\n",
              "    <tr>\n",
              "      <th>1</th>\n",
              "      <td>scénographe</td>\n",
              "    </tr>\n",
              "    <tr>\n",
              "      <th>2</th>\n",
              "      <td>architecte naval</td>\n",
              "    </tr>\n",
              "    <tr>\n",
              "      <th>3</th>\n",
              "      <td>architecture et patrimoine contemporain</td>\n",
              "    </tr>\n",
              "    <tr>\n",
              "      <th>4</th>\n",
              "      <td>management des projets urbains durables</td>\n",
              "    </tr>\n",
              "  </tbody>\n",
              "</table>\n",
              "</div>\n",
              "      <button class=\"colab-df-convert\" onclick=\"convertToInteractive('df-a0938cba-2ae3-446d-974a-41ed1cf07eab')\"\n",
              "              title=\"Convert this dataframe to an interactive table.\"\n",
              "              style=\"display:none;\">\n",
              "        \n",
              "  <svg xmlns=\"http://www.w3.org/2000/svg\" height=\"24px\"viewBox=\"0 0 24 24\"\n",
              "       width=\"24px\">\n",
              "    <path d=\"M0 0h24v24H0V0z\" fill=\"none\"/>\n",
              "    <path d=\"M18.56 5.44l.94 2.06.94-2.06 2.06-.94-2.06-.94-.94-2.06-.94 2.06-2.06.94zm-11 1L8.5 8.5l.94-2.06 2.06-.94-2.06-.94L8.5 2.5l-.94 2.06-2.06.94zm10 10l.94 2.06.94-2.06 2.06-.94-2.06-.94-.94-2.06-.94 2.06-2.06.94z\"/><path d=\"M17.41 7.96l-1.37-1.37c-.4-.4-.92-.59-1.43-.59-.52 0-1.04.2-1.43.59L10.3 9.45l-7.72 7.72c-.78.78-.78 2.05 0 2.83L4 21.41c.39.39.9.59 1.41.59.51 0 1.02-.2 1.41-.59l7.78-7.78 2.81-2.81c.8-.78.8-2.07 0-2.86zM5.41 20L4 18.59l7.72-7.72 1.47 1.35L5.41 20z\"/>\n",
              "  </svg>\n",
              "      </button>\n",
              "      \n",
              "  <style>\n",
              "    .colab-df-container {\n",
              "      display:flex;\n",
              "      flex-wrap:wrap;\n",
              "      gap: 12px;\n",
              "    }\n",
              "\n",
              "    .colab-df-convert {\n",
              "      background-color: #E8F0FE;\n",
              "      border: none;\n",
              "      border-radius: 50%;\n",
              "      cursor: pointer;\n",
              "      display: none;\n",
              "      fill: #1967D2;\n",
              "      height: 32px;\n",
              "      padding: 0 0 0 0;\n",
              "      width: 32px;\n",
              "    }\n",
              "\n",
              "    .colab-df-convert:hover {\n",
              "      background-color: #E2EBFA;\n",
              "      box-shadow: 0px 1px 2px rgba(60, 64, 67, 0.3), 0px 1px 3px 1px rgba(60, 64, 67, 0.15);\n",
              "      fill: #174EA6;\n",
              "    }\n",
              "\n",
              "    [theme=dark] .colab-df-convert {\n",
              "      background-color: #3B4455;\n",
              "      fill: #D2E3FC;\n",
              "    }\n",
              "\n",
              "    [theme=dark] .colab-df-convert:hover {\n",
              "      background-color: #434B5C;\n",
              "      box-shadow: 0px 1px 3px 1px rgba(0, 0, 0, 0.15);\n",
              "      filter: drop-shadow(0px 1px 2px rgba(0, 0, 0, 0.3));\n",
              "      fill: #FFFFFF;\n",
              "    }\n",
              "  </style>\n",
              "\n",
              "      <script>\n",
              "        const buttonEl =\n",
              "          document.querySelector('#df-a0938cba-2ae3-446d-974a-41ed1cf07eab button.colab-df-convert');\n",
              "        buttonEl.style.display =\n",
              "          google.colab.kernel.accessAllowed ? 'block' : 'none';\n",
              "\n",
              "        async function convertToInteractive(key) {\n",
              "          const element = document.querySelector('#df-a0938cba-2ae3-446d-974a-41ed1cf07eab');\n",
              "          const dataTable =\n",
              "            await google.colab.kernel.invokeFunction('convertToInteractive',\n",
              "                                                     [key], {});\n",
              "          if (!dataTable) return;\n",
              "\n",
              "          const docLinkHtml = 'Like what you see? Visit the ' +\n",
              "            '<a target=\"_blank\" href=https://colab.research.google.com/notebooks/data_table.ipynb>data table notebook</a>'\n",
              "            + ' to learn more about interactive tables.';\n",
              "          element.innerHTML = '';\n",
              "          dataTable['output_type'] = 'display_data';\n",
              "          await google.colab.output.renderOutput(dataTable, element);\n",
              "          const docLink = document.createElement('div');\n",
              "          docLink.innerHTML = docLinkHtml;\n",
              "          element.appendChild(docLink);\n",
              "        }\n",
              "      </script>\n",
              "    </div>\n",
              "  </div>\n",
              "  "
            ]
          },
          "metadata": {},
          "execution_count": 34
        }
      ]
    },
    {
      "cell_type": "code",
      "source": [
        "diplomes.head()"
      ],
      "metadata": {
        "id": "UlBWPRTt1KgK",
        "colab": {
          "base_uri": "https://localhost:8080/",
          "height": 206
        },
        "outputId": "e8f21f7f-2833-4590-9307-973759857e07"
      },
      "execution_count": 35,
      "outputs": [
        {
          "output_type": "execute_result",
          "data": {
            "text/plain": [
              "    Diplome\n",
              "0   Licence\n",
              "1    Master\n",
              "2  Doctorat\n",
              "3       Phd\n",
              "4       DEA"
            ],
            "text/html": [
              "\n",
              "  <div id=\"df-f7121f28-74b5-4355-b068-5c0874427a23\">\n",
              "    <div class=\"colab-df-container\">\n",
              "      <div>\n",
              "<style scoped>\n",
              "    .dataframe tbody tr th:only-of-type {\n",
              "        vertical-align: middle;\n",
              "    }\n",
              "\n",
              "    .dataframe tbody tr th {\n",
              "        vertical-align: top;\n",
              "    }\n",
              "\n",
              "    .dataframe thead th {\n",
              "        text-align: right;\n",
              "    }\n",
              "</style>\n",
              "<table border=\"1\" class=\"dataframe\">\n",
              "  <thead>\n",
              "    <tr style=\"text-align: right;\">\n",
              "      <th></th>\n",
              "      <th>Diplome</th>\n",
              "    </tr>\n",
              "  </thead>\n",
              "  <tbody>\n",
              "    <tr>\n",
              "      <th>0</th>\n",
              "      <td>Licence</td>\n",
              "    </tr>\n",
              "    <tr>\n",
              "      <th>1</th>\n",
              "      <td>Master</td>\n",
              "    </tr>\n",
              "    <tr>\n",
              "      <th>2</th>\n",
              "      <td>Doctorat</td>\n",
              "    </tr>\n",
              "    <tr>\n",
              "      <th>3</th>\n",
              "      <td>Phd</td>\n",
              "    </tr>\n",
              "    <tr>\n",
              "      <th>4</th>\n",
              "      <td>DEA</td>\n",
              "    </tr>\n",
              "  </tbody>\n",
              "</table>\n",
              "</div>\n",
              "      <button class=\"colab-df-convert\" onclick=\"convertToInteractive('df-f7121f28-74b5-4355-b068-5c0874427a23')\"\n",
              "              title=\"Convert this dataframe to an interactive table.\"\n",
              "              style=\"display:none;\">\n",
              "        \n",
              "  <svg xmlns=\"http://www.w3.org/2000/svg\" height=\"24px\"viewBox=\"0 0 24 24\"\n",
              "       width=\"24px\">\n",
              "    <path d=\"M0 0h24v24H0V0z\" fill=\"none\"/>\n",
              "    <path d=\"M18.56 5.44l.94 2.06.94-2.06 2.06-.94-2.06-.94-.94-2.06-.94 2.06-2.06.94zm-11 1L8.5 8.5l.94-2.06 2.06-.94-2.06-.94L8.5 2.5l-.94 2.06-2.06.94zm10 10l.94 2.06.94-2.06 2.06-.94-2.06-.94-.94-2.06-.94 2.06-2.06.94z\"/><path d=\"M17.41 7.96l-1.37-1.37c-.4-.4-.92-.59-1.43-.59-.52 0-1.04.2-1.43.59L10.3 9.45l-7.72 7.72c-.78.78-.78 2.05 0 2.83L4 21.41c.39.39.9.59 1.41.59.51 0 1.02-.2 1.41-.59l7.78-7.78 2.81-2.81c.8-.78.8-2.07 0-2.86zM5.41 20L4 18.59l7.72-7.72 1.47 1.35L5.41 20z\"/>\n",
              "  </svg>\n",
              "      </button>\n",
              "      \n",
              "  <style>\n",
              "    .colab-df-container {\n",
              "      display:flex;\n",
              "      flex-wrap:wrap;\n",
              "      gap: 12px;\n",
              "    }\n",
              "\n",
              "    .colab-df-convert {\n",
              "      background-color: #E8F0FE;\n",
              "      border: none;\n",
              "      border-radius: 50%;\n",
              "      cursor: pointer;\n",
              "      display: none;\n",
              "      fill: #1967D2;\n",
              "      height: 32px;\n",
              "      padding: 0 0 0 0;\n",
              "      width: 32px;\n",
              "    }\n",
              "\n",
              "    .colab-df-convert:hover {\n",
              "      background-color: #E2EBFA;\n",
              "      box-shadow: 0px 1px 2px rgba(60, 64, 67, 0.3), 0px 1px 3px 1px rgba(60, 64, 67, 0.15);\n",
              "      fill: #174EA6;\n",
              "    }\n",
              "\n",
              "    [theme=dark] .colab-df-convert {\n",
              "      background-color: #3B4455;\n",
              "      fill: #D2E3FC;\n",
              "    }\n",
              "\n",
              "    [theme=dark] .colab-df-convert:hover {\n",
              "      background-color: #434B5C;\n",
              "      box-shadow: 0px 1px 3px 1px rgba(0, 0, 0, 0.15);\n",
              "      filter: drop-shadow(0px 1px 2px rgba(0, 0, 0, 0.3));\n",
              "      fill: #FFFFFF;\n",
              "    }\n",
              "  </style>\n",
              "\n",
              "      <script>\n",
              "        const buttonEl =\n",
              "          document.querySelector('#df-f7121f28-74b5-4355-b068-5c0874427a23 button.colab-df-convert');\n",
              "        buttonEl.style.display =\n",
              "          google.colab.kernel.accessAllowed ? 'block' : 'none';\n",
              "\n",
              "        async function convertToInteractive(key) {\n",
              "          const element = document.querySelector('#df-f7121f28-74b5-4355-b068-5c0874427a23');\n",
              "          const dataTable =\n",
              "            await google.colab.kernel.invokeFunction('convertToInteractive',\n",
              "                                                     [key], {});\n",
              "          if (!dataTable) return;\n",
              "\n",
              "          const docLinkHtml = 'Like what you see? Visit the ' +\n",
              "            '<a target=\"_blank\" href=https://colab.research.google.com/notebooks/data_table.ipynb>data table notebook</a>'\n",
              "            + ' to learn more about interactive tables.';\n",
              "          element.innerHTML = '';\n",
              "          dataTable['output_type'] = 'display_data';\n",
              "          await google.colab.output.renderOutput(dataTable, element);\n",
              "          const docLink = document.createElement('div');\n",
              "          docLink.innerHTML = docLinkHtml;\n",
              "          element.appendChild(docLink);\n",
              "        }\n",
              "      </script>\n",
              "    </div>\n",
              "  </div>\n",
              "  "
            ]
          },
          "metadata": {},
          "execution_count": 35
        }
      ]
    },
    {
      "cell_type": "code",
      "source": [
        "# Extraire les diplomes présentes dans le cv\n",
        "present_diplomes = []\n",
        "for diplome in diplomes_list:\n",
        "    if diplome.lower() in Script.lower():\n",
        "        present_diplomes.append(diplome)\n",
        "present_diplomes = list(set(present_diplomes))\n",
        "print(present_diplomes)"
      ],
      "metadata": {
        "id": "7tBQtJdt1R1c",
        "colab": {
          "base_uri": "https://localhost:8080/"
        },
        "outputId": "595e35f3-9998-4af8-c04f-811646ad3745"
      },
      "execution_count": 36,
      "outputs": [
        {
          "output_type": "stream",
          "name": "stdout",
          "text": [
            "['bac', 'Licence']\n"
          ]
        }
      ]
    },
    {
      "cell_type": "code",
      "source": [
        "# Extraire les diplomes présentes dans l'appel d'offre\n",
        "post_diplomes = []\n",
        "for diplome in diplomes_list:\n",
        "    if diplome.lower() in Script_Req.lower():\n",
        "        post_diplomes.append(diplome)\n",
        "post_diplomes = list(set(post_diplomes))\n",
        "print(post_diplomes)"
      ],
      "metadata": {
        "id": "-VueSRY61RyE",
        "colab": {
          "base_uri": "https://localhost:8080/"
        },
        "outputId": "c02c1d29-0442-465e-cd2d-de2c4d7aba47"
      },
      "execution_count": 37,
      "outputs": [
        {
          "output_type": "stream",
          "name": "stdout",
          "text": [
            "['DES', 'bac', 'BUT', 'MS', 'baccalauréat', 'CAP', 'CAPA']\n"
          ]
        }
      ]
    },
    {
      "cell_type": "code",
      "source": [
        "# Extraire les domaines présentes dans le cv\n",
        "present_domaines = []\n",
        "for domaine in domaines_list:\n",
        "    if domaine.lower() in Script.lower():\n",
        "        present_domaines.append(domaine)\n",
        "present_domaines = list(set(present_domaines))\n",
        "print(present_domaines)"
      ],
      "metadata": {
        "id": "exr9hK2y1Ruu",
        "colab": {
          "base_uri": "https://localhost:8080/"
        },
        "outputId": "718e5fb9-a727-4c24-89cc-26aaaee59475"
      },
      "execution_count": 38,
      "outputs": [
        {
          "output_type": "stream",
          "name": "stdout",
          "text": [
            "['communication', 'AM', ' intelligence artificielle', ' développement web', 'SAM']\n"
          ]
        }
      ]
    },
    {
      "cell_type": "code",
      "source": [
        "# Extraire les domaines présentes dans l'appel d'offre\n",
        "post_domaines = []\n",
        "for domaine in domaines_list:\n",
        "    if domaine.lower() in Script_Req:\n",
        "        post_domaines.append(domaine)\n",
        "post_domaines = list(set(post_domaines))\n",
        "print(post_domaines)"
      ],
      "metadata": {
        "id": "bgS4GDUl1RsQ",
        "colab": {
          "base_uri": "https://localhost:8080/"
        },
        "outputId": "7aafff97-103a-4117-dd9e-6b8ce25c657c"
      },
      "execution_count": 39,
      "outputs": [
        {
          "output_type": "stream",
          "name": "stdout",
          "text": [
            "['communication', 'AM', ' programmation', 'gestion']\n"
          ]
        }
      ]
    },
    {
      "cell_type": "code",
      "source": [
        "skills_similarity = Similarity(present_skills, post_skills)\n",
        "diplomes_similarity=Similarity(present_diplomes, post_diplomes)\n",
        "domaines_similarity=Similarity(present_domaines, post_domaines)\n"
      ],
      "metadata": {
        "id": "JRmChxWb1mTs"
      },
      "execution_count": 40,
      "outputs": []
    },
    {
      "cell_type": "code",
      "source": [
        "print(domaines_similarity)\n",
        "print(diplomes_similarity)\n",
        "print(skills_similarity)"
      ],
      "metadata": {
        "id": "5BAHVdt2A8E3",
        "colab": {
          "base_uri": "https://localhost:8080/"
        },
        "outputId": "a96cba19-e8d9-47ed-bc42-6b4ccadb5a4e"
      },
      "execution_count": 41,
      "outputs": [
        {
          "output_type": "stream",
          "name": "stdout",
          "text": [
            "50.0\n",
            "14.285714285714286\n",
            "25.0\n"
          ]
        }
      ]
    },
    {
      "cell_type": "code",
      "source": [
        "score_final=(domaines_similarity+diplomes_similarity+skills_similarity)/3"
      ],
      "metadata": {
        "id": "ZqF65XyWA8A5"
      },
      "execution_count": 44,
      "outputs": []
    },
    {
      "cell_type": "code",
      "source": [
        "print(\"le score de ce CV est: \", score_final)"
      ],
      "metadata": {
        "id": "VOIWX2A7A7-P",
        "colab": {
          "base_uri": "https://localhost:8080/"
        },
        "outputId": "15b47fae-6c75-4081-f2be-36c624cd67ed"
      },
      "execution_count": 45,
      "outputs": [
        {
          "output_type": "stream",
          "name": "stdout",
          "text": [
            "le score de ce CV est:  29.761904761904763\n"
          ]
        }
      ]
    }
  ]
}