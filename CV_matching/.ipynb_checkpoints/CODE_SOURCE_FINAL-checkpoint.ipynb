{
 "cells": [
  {
   "cell_type": "code",
   "execution_count": 1,
   "metadata": {
    "colab": {
     "base_uri": "https://localhost:8080/"
    },
    "id": "Xq-2CsMVzwA6",
    "outputId": "5205a2fa-1c67-4c71-a1fa-15a15f5ef984"
   },
   "outputs": [
    {
     "name": "stdout",
     "output_type": "stream",
     "text": [
      "Defaulting to user installation because normal site-packages is not writeable\n",
      "Collecting fasttext\n",
      "  Downloading fasttext-0.9.2.tar.gz (68 kB)\n",
      "\u001b[2K     \u001b[38;2;114;156;31m━━━━━━━━━━━━━━━━━━━━━━━━━━━━━━━━━━━━━━━\u001b[0m \u001b[32m68.8/68.8 kB\u001b[0m \u001b[31m351.7 kB/s\u001b[0m eta \u001b[36m0:00:00\u001b[0m1m450.7 kB/s\u001b[0m eta \u001b[36m0:00:01\u001b[0m\n",
      "\u001b[?25h  Preparing metadata (setup.py) ... \u001b[?25ldone\n",
      "\u001b[?25hRequirement already satisfied: numpy in /home/morningstar/.local/lib/python3.9/site-packages (from fasttext) (1.23.5)\n",
      "Collecting pybind11>=2.2 (from fasttext)\n",
      "  Using cached pybind11-2.10.4-py3-none-any.whl (222 kB)\n",
      "Requirement already satisfied: setuptools>=0.7.0 in /usr/lib/python3/dist-packages (from fasttext) (52.0.0)\n",
      "Building wheels for collected packages: fasttext\n",
      "  Building wheel for fasttext (setup.py) ... \u001b[?25ldone\n",
      "\u001b[?25h  Created wheel for fasttext: filename=fasttext-0.9.2-cp39-cp39-linux_x86_64.whl size=4239823 sha256=e357463fb5dd3b0274913277ce091f69f26b74e0706f0bc590d81c94d7244971\n",
      "  Stored in directory: /home/morningstar/.cache/pip/wheels/64/57/bc/1741406019061d5664914b070bd3e71f6244648732bc96109e\n",
      "Successfully built fasttext\n",
      "Installing collected packages: pybind11, fasttext\n",
      "Successfully installed fasttext-0.9.2 pybind11-2.10.4\n"
     ]
    }
   ],
   "source": [
    "!pip install fasttext"
   ]
  },
  {
   "cell_type": "code",
   "execution_count": 22,
   "metadata": {
    "colab": {
     "base_uri": "https://localhost:8080/"
    },
    "id": "C_Oa-74A1xrh",
    "outputId": "0df3ec01-817d-4687-c134-e917b5f7adbe"
   },
   "outputs": [
    {
     "name": "stdout",
     "output_type": "stream",
     "text": [
      "Defaulting to user installation because normal site-packages is not writeable\n",
      "Requirement already satisfied: PyPDF2 in /usr/lib/python3/dist-packages (1.26.0)\n",
      "Collecting PyPDF2\n",
      "  Downloading pypdf2-3.0.1-py3-none-any.whl (232 kB)\n",
      "\u001b[2K     \u001b[38;2;114;156;31m━━━━━━━━━━━━━━━━━━━━━━━━━━━━━━━━━━━━━\u001b[0m \u001b[32m232.6/232.6 kB\u001b[0m \u001b[31m581.5 kB/s\u001b[0m eta \u001b[36m0:00:00\u001b[0m1m680.1 kB/s\u001b[0m eta \u001b[36m0:00:01\u001b[0m\n",
      "\u001b[?25hRequirement already satisfied: typing_extensions>=3.10.0.0 in /usr/lib/python3/dist-packages (from PyPDF2) (4.3.0)\n",
      "Installing collected packages: PyPDF2\n",
      "Successfully installed PyPDF2-3.0.1\n",
      "Note: you may need to restart the kernel to use updated packages.\n"
     ]
    }
   ],
   "source": [
    "!pip install PyPDF2"
   ]
  },
  {
   "cell_type": "code",
   "execution_count": 3,
   "metadata": {
    "colab": {
     "base_uri": "https://localhost:8080/"
    },
    "id": "YvduIqx717bd",
    "outputId": "8612cb7d-e492-481e-987d-5f10214890b8"
   },
   "outputs": [
    {
     "name": "stdout",
     "output_type": "stream",
     "text": [
      "Defaulting to user installation because normal site-packages is not writeable\n",
      "Requirement already satisfied: pdfplumber in /home/morningstar/.local/lib/python3.9/site-packages (0.9.0)\n",
      "Requirement already satisfied: pdfminer.six==20221105 in /home/morningstar/.local/lib/python3.9/site-packages (from pdfplumber) (20221105)\n",
      "Requirement already satisfied: Pillow>=9.1 in /home/morningstar/.local/lib/python3.9/site-packages (from pdfplumber) (9.5.0)\n",
      "Requirement already satisfied: Wand>=0.6.10 in /home/morningstar/.local/lib/python3.9/site-packages (from pdfplumber) (0.6.11)\n",
      "Requirement already satisfied: charset-normalizer>=2.0.0 in /home/morningstar/.local/lib/python3.9/site-packages (from pdfminer.six==20221105->pdfplumber) (3.1.0)\n",
      "Requirement already satisfied: cryptography>=36.0.0 in /home/morningstar/.local/lib/python3.9/site-packages (from pdfminer.six==20221105->pdfplumber) (40.0.2)\n",
      "Requirement already satisfied: cffi>=1.12 in /usr/lib/python3/dist-packages (from cryptography>=36.0.0->pdfminer.six==20221105->pdfplumber) (1.14.5)\n"
     ]
    }
   ],
   "source": [
    "!pip install pdfplumber"
   ]
  },
  {
   "cell_type": "code",
   "execution_count": 7,
   "metadata": {},
   "outputs": [
    {
     "name": "stdout",
     "output_type": "stream",
     "text": [
      "Defaulting to user installation because normal site-packages is not writeable\n",
      "Collecting nltk\n",
      "  Downloading nltk-3.8.1-py3-none-any.whl (1.5 MB)\n",
      "\u001b[2K     \u001b[38;2;114;156;31m━━━━━━━━━━━━━━━━━━━━━━━━━━━━━━━━━━━━━━━━\u001b[0m \u001b[32m1.5/1.5 MB\u001b[0m \u001b[31m2.0 MB/s\u001b[0m eta \u001b[36m0:00:00\u001b[0mm eta \u001b[36m0:00:01\u001b[0m[36m0:00:01\u001b[0m0m\n",
      "\u001b[?25hRequirement already satisfied: click in /usr/lib/python3/dist-packages (from nltk) (8.1.3)\n",
      "Requirement already satisfied: joblib in /home/morningstar/.local/lib/python3.9/site-packages (from nltk) (1.2.0)\n",
      "Collecting regex>=2021.8.3 (from nltk)\n",
      "  Downloading regex-2023.5.5-cp39-cp39-manylinux_2_17_x86_64.manylinux2014_x86_64.whl (769 kB)\n",
      "\u001b[2K     \u001b[38;2;114;156;31m━━━━━━━━━━━━━━━━━━━━━━━━━━━━━━━━━━━━━━━\u001b[0m \u001b[32m769.0/769.0 kB\u001b[0m \u001b[31m1.5 MB/s\u001b[0m eta \u001b[36m0:00:00\u001b[0mm eta \u001b[36m0:00:01\u001b[0m[36m0:00:01\u001b[0m\n",
      "\u001b[?25hRequirement already satisfied: tqdm in /usr/lib/python3/dist-packages (from nltk) (4.57.0)\n",
      "Installing collected packages: regex, nltk\n",
      "Successfully installed nltk-3.8.1 regex-2023.5.5\n"
     ]
    }
   ],
   "source": [
    "!pip install nltk"
   ]
  },
  {
   "cell_type": "code",
   "execution_count": 45,
   "metadata": {
    "id": "dKBDCEg80Dro"
   },
   "outputs": [],
   "source": [
    "import fasttext\n",
    "import PyPDF2, pdfplumber\n",
    "import fastai\n",
    "import nltk\n",
    "import numpy as np # linear algebra\n",
    "import pandas as pd # data processing, CSV file I/O (e.g. pd.read_csv)\n",
    "import os\n",
    "import csv\n",
    "from nltk.tokenize import word_tokenize\n",
    "from nltk.corpus import stopwords\n",
    "from PyPDF2 import PdfFileReader"
   ]
  },
  {
   "cell_type": "code",
   "execution_count": 50,
   "metadata": {
    "colab": {
     "base_uri": "https://localhost:8080/"
    },
    "id": "sRZ6aV5zr2VW",
    "outputId": "d3be695e-ebaf-4625-f807-5b4ee6ff4bf7"
   },
   "outputs": [],
   "source": [
    "CV ='./cc.fr.300.bin'"
   ]
  },
  {
   "cell_type": "markdown",
   "metadata": {
    "id": "lXuj1eZx3p5V"
   },
   "source": [
    "Chargement du modèle et definition de la fonction de matching soit Similarity"
   ]
  },
  {
   "cell_type": "code",
   "execution_count": 51,
   "metadata": {
    "colab": {
     "base_uri": "https://localhost:8080/"
    },
    "id": "qmYiP-xu0VkS",
    "outputId": "6d11a84d-f54d-4b0e-abb3-d735b1607abc"
   },
   "outputs": [
    {
     "name": "stderr",
     "output_type": "stream",
     "text": [
      "Warning : `load_model` does not return WordVectorModel or SupervisedModel any more, but a `FastText` object which is very similar.\n"
     ]
    }
   ],
   "source": [
    "ft_model = fasttext.load_model(CV)"
   ]
  },
  {
   "cell_type": "code",
   "execution_count": 72,
   "metadata": {
    "id": "Mcnlmd650V5z"
   },
   "outputs": [],
   "source": [
    "def WordSimilarity(word1, word2): \n",
    "   embedding1 = ft_model.get_word_vector(word1)\n",
    "   embedding2 = ft_model.get_word_vector(word2)\n",
    "   # Compute the cosine similarity between the embeddings\n",
    "   similarity_score = np.dot(embedding1, embedding2) / (np.linalg.norm(embedding1) * np.linalg.norm(embedding2))\n",
    "  # print(f\"Similarity between {word1} and {word2}: {similarity_score:.2f}\")\n",
    "   return similarity_score "
   ]
  },
  {
   "cell_type": "code",
   "execution_count": 53,
   "metadata": {
    "id": "bGCZDMPv0WMF"
   },
   "outputs": [],
   "source": [
    "def Similarity(present_skills, post_skills):\n",
    "    \n",
    "  n=0\n",
    "  \n",
    "  for x in present_skills:\n",
    "     List=[]\n",
    "     for y in post_skills:\n",
    "        b= WordSimilarity(x,y)\n",
    "        List.append(b)\n",
    "        a=max(List)\n",
    "     if   a>= 0.5:\n",
    "            n=n+1\n",
    "     elif a<0.5 and a>= 0.4:\n",
    "            n=n+0.5\n",
    "     else:\n",
    "            n=n+0\n",
    "  similarity= n*100/len(post_skills)\n",
    "  return similarity"
   ]
  },
  {
   "cell_type": "markdown",
   "metadata": {
    "id": "nEB07rXX3iiD"
   },
   "source": [
    "Traitement de la fiche de description de poste"
   ]
  },
  {
   "cell_type": "code",
   "execution_count": 54,
   "metadata": {
    "id": "Vd_fTSkOK6qy"
   },
   "outputs": [],
   "source": [
    "Req=r\"./data/poste.pdf\""
   ]
  },
  {
   "cell_type": "code",
   "execution_count": 55,
   "metadata": {
    "id": "x_vGI0ra0li0"
   },
   "outputs": [],
   "source": [
    "Req_File=open(Req,'rb')\n",
    "Script_Req=PyPDF2.PdfFileReader(Req_File)\n",
    "pages=len(Script_Req.pages)"
   ]
  },
  {
   "cell_type": "code",
   "execution_count": 56,
   "metadata": {
    "colab": {
     "base_uri": "https://localhost:8080/"
    },
    "id": "UJNpC6gH0zXy",
    "outputId": "3768d8a4-9035-4730-cc6d-733ef717bf67"
   },
   "outputs": [
    {
     "name": "stdout",
     "output_type": "stream",
     "text": [
      "OFFRE D’EMPLOI : DÉVELOPPEUR(EUSE)\n",
      "WEB\n",
      "TÂCHES ET RESPONSABILITÉS PRINCIPALES\n",
      "• Développer le site Web ainsi que des services Web\n",
      "L’Observatoire global du\n",
      "permettant l’affichage optimal et convivial des\n",
      "Saint-Laurent (OGSL) est une\n",
      "applications Web pour la diffusion de données\n",
      "organisation visant à offrir un\n",
      "scientifiques ;\n",
      "accès intégré aux données et aux\n",
      "• Assurer la documentation et le développement des\n",
      "informations issues d’un réseau\n",
      "tests ;\n",
      "d’organismes partenaires en\n",
      "soutien à la gestion durable de • Participer aux tâches relatives au support technique ;\n",
      "l’écosystème du Saint-Laurent.\n",
      "• Assurer une veille technologique continue.\n",
      "L’OGSL est chef de file en gestion\n",
      "QUALIFICATIONS ESSENTIELLES\n",
      "et diffusion de données ouvertes et\n",
      "bénéficie d’un positionnement ÉTUDES ET EXPÉRIENCE\n",
      "unique dans le domaine maritime\n",
      "• Technique et/ou baccalauréat en informatique ou\n",
      "du Québec et au Canada, avec des\n",
      "combinaison acceptable d’études, de formations et/ou\n",
      "opportunités importantes de\n",
      "d’expériences pertinentes.\n",
      "croissance, de développement et\n",
      "• Deux ans d’expérience en développement et\n",
      "d’innovation.\n",
      "intégration Web (comprenant programmation et\n",
      "maintenance).\n",
      "COMPÉTENCES TECHNIQUES\n",
      "• Connaissance des langages Web suivants :\n",
      "Javascript, Typescript, HTML5 et CSS ;\n",
      "LIEU DE TRAVAIL • Connaissance de l’architecture MVC ;\n",
      "310 allée des Ursulines, Rimouski • Connaissance d’un langage de programmation\n",
      "(Québec), G5L 3A1 orientée objet (ex. JAVA). Le candidat doit maîtriser\n",
      "les concepts et principes principaux ;\n",
      "• Connaissance d’un logiciel de gestion de versions\n",
      "(Git) ;\n",
      "• Connaissance des techniques de modélisation de\n",
      "données et des systèmes de gestion de bases de\n",
      "DATE LIMITE POUR données relationnelles (SGBDR).\n",
      "POSTULER\n",
      "8 mars 2019 COMPÉTENCES PERSONNELLES\n",
      "• Bonnes communications écrite et verbale en français\n",
      "et en anglais ;\n",
      "• Doit être à l'aise à travailler dans un environnement\n",
      "très dynamique ;\n",
      "• Excellente compétence en résolution de problèmes ;\n",
      "• Enthousiasme et capacité d'apprentissage rapide ;\n",
      "• Souci du détail ;\n",
      "• Initiative et autonomie ;\n",
      "CONDITIONS DE TRAVAIL\n",
      "• Excellent esprit d’équipe ;\n",
      "Salaire à partir de 47 000$ • Respect et bonnes relations interpersonnelles.\n",
      "Régime volontaire d’épargne-\n",
      "retraite\n",
      "CONNAISSANCES CONSTITUANT UN ATOUT\n",
      "Flexibilité d’horaire\n",
      "• Connaissance d’Angular ;\n",
      "Déplacements occasionnels • Techniques de développement AGILE ;\n",
      "possibles (au Québec, au Canada • Administration de serveurs PostgreSQL ;\n",
      "et à l’international)\n",
      "• CMS tel Joomla, Drupal ou Wordpress ;\n",
      "• Application IntelliJ IDE ;\n",
      "• Administration de serveurs Linux ;\n",
      "• Langage de programmation Python ;\n",
      "• Géomatique.\n",
      "DURÉE D’EMBAUCHE\n",
      "Un an, avec possibilité de\n",
      "prolongation AVANTAGES DE TRAVAILLER À L’OGSL\n",
      "• Bon esprit de cohésion au sein d’une équipe dynamique ;\n",
      "• Environnement de travail stimulant ;\n",
      "• Horaire flexible et conciliation travail-vie personnelle ;\n",
      "• Secteur innovant ;\n",
      "NOMBRE D’HEURES PAR\n",
      "• Partenariats avec un réseau élargi d’acteurs au Canada\n",
      "SEMAINE\n",
      "et à l’international (différents paliers de gouvernements,\n",
      "35 heures organismes à but non lucratifs, réseaux universitaires,\n",
      "centres d’excellence, organisations autochtones, etc.) ;\n",
      "• Activités de perfectionnement et de formation ;\n",
      "• Situé sur le campus de l’UQAR :\n",
      "Service des activités physiques et sportives\n",
      "o\n",
      "(SAPS) ;\n",
      "DATE DE DÉBUT ENVISAGÉE\n",
      "Centre de la petite enfance (garderie) ;\n",
      "o\n",
      "Le plus tôt possible\n",
      "Plusieurs espaces verts ;\n",
      "o\n",
      "Terminus du transport en commun ;\n",
      "o\n",
      "SVP nous faire parvenir votre Cafétéria ;\n",
      "o\n",
      "candidature incluant votre C.V. • Capitale de la région du Bas-Saint-Laurent, Rimouski est\n",
      "ainsi qu’une lettre de motivation une ville reconnue pour sa qualité de vie exceptionnelle,\n",
      "adressée à Madame Andréane ainsi que pour la présence d’une communauté\n",
      "Bastien à : dynamique.\n",
      "emplois@ogsl.ca\n"
     ]
    }
   ],
   "source": [
    "Script_Req = []\n",
    "with pdfplumber.open(Req_File) as pdf:\n",
    "    for i in range (0,pages):\n",
    "        page=pdf.pages[i]\n",
    "        text=page.extract_text()\n",
    "        print (text)\n",
    "        Script_Req.append(text)"
   ]
  },
  {
   "cell_type": "code",
   "execution_count": 57,
   "metadata": {
    "colab": {
     "base_uri": "https://localhost:8080/"
    },
    "id": "LFIbEzTZ0zDJ",
    "outputId": "5f8c75b7-eba4-4832-d812-325f86e321ee"
   },
   "outputs": [
    {
     "data": {
      "text/plain": [
       "str"
      ]
     },
     "execution_count": 57,
     "metadata": {},
     "output_type": "execute_result"
    }
   ],
   "source": [
    "Script_Req= ' '.join(Script_Req)# Transform string into list\n",
    "type(Script_Req)"
   ]
  },
  {
   "cell_type": "markdown",
   "metadata": {
    "id": "iiZD9_9b5Whr"
   },
   "source": [
    "On recupère le contenu de la fiche de description de poste, on effectue la tockenisation de ce contenu et on le met sous forme de liste "
   ]
  },
  {
   "cell_type": "code",
   "execution_count": 58,
   "metadata": {
    "colab": {
     "base_uri": "https://localhost:8080/"
    },
    "id": "1ND0MHp70y4U",
    "outputId": "3a739a0a-31af-407b-b4d7-436493a0ba62"
   },
   "outputs": [
    {
     "name": "stderr",
     "output_type": "stream",
     "text": [
      "[nltk_data] Downloading package stopwords to\n",
      "[nltk_data]     /home/morningstar/nltk_data...\n",
      "[nltk_data]   Package stopwords is already up-to-date!\n"
     ]
    },
    {
     "name": "stdout",
     "output_type": "stream",
     "text": [
      "['offre', '’', 'emploi', ':', 'développeur', '(', 'euse', ')', 'web', 'tâches', 'responsabilités', 'principales', '•', 'développer', 'site', 'web', 'ainsi', 'services', 'web', '’', 'observatoire', 'global', 'permettant', '’', 'affichage', 'optimal', 'convivial', 'saint-laurent', '(', 'ogsl', ')', 'applications', 'web', 'diffusion', 'données', 'organisation', 'visant', 'offrir', 'scientifiques', ';', 'accès', 'intégré', 'données', '•', 'assurer', 'documentation', 'développement', 'informations', 'issues', '’', 'réseau', 'tests', ';', '’', 'organismes', 'partenaires', 'soutien', 'gestion', 'durable', '•', 'participer', 'tâches', 'relatives', 'support', 'technique', ';', '’', 'écosystème', 'saint-laurent', '.', '•', 'assurer', 'veille', 'technologique', 'continue', '.', '’', 'ogsl', 'chef', 'file', 'gestion', 'qualifications', 'essentielles', 'diffusion', 'données', 'ouvertes', 'bénéficie', '’', 'positionnement', 'études', 'expérience', 'unique', 'domaine', 'maritime', '•', 'technique', 'et/ou', 'baccalauréat', 'informatique', 'québec', 'canada', ',', 'combinaison', 'acceptable', '’', 'études', ',', 'formations', 'et/ou', 'opportunités', 'importantes', '’', 'expériences', 'pertinentes', '.', 'croissance', ',', 'développement', '•', 'deux', 'ans', '’', 'expérience', 'développement', '’', 'innovation', '.', 'intégration', 'web', '(', 'comprenant', 'programmation', 'maintenance', ')', '.', 'compétences', 'techniques', '•', 'connaissance', 'langages', 'web', 'suivants', ':', 'javascript', ',', 'typescript', ',', 'html5', 'css', ';', 'lieu', 'travail', '•', 'connaissance', '’', 'architecture', 'mvc', ';', '310', 'allée', 'ursulines', ',', 'rimouski', '•', 'connaissance', '’', 'langage', 'programmation', '(', 'québec', ')', ',', 'g5l', '3a1', 'orientée', 'objet', '(', 'ex', '.', 'java', ')', '.', 'candidat', 'doit', 'maîtriser', 'concepts', 'principes', 'principaux', ';', '•', 'connaissance', '’', 'logiciel', 'gestion', 'versions', '(', 'git', ')', ';', '•', 'connaissance', 'techniques', 'modélisation', 'données', 'systèmes', 'gestion', 'bases', 'date', 'limite', 'données', 'relationnelles', '(', 'sgbdr', ')', '.', 'postuler', '8', 'mars', '2019', 'compétences', 'personnelles', '•', 'bonnes', 'communications', 'écrite', 'verbale', 'français', 'anglais', ';', '•', 'doit', 'être', \"l'aise\", 'travailler', 'environnement', 'très', 'dynamique', ';', '•', 'excellente', 'compétence', 'résolution', 'problèmes', ';', '•', 'enthousiasme', 'capacité', \"d'apprentissage\", 'rapide', ';', '•', 'souci', 'détail', ';', '•', 'initiative', 'autonomie', ';', 'conditions', 'travail', '•', 'excellent', 'esprit', '’', 'équipe', ';', 'salaire', 'partir', '47', '000', '$', '•', 'respect', 'bonnes', 'relations', 'interpersonnelles', '.', 'régime', 'volontaire', '’', 'épargne-', 'retraite', 'connaissances', 'constituant', 'atout', 'flexibilité', '’', 'horaire', '•', 'connaissance', '’', 'angular', ';', 'déplacements', 'occasionnels', '•', 'techniques', 'développement', 'agile', ';', 'possibles', '(', 'québec', ',', 'canada', '•', 'administration', 'serveurs', 'postgresql', ';', '’', 'international', ')', '•', 'cms', 'tel', 'joomla', ',', 'drupal', 'wordpress', ';', '•', 'application', 'intellij', 'ide', ';', '•', 'administration', 'serveurs', 'linux', ';', '•', 'langage', 'programmation', 'python', ';', '•', 'géomatique', '.', 'durée', '’', 'embauche', 'an', ',', 'possibilité', 'prolongation', 'avantages', 'travailler', '’', 'ogsl', '•', 'bon', 'esprit', 'cohésion', 'sein', '’', 'équipe', 'dynamique', ';', '•', 'environnement', 'travail', 'stimulant', ';', '•', 'horaire', 'flexible', 'conciliation', 'travail-vie', 'personnelle', ';', '•', 'secteur', 'innovant', ';', 'nombre', '’', 'heures', '•', 'partenariats', 'réseau', 'élargi', '’', 'acteurs', 'canada', 'semaine', '’', 'international', '(', 'différents', 'paliers', 'gouvernements', ',', '35', 'heures', 'organismes', 'but', 'non', 'lucratifs', ',', 'réseaux', 'universitaires', ',', 'centres', '’', 'excellence', ',', 'organisations', 'autochtones', ',', 'etc', '.', ')', ';', '•', 'activités', 'perfectionnement', 'formation', ';', '•', 'situé', 'campus', '’', 'uqar', ':', 'service', 'activités', 'physiques', 'sportives', 'o', '(', 'saps', ')', ';', 'date', 'début', 'envisagée', 'centre', 'petite', 'enfance', '(', 'garderie', ')', ';', 'o', 'plus', 'tôt', 'possible', 'plusieurs', 'espaces', 'verts', ';', 'o', 'terminus', 'transport', 'commun', ';', 'o', 'svp', 'faire', 'parvenir', 'cafétéria', ';', 'o', 'candidature', 'incluant', 'c.v.', '•', 'capitale', 'région', 'bas-saint-laurent', ',', 'rimouski', 'ainsi', '’', 'lettre', 'motivation', 'ville', 'reconnue', 'qualité', 'vie', 'exceptionnelle', ',', 'adressée', 'madame', 'andréane', 'ainsi', 'présence', '’', 'communauté', 'bastien', ':', 'dynamique', '.', 'emplois', '@', 'ogsl.ca']\n",
      "offre ’ emploi : développeur ( euse ) web tâches responsabilités principales • développer site web ainsi services web ’ observatoire global permettant ’ affichage optimal convivial saint-laurent ( ogsl ) applications web diffusion données organisation visant offrir scientifiques ; accès intégré données • assurer documentation développement informations issues ’ réseau tests ; ’ organismes partenaires soutien gestion durable • participer tâches relatives support technique ; ’ écosystème saint-laurent . • assurer veille technologique continue . ’ ogsl chef file gestion qualifications essentielles diffusion données ouvertes bénéficie ’ positionnement études expérience unique domaine maritime • technique et/ou baccalauréat informatique québec canada , combinaison acceptable ’ études , formations et/ou opportunités importantes ’ expériences pertinentes . croissance , développement • deux ans ’ expérience développement ’ innovation . intégration web ( comprenant programmation maintenance ) . compétences techniques • connaissance langages web suivants : javascript , typescript , html5 css ; lieu travail • connaissance ’ architecture mvc ; 310 allée ursulines , rimouski • connaissance ’ langage programmation ( québec ) , g5l 3a1 orientée objet ( ex . java ) . candidat doit maîtriser concepts principes principaux ; • connaissance ’ logiciel gestion versions ( git ) ; • connaissance techniques modélisation données systèmes gestion bases date limite données relationnelles ( sgbdr ) . postuler 8 mars 2019 compétences personnelles • bonnes communications écrite verbale français anglais ; • doit être l'aise travailler environnement très dynamique ; • excellente compétence résolution problèmes ; • enthousiasme capacité d'apprentissage rapide ; • souci détail ; • initiative autonomie ; conditions travail • excellent esprit ’ équipe ; salaire partir 47 000 $ • respect bonnes relations interpersonnelles . régime volontaire ’ épargne- retraite connaissances constituant atout flexibilité ’ horaire • connaissance ’ angular ; déplacements occasionnels • techniques développement agile ; possibles ( québec , canada • administration serveurs postgresql ; ’ international ) • cms tel joomla , drupal wordpress ; • application intellij ide ; • administration serveurs linux ; • langage programmation python ; • géomatique . durée ’ embauche an , possibilité prolongation avantages travailler ’ ogsl • bon esprit cohésion sein ’ équipe dynamique ; • environnement travail stimulant ; • horaire flexible conciliation travail-vie personnelle ; • secteur innovant ; nombre ’ heures • partenariats réseau élargi ’ acteurs canada semaine ’ international ( différents paliers gouvernements , 35 heures organismes but non lucratifs , réseaux universitaires , centres ’ excellence , organisations autochtones , etc . ) ; • activités perfectionnement formation ; • situé campus ’ uqar : service activités physiques sportives o ( saps ) ; date début envisagée centre petite enfance ( garderie ) ; o plus tôt possible plusieurs espaces verts ; o terminus transport commun ; o svp faire parvenir cafétéria ; o candidature incluant c.v. • capitale région bas-saint-laurent , rimouski ainsi ’ lettre motivation ville reconnue qualité vie exceptionnelle , adressée madame andréane ainsi présence ’ communauté bastien : dynamique . emplois @ ogsl.ca\n"
     ]
    }
   ],
   "source": [
    "nltk.download('stopwords')\n",
    "text_tokens = word_tokenize(Script_Req.lower())\n",
    "\n",
    "tokens_without_sw = [word for word in text_tokens if not word in stopwords.words('french')]\n",
    "\n",
    "print(tokens_without_sw)\n",
    "Script_Req = (\" \").join(tokens_without_sw)\n",
    "print(Script_Req)"
   ]
  },
  {
   "cell_type": "code",
   "execution_count": 59,
   "metadata": {
    "id": "ubxtdNs10ys9"
   },
   "outputs": [],
   "source": [
    "skills_def = pd.read_csv('./competences.csv',header=0)"
   ]
  },
  {
   "cell_type": "code",
   "execution_count": 60,
   "metadata": {
    "colab": {
     "base_uri": "https://localhost:8080/",
     "height": 206
    },
    "id": "HSeuW3wV0yes",
    "outputId": "b6330471-17d5-454b-fac0-ea635d3435f9"
   },
   "outputs": [
    {
     "data": {
      "text/html": [
       "<div>\n",
       "<style scoped>\n",
       "    .dataframe tbody tr th:only-of-type {\n",
       "        vertical-align: middle;\n",
       "    }\n",
       "\n",
       "    .dataframe tbody tr th {\n",
       "        vertical-align: top;\n",
       "    }\n",
       "\n",
       "    .dataframe thead th {\n",
       "        text-align: right;\n",
       "    }\n",
       "</style>\n",
       "<table border=\"1\" class=\"dataframe\">\n",
       "  <thead>\n",
       "    <tr style=\"text-align: right;\">\n",
       "      <th></th>\n",
       "      <th>etiquettes</th>\n",
       "    </tr>\n",
       "  </thead>\n",
       "  <tbody>\n",
       "    <tr>\n",
       "      <th>0</th>\n",
       "      <td>3d</td>\n",
       "    </tr>\n",
       "    <tr>\n",
       "      <th>1</th>\n",
       "      <td>3d</td>\n",
       "    </tr>\n",
       "    <tr>\n",
       "      <th>2</th>\n",
       "      <td>3d-reconstruction</td>\n",
       "    </tr>\n",
       "    <tr>\n",
       "      <th>3</th>\n",
       "      <td>importance</td>\n",
       "    </tr>\n",
       "    <tr>\n",
       "      <th>4</th>\n",
       "      <td>type de données abstraites</td>\n",
       "    </tr>\n",
       "  </tbody>\n",
       "</table>\n",
       "</div>"
      ],
      "text/plain": [
       "                   etiquettes\n",
       "0                          3d\n",
       "1                          3d\n",
       "2           3d-reconstruction\n",
       "3                  importance\n",
       "4  type de données abstraites"
      ]
     },
     "execution_count": 60,
     "metadata": {},
     "output_type": "execute_result"
    }
   ],
   "source": [
    "skills_def.head()"
   ]
  },
  {
   "cell_type": "code",
   "execution_count": 61,
   "metadata": {
    "id": "58wlNh2909Zn"
   },
   "outputs": [],
   "source": [
    "skills_list = list(skills_def['etiquettes'])"
   ]
  },
  {
   "cell_type": "code",
   "execution_count": 62,
   "metadata": {
    "id": "Yuij8gbI09QS"
   },
   "outputs": [],
   "source": [
    "#Extraire les compétences présentes dans la fiche de poste\n",
    "post_skills = []\n",
    "for skill in skills_list:\n",
    "    if skill.lower() in Script_Req.lower():\n",
    "        post_skills.append(skill)\n",
    "post_skills = list(set(post_skills))"
   ]
  },
  {
   "cell_type": "code",
   "execution_count": 63,
   "metadata": {
    "colab": {
     "base_uri": "https://localhost:8080/",
     "height": 142
    },
    "id": "h9HBsw0w09Nj",
    "outputId": "1fe21515-977d-415a-ca4b-c1bdfd5de903"
   },
   "outputs": [
    {
     "name": "stdout",
     "output_type": "stream",
     "text": [
      "['api', 'lua', 'site web', 'dyn', 'ouvert', 'sql', 'html', 'postgresql', 'css', 'mvc', 'javascript', 'linux', 'fil', 'c', 'chef', 'diffusion', 'git', 'drupal', 'données ouvertes', 'python', 'serveur', 'rapide', 'ava', 'java', 'r', 'avantages', 'modélisation', 'wordpress', 'communications', 'f', 'fusion', 'logiciel']\n"
     ]
    },
    {
     "data": {
      "text/plain": [
       "\"offre ’ emploi : développeur ( euse ) web tâches responsabilités principales • développer site web ainsi services web ’ observatoire global permettant ’ affichage optimal convivial saint-laurent ( ogsl ) applications web diffusion données organisation visant offrir scientifiques ; accès intégré données • assurer documentation développement informations issues ’ réseau tests ; ’ organismes partenaires soutien gestion durable • participer tâches relatives support technique ; ’ écosystème saint-laurent . • assurer veille technologique continue . ’ ogsl chef file gestion qualifications essentielles diffusion données ouvertes bénéficie ’ positionnement études expérience unique domaine maritime • technique et/ou baccalauréat informatique québec canada , combinaison acceptable ’ études , formations et/ou opportunités importantes ’ expériences pertinentes . croissance , développement • deux ans ’ expérience développement ’ innovation . intégration web ( comprenant programmation maintenance ) . compétences techniques • connaissance langages web suivants : javascript , typescript , html5 css ; lieu travail • connaissance ’ architecture mvc ; 310 allée ursulines , rimouski • connaissance ’ langage programmation ( québec ) , g5l 3a1 orientée objet ( ex . java ) . candidat doit maîtriser concepts principes principaux ; • connaissance ’ logiciel gestion versions ( git ) ; • connaissance techniques modélisation données systèmes gestion bases date limite données relationnelles ( sgbdr ) . postuler 8 mars 2019 compétences personnelles • bonnes communications écrite verbale français anglais ; • doit être l'aise travailler environnement très dynamique ; • excellente compétence résolution problèmes ; • enthousiasme capacité d'apprentissage rapide ; • souci détail ; • initiative autonomie ; conditions travail • excellent esprit ’ équipe ; salaire partir 47 000 $ • respect bonnes relations interpersonnelles . régime volontaire ’ épargne- retraite connaissances constituant atout flexibilité ’ horaire • connaissance ’ angular ; déplacements occasionnels • techniques développement agile ; possibles ( québec , canada • administration serveurs postgresql ; ’ international ) • cms tel joomla , drupal wordpress ; • application intellij ide ; • administration serveurs linux ; • langage programmation python ; • géomatique . durée ’ embauche an , possibilité prolongation avantages travailler ’ ogsl • bon esprit cohésion sein ’ équipe dynamique ; • environnement travail stimulant ; • horaire flexible conciliation travail-vie personnelle ; • secteur innovant ; nombre ’ heures • partenariats réseau élargi ’ acteurs canada semaine ’ international ( différents paliers gouvernements , 35 heures organismes but non lucratifs , réseaux universitaires , centres ’ excellence , organisations autochtones , etc . ) ; • activités perfectionnement formation ; • situé campus ’ uqar : service activités physiques sportives o ( saps ) ; date début envisagée centre petite enfance ( garderie ) ; o plus tôt possible plusieurs espaces verts ; o terminus transport commun ; o svp faire parvenir cafétéria ; o candidature incluant c.v. • capitale région bas-saint-laurent , rimouski ainsi ’ lettre motivation ville reconnue qualité vie exceptionnelle , adressée madame andréane ainsi présence ’ communauté bastien : dynamique . emplois @ ogsl.ca\""
      ]
     },
     "execution_count": 63,
     "metadata": {},
     "output_type": "execute_result"
    }
   ],
   "source": [
    "print(post_skills)\n",
    "Script_Req"
   ]
  },
  {
   "cell_type": "code",
   "execution_count": 64,
   "metadata": {
    "id": "KQzSmOHC09I_"
   },
   "outputs": [],
   "source": [
    "domaines = pd.read_csv('./Domaines.csv',header=0)\n",
    "diplomes = pd.read_csv('./Diplomes.csv',header=0)"
   ]
  },
  {
   "cell_type": "code",
   "execution_count": 65,
   "metadata": {
    "id": "-ZQASeP81K0e"
   },
   "outputs": [],
   "source": [
    "diplomes_list = list(diplomes['Diplome'])\n",
    "domaines_list = list(domaines['domaine'])"
   ]
  },
  {
   "cell_type": "code",
   "execution_count": 66,
   "metadata": {
    "colab": {
     "base_uri": "https://localhost:8080/",
     "height": 206
    },
    "id": "PYPjNMjs1Kq4",
    "outputId": "995dfa14-d651-4846-f7d5-d177cbea80e4"
   },
   "outputs": [
    {
     "data": {
      "text/html": [
       "<div>\n",
       "<style scoped>\n",
       "    .dataframe tbody tr th:only-of-type {\n",
       "        vertical-align: middle;\n",
       "    }\n",
       "\n",
       "    .dataframe tbody tr th {\n",
       "        vertical-align: top;\n",
       "    }\n",
       "\n",
       "    .dataframe thead th {\n",
       "        text-align: right;\n",
       "    }\n",
       "</style>\n",
       "<table border=\"1\" class=\"dataframe\">\n",
       "  <thead>\n",
       "    <tr style=\"text-align: right;\">\n",
       "      <th></th>\n",
       "      <th>domaine</th>\n",
       "    </tr>\n",
       "  </thead>\n",
       "  <tbody>\n",
       "    <tr>\n",
       "      <th>0</th>\n",
       "      <td>design et innovation pour l'environnement</td>\n",
       "    </tr>\n",
       "    <tr>\n",
       "      <th>1</th>\n",
       "      <td>scénographe</td>\n",
       "    </tr>\n",
       "    <tr>\n",
       "      <th>2</th>\n",
       "      <td>architecte naval</td>\n",
       "    </tr>\n",
       "    <tr>\n",
       "      <th>3</th>\n",
       "      <td>architecture et patrimoine contemporain</td>\n",
       "    </tr>\n",
       "    <tr>\n",
       "      <th>4</th>\n",
       "      <td>management des projets urbains durables</td>\n",
       "    </tr>\n",
       "  </tbody>\n",
       "</table>\n",
       "</div>"
      ],
      "text/plain": [
       "                                     domaine\n",
       "0  design et innovation pour l'environnement\n",
       "1                                scénographe\n",
       "2                           architecte naval\n",
       "3    architecture et patrimoine contemporain\n",
       "4    management des projets urbains durables"
      ]
     },
     "execution_count": 66,
     "metadata": {},
     "output_type": "execute_result"
    }
   ],
   "source": [
    "domaines.head()"
   ]
  },
  {
   "cell_type": "code",
   "execution_count": 67,
   "metadata": {
    "colab": {
     "base_uri": "https://localhost:8080/",
     "height": 206
    },
    "id": "UlBWPRTt1KgK",
    "outputId": "f4f57441-ed61-4f3e-e655-df0dd514c3b0"
   },
   "outputs": [
    {
     "data": {
      "text/html": [
       "<div>\n",
       "<style scoped>\n",
       "    .dataframe tbody tr th:only-of-type {\n",
       "        vertical-align: middle;\n",
       "    }\n",
       "\n",
       "    .dataframe tbody tr th {\n",
       "        vertical-align: top;\n",
       "    }\n",
       "\n",
       "    .dataframe thead th {\n",
       "        text-align: right;\n",
       "    }\n",
       "</style>\n",
       "<table border=\"1\" class=\"dataframe\">\n",
       "  <thead>\n",
       "    <tr style=\"text-align: right;\">\n",
       "      <th></th>\n",
       "      <th>Diplome</th>\n",
       "    </tr>\n",
       "  </thead>\n",
       "  <tbody>\n",
       "    <tr>\n",
       "      <th>0</th>\n",
       "      <td>Licence</td>\n",
       "    </tr>\n",
       "    <tr>\n",
       "      <th>1</th>\n",
       "      <td>Master</td>\n",
       "    </tr>\n",
       "    <tr>\n",
       "      <th>2</th>\n",
       "      <td>Doctorat</td>\n",
       "    </tr>\n",
       "    <tr>\n",
       "      <th>3</th>\n",
       "      <td>Phd</td>\n",
       "    </tr>\n",
       "    <tr>\n",
       "      <th>4</th>\n",
       "      <td>DEA</td>\n",
       "    </tr>\n",
       "  </tbody>\n",
       "</table>\n",
       "</div>"
      ],
      "text/plain": [
       "    Diplome\n",
       "0   Licence\n",
       "1    Master\n",
       "2  Doctorat\n",
       "3       Phd\n",
       "4       DEA"
      ]
     },
     "execution_count": 67,
     "metadata": {},
     "output_type": "execute_result"
    }
   ],
   "source": [
    "diplomes.head()"
   ]
  },
  {
   "cell_type": "code",
   "execution_count": 68,
   "metadata": {
    "colab": {
     "base_uri": "https://localhost:8080/"
    },
    "id": "-VueSRY61RyE",
    "outputId": "46ba7fff-45b9-46c2-b6d0-787b8f06cfb8"
   },
   "outputs": [
    {
     "name": "stdout",
     "output_type": "stream",
     "text": [
      "['MS', 'BUT', 'bac', 'CAPA', 'CAP', 'baccalauréat', 'MBA', 'DES']\n"
     ]
    }
   ],
   "source": [
    "# Extraire les diplomes présentes dans l'appel d'offre\n",
    "post_diplomes = []\n",
    "for diplome in diplomes_list:\n",
    "    if diplome.lower() in Script_Req.lower():\n",
    "        post_diplomes.append(diplome)\n",
    "post_diplomes = list(set(post_diplomes))\n",
    "print(post_diplomes)"
   ]
  },
  {
   "cell_type": "code",
   "execution_count": 69,
   "metadata": {
    "colab": {
     "base_uri": "https://localhost:8080/"
    },
    "id": "bgS4GDUl1RsQ",
    "outputId": "a5a16d31-88ee-408c-a860-e7425c4c6357"
   },
   "outputs": [
    {
     "name": "stdout",
     "output_type": "stream",
     "text": [
      "['AM', ' programmation', 'communication', 'gestion']\n"
     ]
    }
   ],
   "source": [
    "# Extraire les domaines présentes dans l'appel d'offre\n",
    "post_domaines = []\n",
    "for domaine in domaines_list:\n",
    "    if domaine.lower() in Script_Req:\n",
    "        post_domaines.append(domaine)\n",
    "post_domaines = list(set(post_domaines))\n",
    "print(post_domaines)"
   ]
  },
  {
   "cell_type": "markdown",
   "metadata": {
    "id": "uYih7P-Y6I2P"
   },
   "source": [
    "On affiche le contenu de chaque CV"
   ]
  },
  {
   "cell_type": "code",
   "execution_count": 70,
   "metadata": {
    "colab": {
     "base_uri": "https://localhost:8080/"
    },
    "id": "XDkUy9obqBzd",
    "outputId": "3ebbfec8-1853-46cc-98c9-e3c45ccb8f53"
   },
   "outputs": [
    {
     "name": "stdout",
     "output_type": "stream",
     "text": [
      "Contenu du fichier cv.pdf:\n",
      "www.ITjobs.ca\n",
      "Modèle de CV Développeur PHP\n",
      "Paul Bertrand\n",
      "4568, boulevard des Lilas\n",
      "Tél. : 514 000 0000\n",
      "Courriel : paulbertrand@webmail.ca\n",
      "Paul Bertrand\n",
      "Développeur PHP\n",
      "OBJECTIF\n",
      "Concevoir et développer des applications Internet, intranet, gérer les besoins réseaux et\n",
      "administrer des serveurs Linux.\n",
      "COMPÉTENCES\n",
      "Plus de trois ans d’expérience en analyse, conception et réalisation d’applications on-line, ainsi\n",
      "qu’en gestion réseaux et serveurs. Je maîtrise les outils de développement, de design et la\n",
      "maintenance de serveurs Linux Debian.\n",
      "EXPERIENCES PROFESSIONNELLES\n",
      " 2015 – à date : XXXXXXXXXXX\n",
      "Poste : Développeur PHP, MySQL, RealBasic, Flash\n",
      "Développement d'applications PHP, MySQL en ligne d'e-detailing, e-learning, webinar,\n",
      "web séminaire\n",
      "Administration et maintenance des serveurs Linux Debian\n",
      " 2015 – à date : XXXXXXXXXXX\n",
      "Création du magazine XXXXXXX\n",
      "Administration et maintenance des serveurs Linux Debian. Développements en PHP,\n",
      "MySQL, Flash de solutions vidéo et audio\n",
      "Développement en PHP, MySQL du site Internet (basé sur mambo)\n",
      "Création du magazine\n",
      "Copyright© 2017 les Carrières jobWings Tous droits réservés Encore plus de modèles sur www.CV.ca\n",
      "www.ITjobs.ca\n",
      " 2013 – à date : XXXXXXXXXXX\n",
      "Poste : Chef de projet / Développeur PHP MySQL / Administrateur réseau.\n",
      "Développements en PHP, MySQL de projet clients\n",
      "Administration parc informatique et serveurs d'hébergement sous Linux Debian\n",
      "Développement en PHP, MySQL du site Internet XXXXXXX\n",
      " 2011 - 2016 : XXXXXXXXXXX\n",
      "Poste : Chef de projet / Développeur / Administrateur\n",
      "Mise en place des différentes solutions techniques\n",
      "Administration du parc serveurs sous Linux Debian\n",
      "Développements en PHP, MySQL des frontends\n",
      "Création du service d'hébergement gratuit edeign.com\n",
      " 2010 - 2014 : XXXXXXXXXXX\n",
      "Poste : Webmaster développeur PHP/MySQL - graphiste / Opérateur serveur\n",
      "Création, mise en place, et gestion du pôle Web\n",
      "Réalisation de sites Internet en PHP, MySQL\n",
      "Migration des serveurs Web de WinNT4/Win2000 (IIS) vers Linux/GNU (LAMP)\n",
      "Administration et maintenance des serveurs Linux Debian\n",
      "Réalisation de l’intranet de la société en PHP, MySQL\n",
      "Réalisation du portail du provider sosconnexion.com (PHP, MySQL)\n",
      "Référencement Internet\n",
      " 2008 - 2009 : XXXXXXXXXXX\n",
      "Poste : Développeur multimédia on line/off line\n",
      "Développement de sites Internet en PHP, MySQL, Flash et de cd-rom (Lingo)\n",
      " 2007 – 2008 : XXXXXXXXXXX\n",
      "Poste : Développeur multimédia off line\n",
      "Développement de cd-rom pour la communication interne de l'entreprise\n",
      " 2006 : Stage de 6 mois à XXXXXXXXXXX\n",
      "Poste : Maintenance réseaux et parc informatique\n",
      "Copyright© 2017 les Carrières jobWings Tous droits réservés Encore plus de modèles sur www.CV.ca\n",
      "www.ITjobs.ca\n",
      "FORMATIONS - ÉTUDES\n",
      " 1995 -1998 : Baccalauréat en informatique à l’UQÀM\n",
      "LANGUES\n",
      " Bilingue français anglais (oral et écrit)\n",
      "LANGAGES INFORMATIQUES\n",
      " Web : PHP, HTML, CSS, SPIP, Javascript, référencement\n",
      " Systèmes d'exploitation : Windows (9X, NT, Me, 2000, XP), Dos, Linux (Mandrake), Mac\n",
      "OS\n",
      " Réseaux : Architecture, protocoles, maintenance, technologies PKI\n",
      " Programmation : C, C++, Pascal, Visual Basic, Corba, Java, environnement Delphi,\n",
      "modélisation UML\n",
      " Bases de données : SQL (MySQL), Access\n",
      " Logiciels : Adobe Photoshop, Illustrator, Macromedia Dreamweaver, MS Project, Suite\n",
      "Office\n",
      "LOISIRS\n",
      " Vélo, graphisme (création de logos, et création de visuels pour T-shirts)\n",
      " Développement du projet XXXXXXXXX, un lecteur de news online avec archivage. Ce\n",
      "projet est en cours de développement\n",
      " Développement d'applications pour Mac OS X. (free/donationware)\n",
      "Copyright© 2017 les Carrières jobWings Tous droits réservés Encore plus de modèles sur www.CV.ca\n",
      "----------------------------------------\n",
      "Contenu du fichier cv_aude.pdf:\n",
      "PROFIL\n",
      "Licenciée en Systèmes Réseaux\n",
      "Informatiques et Télécommunications\n",
      "(SRIT) et certifiée UX/UI Designer, je suis à\n",
      "la recherche d’un stage en UX/UI Design.\n",
      "Autodidacte et passionnée par le design,\n",
      "je suis. Pour moi, apprendre auprès de\n",
      "CAMARA MAHOUA AUDE\n",
      "votre structure serait un véritable honneur.\n",
      "AYMONE PRISCILLE\n",
      "FORMATION\n",
      "Née le 19/10/2002\n",
      "COORDONNEES • 2022 Formation de l’ONG Femmes et\n",
      "TIC dans le cadre du\n",
      "Email\n",
      "programme DCLIC de\n",
      "priscillecam@gmail.com\n",
      "l’Organisation Internationale de\n",
      "LinkedIn\n",
      "la Francophonie\n",
      "Mahoua Aude Camara\n",
      "Formation en UX/UI design\n",
      "Contacts\n",
      "0102244580/0788325534\n",
      "• Depuis ESATIC\n",
      "2020 Licence en SRIT\n",
      "EXPERIENCE\n",
      "ESATIC\n",
      "Participante d’un projet • 2020\n",
      "2023-2022 Certification ICDL Essentiel sur\n",
      "estudiantin portant sur la\n",
      "l’ordinateur et le web/ Essentiel\n",
      "digitalisation de la gestion\n",
      "sur les applications\n",
      "des parkings dans la\n",
      "bureautiques\n",
      "communes du Plateau;\n",
      "2021-2022 Formatrice à la section LYCEE MUNICIPAL SIMONE EHIVET\n",
      "• 2019 à\n",
      "domotique du club GBAGBO\n",
      "2020\n",
      "informatique de l’ESATIC ; BAC C\n",
      "2021-2022 Chef de projet école portant\n",
      "Coding Bootcamp 2018\n",
      "sur le tourisme 2.0 ;\n",
      "• 2018 Certification Greenfoot et Alice\n",
      "Chef de projet estudiantin\n",
      "COMPETENCES\n",
      "2020-2021 portant sur la réalisation d’un\n",
      "système d’aide à la santé.\n",
      "Word/PowerPoint\n",
      "Figma/Adobe xd\n",
      "LANGUES\n",
      "Illustrator/Photoshop\n",
      "Français Anglais Mandarin\n",
      "Python 3.0, PHP, JS\n",
      "Html 3.0/CSS 5.0\n",
      "----------------------------------------\n",
      "Contenu du fichier cv_sam.pdf:\n",
      "PROFIL\n",
      "YAO SAMUEL\n",
      "Étudiant en 3ème année de licence en\n",
      "Né le 02/04/2002 systèmes réseaux informatiques et\n",
      "télécommunications. Créatif, passionné d’\n",
      "intelligence artificielle et d’électronique, j'ai\n",
      "toujours eu le goût pour l'apprentissage .\n",
      "COORDONEES\n",
      "COORDONEES\n",
      "FORMATION\n",
      "01 40957145\n",
      "Treichville Avenue 21 Rue 15\n",
      " Depuis 2020\n",
      "Samuelyao107@gmail.com\n",
      "Licence en Systèmes Réseaux\n",
      "Informatiques et Télécommunications à\n",
      "ESATIC\n",
      "COMPETENCE\n",
      " 2021-2022\n",
      "S\n",
      "Certification Développement web\n",
      "PYTHON  2020-2021\n",
      "ANGLAIS\n",
      "Certifié ICDL (International Certification\n",
      "of Digital Literacy)\n",
      "Raspberry Pi\n",
      " 2019-2020\n",
      "Obtention du BAC C au Lycée Moderne\n",
      "de Soubré\n",
      "ARDPYUTINHOO N\n",
      "EXPERIENCE\n",
      "MACHINE LEARNING\n",
      " Réalisation d’une application\n",
      "ARDUINO utilisant la vision par ordinateur\n",
      "ANACONDA\n",
      "pour la réconnaissance de\n",
      "monuments ivoiriens\n",
      " Réalisation d’une application de\n",
      "parking intelligent utilisant la\n",
      "ANGLAIS\n",
      "ANALYSE DE DONNEES vision par ordinateur pour la\n",
      "réconnaissance des plaques\n",
      "d’immatriculation.\n",
      "\n",
      "----------------------------------------\n"
     ]
    }
   ],
   "source": [
    "data_dir = './data/CV'\n",
    "\n",
    "# Vérifier si le dossier existe\n",
    "if os.path.exists(data_dir):\n",
    "    # Liste des fichiers dans le répertoire\n",
    "    files = [f for f in os.listdir(data_dir) if os.path.isfile(os.path.join(data_dir, f))]\n",
    "    \n",
    "    # Parcourir les fichiers\n",
    "    for file in files:\n",
    "        # Chemin d'accès complet du fichier\n",
    "        file_path = os.path.join(data_dir, file)\n",
    "        \n",
    "        # Vérifier si le fichier est un PDF\n",
    "        if file.lower().endswith('.pdf'):\n",
    "            # Ouvrir le fichier PDF\n",
    "            with open(file_path, 'rb') as CV_File:\n",
    "                Script = PyPDF2.PdfFileReader(CV_File)\n",
    "                pages = len(Script.pages)\n",
    "                text_list = []\n",
    "                \n",
    "                # Extraire le texte de chaque page du PDF\n",
    "                with pdfplumber.open(CV_File) as pdf:\n",
    "                    for i in range(pages):\n",
    "                        page = pdf.pages[i]\n",
    "                        text = page.extract_text()\n",
    "                        text_list.append(text)\n",
    "                \n",
    "                # Afficher le texte extrait\n",
    "                print(f\"Contenu du fichier {file}:\")\n",
    "                for text in text_list:\n",
    "                    print(text)\n",
    "                print('-' * 40)\n",
    "        else:\n",
    "            print(f\"Le fichier {file} n'est pas un fichier PDF.\")\n",
    "else:\n",
    "    print(\"Le dossier spécifié n'existe pas.\")\n"
   ]
  },
  {
   "cell_type": "markdown",
   "metadata": {
    "id": "AfCKsZxx6P3I"
   },
   "source": [
    "On effectue le matching de chaque CV avec la fiche de description de poste et on génère un classement décroissant de ces CV en fonction de leur score"
   ]
  },
  {
   "cell_type": "code",
   "execution_count": 71,
   "metadata": {
    "colab": {
     "base_uri": "https://localhost:8080/"
    },
    "id": "gdfpzW4twdQy",
    "outputId": "319eb85d-2697-49af-b8ef-0d0fa8a89c2a"
   },
   "outputs": [
    {
     "name": "stderr",
     "output_type": "stream",
     "text": [
      "[nltk_data] Downloading package punkt to\n",
      "[nltk_data]     /home/morningstar/nltk_data...\n",
      "[nltk_data]   Package punkt is already up-to-date!\n",
      "[nltk_data] Downloading package stopwords to\n",
      "[nltk_data]     /home/morningstar/nltk_data...\n",
      "[nltk_data]   Package stopwords is already up-to-date!\n"
     ]
    },
    {
     "name": "stdout",
     "output_type": "stream",
     "text": [
      "Contenu du fichier cv.pdf:\n",
      "www.ITjobs.ca Modèle CV Développeur PHP Paul Bertrand 4568 , boulevard Lilas Tél . : 514 000 0000 Courriel : paulbertrand @ webmail.ca Paul Bertrand Développeur PHP OBJECTIF Concevoir développer applications Internet , intranet , gérer besoins réseaux administrer serveurs Linux . COMPÉTENCES Plus trois ans ’ expérience analyse , conception réalisation ’ applications on-line , ainsi ’ gestion réseaux serveurs . Je maîtrise outils développement , design maintenance serveurs Linux Debian . EXPERIENCES PROFESSIONNELLES  2015 – date : XXXXXXXXXXX Poste : Développeur PHP , MySQL , RealBasic , Flash Développement d'applications PHP , MySQL ligne ' e-detailing , e-learning , webinar , web séminaire Administration maintenance serveurs Linux Debian  2015 – date : XXXXXXXXXXX Création magazine XXXXXXX Administration maintenance serveurs Linux Debian . Développements PHP , MySQL , Flash solutions vidéo audio Développement PHP , MySQL site Internet ( basé mambo ) Création magazine Copyright© 2017 Carrières jobWings Tous droits réservés Encore plus modèles www.CV.ca www.ITjobs.ca  2013 – date : XXXXXXXXXXX Poste : Chef projet / Développeur PHP MySQL / Administrateur réseau . Développements PHP , MySQL projet clients Administration parc informatique serveurs d'hébergement sous Linux Debian Développement PHP , MySQL site Internet XXXXXXX  2011 - 2016 : XXXXXXXXXXX Poste : Chef projet / Développeur / Administrateur Mise place différentes solutions techniques Administration parc serveurs sous Linux Debian Développements PHP , MySQL frontends Création service d'hébergement gratuit edeign.com  2010 - 2014 : XXXXXXXXXXX Poste : Webmaster développeur PHP/MySQL - graphiste / Opérateur serveur Création , mise place , gestion pôle Web Réalisation sites Internet PHP , MySQL Migration serveurs Web WinNT4/Win2000 ( IIS ) vers Linux/GNU ( LAMP ) Administration maintenance serveurs Linux Debian Réalisation ’ intranet société PHP , MySQL Réalisation portail provider sosconnexion.com ( PHP , MySQL ) Référencement Internet  2008 - 2009 : XXXXXXXXXXX Poste : Développeur multimédia line/off line Développement sites Internet PHP , MySQL , Flash cd-rom ( Lingo )  2007 – 2008 : XXXXXXXXXXX Poste : Développeur multimédia off line Développement cd-rom communication interne l'entreprise  2006 : Stage 6 mois XXXXXXXXXXX Poste : Maintenance réseaux parc informatique Copyright© 2017 Carrières jobWings Tous droits réservés Encore plus modèles www.CV.ca www.ITjobs.ca FORMATIONS - ÉTUDES  1995 -1998 : Baccalauréat informatique ’ UQÀM LANGUES  Bilingue français anglais ( oral écrit ) LANGAGES INFORMATIQUES  Web : PHP , HTML , CSS , SPIP , Javascript , référencement  Systèmes d'exploitation : Windows ( 9X , NT , Me , 2000 , XP ) , Dos , Linux ( Mandrake ) , Mac OS  Réseaux : Architecture , protocoles , maintenance , technologies PKI  Programmation : C , C++ , Pascal , Visual Basic , Corba , Java , environnement Delphi , modélisation UML  Bases données : SQL ( MySQL ) , Access  Logiciels : Adobe Photoshop , Illustrator , Macromedia Dreamweaver , MS Project , Suite Office LOISIRS  Vélo , graphisme ( création logos , création visuels T-shirts )  Développement projet XXXXXXXXX , lecteur news online archivage . Ce projet cours développement  Développement d'applications Mac OS X . ( free/donationware ) Copyright© 2017 Carrières jobWings Tous droits réservés Encore plus modèles www.CV.ca\n",
      "Compétences présentes : ['frontend', 'debian', 'conception', 'sql', 'php', 'html', 'css', 'mina', 'javascript', 'linux', 'c', 'chef', 'concevoir', 'serveur', 'mysql', 'ava', 'java', 'r', 'modélisation', 'multimédia', 'f', 'entreprise', 'logiciel', 'cli']\n",
      "Diplômes présents : ['MS', 'bac', 'baccalauréat', 'DES', 'Master']\n",
      "Domaines présents : ['AM', ' programmation', 'gestion', 'communication', 'Droit']\n",
      "Similarité des domaines : 100.0\n",
      "Similarité des diplômes : 56.25\n",
      "Similarité des compétences : 57.8125\n",
      "Le score de ce CV est : 71.35416666666667\n",
      "----------------------------------------\n"
     ]
    },
    {
     "name": "stderr",
     "output_type": "stream",
     "text": [
      "[nltk_data] Downloading package punkt to\n",
      "[nltk_data]     /home/morningstar/nltk_data...\n",
      "[nltk_data]   Package punkt is already up-to-date!\n",
      "[nltk_data] Downloading package stopwords to\n",
      "[nltk_data]     /home/morningstar/nltk_data...\n",
      "[nltk_data]   Package stopwords is already up-to-date!\n"
     ]
    },
    {
     "name": "stdout",
     "output_type": "stream",
     "text": [
      "Contenu du fichier cv_aude.pdf:\n",
      "PROFIL Licenciée Systèmes Réseaux Informatiques Télécommunications ( SRIT ) certifiée UX/UI Designer , recherche ’ stage UX/UI Design . Autodidacte passionnée design , . Pour , apprendre auprès CAMARA MAHOUA AUDE structure véritable honneur . AYMONE PRISCILLE FORMATION Née 19/10/2002 COORDONNEES • 2022 Formation ’ ONG Femmes TIC cadre Email programme DCLIC priscillecam @ gmail.com ’ Organisation Internationale LinkedIn Francophonie Mahoua Aude Camara Formation UX/UI design Contacts 0102244580/0788325534 • Depuis ESATIC 2020 Licence SRIT EXPERIENCE ESATIC Participante ’ projet • 2020 2023-2022 Certification ICDL Essentiel estudiantin portant ’ ordinateur web/ Essentiel digitalisation gestion applications parkings bureautiques communes Plateau ; 2021-2022 Formatrice section LYCEE MUNICIPAL SIMONE EHIVET • 2019 domotique club GBAGBO 2020 informatique ’ ESATIC ; BAC C 2021-2022 Chef projet école portant Coding Bootcamp 2018 tourisme 2.0 ; • 2018 Certification Greenfoot Alice Chef projet estudiantin COMPETENCES 2020-2021 portant réalisation ’ système ’ aide santé . Word/PowerPoint Figma/Adobe xd LANGUES Illustrator/Photoshop Français Anglais Mandarin Python 3.0 , PHP , JS Html 3.0/CSS 5.0\n",
      "Compétences présentes : ['f', 'css', 'python', 'fil', 'c', 'point', 'tour', 'figma', 'cli', 'chef', 'r', 'git', 'php', 'html', 'communications']\n",
      "Diplômes présents : ['Licence', 'DES', 'bac']\n",
      "Domaines présents : ['AM', 'communication', 'gestion']\n",
      "Similarité des domaines : 75.0\n",
      "Similarité des diplômes : 25.0\n",
      "Similarité des compétences : 35.9375\n",
      "Le score de ce CV est : 45.3125\n",
      "----------------------------------------\n"
     ]
    },
    {
     "name": "stderr",
     "output_type": "stream",
     "text": [
      "[nltk_data] Downloading package punkt to\n",
      "[nltk_data]     /home/morningstar/nltk_data...\n",
      "[nltk_data]   Package punkt is already up-to-date!\n",
      "[nltk_data] Downloading package stopwords to\n",
      "[nltk_data]     /home/morningstar/nltk_data...\n",
      "[nltk_data]   Package stopwords is already up-to-date!\n"
     ]
    },
    {
     "name": "stdout",
     "output_type": "stream",
     "text": [
      "Contenu du fichier cv_sam.pdf:\n",
      "PROFIL YAO SAMUEL Étudiant 3ème année licence Né 02/04/2002 systèmes réseaux informatiques télécommunications . Créatif , passionné ’ intelligence artificielle ’ électronique , j'ai toujours goût l'apprentissage . COORDONEES COORDONEES FORMATION 01 40957145 Treichville Avenue 21 Rue 15  Depuis 2020 Samuelyao107 @ gmail.com Licence Systèmes Réseaux Informatiques Télécommunications ESATIC COMPETENCE  2021-2022 S Certification Développement web PYTHON  2020-2021 ANGLAIS Certifié ICDL ( International Certification of Digital Literacy ) Raspberry Pi  2019-2020 Obtention BAC C Lycée Moderne Soubré ARDPYUTINHOO N EXPERIENCE MACHINE LEARNING  Réalisation ’ application ARDUINO utilisant vision ordinateur ANACONDA réconnaissance monuments ivoiriens  Réalisation ’ application parking intelligent utilisant ANGLAIS ANALYSE DE DONNEES vision ordinateur réconnaissance plaques ’ immatriculation .\n",
      "Compétences présentes : ['f', 'python', 'développement web', 'fil', 'c', 'électron', 'intelligence artificielle', 'r', 'git', 'arduino', 'communications']\n",
      "Diplômes présents : ['Licence', 'bac']\n",
      "Domaines présents : ['AM', ' développement web', 'communication', 'SAM', ' intelligence artificielle']\n",
      "Similarité des domaines : 62.5\n",
      "Similarité des diplômes : 12.5\n",
      "Similarité des compétences : 26.5625\n",
      "Le score de ce CV est : 33.854166666666664\n",
      "----------------------------------------\n",
      "Classement des CV est le suivant:\n",
      "1. cv.pdf | Score : 71.35416666666667\n",
      "2. cv_aude.pdf | Score : 45.3125\n",
      "3. cv_sam.pdf | Score : 33.854166666666664\n"
     ]
    }
   ],
   "source": [
    "data_dir = './data/CV'\n",
    "\n",
    "# Vérifier si le dossier existe\n",
    "if os.path.exists(data_dir):\n",
    "    # Liste des fichiers dans le répertoire\n",
    "    files = [f for f in os.listdir(data_dir) if os.path.isfile(os.path.join(data_dir, f))]\n",
    "    \n",
    "    # Dictionnaire pour stocker les scores\n",
    "    scores_dict = {}\n",
    "    \n",
    "    # Parcourir les fichiers\n",
    "    for file in files:\n",
    "        # Chemin d'accès complet du fichier\n",
    "        file_path = os.path.join(data_dir, file)\n",
    "        \n",
    "        # Vérifier si le fichier est un PDF\n",
    "        if file.lower().endswith('.pdf'):\n",
    "            # Ouvrir le fichier PDF\n",
    "            with open(file_path, 'rb') as CV_File:\n",
    "                Script = PyPDF2.PdfFileReader(CV_File)\n",
    "                pages = len(Script.pages)\n",
    "                text_list = []\n",
    "                \n",
    "                # Extraire le texte de chaque page du PDF\n",
    "                with pdfplumber.open(CV_File) as pdf:\n",
    "                    for i in range(pages):\n",
    "                        page = pdf.pages[i]\n",
    "                        text = page.extract_text()\n",
    "                        text_list.append(text)\n",
    "                \n",
    "                # Convertir la liste de textes en une seule chaîne de caractères\n",
    "                Script = ' '.join(text_list)\n",
    "                \n",
    "                # Appliquer le traitement NLP\n",
    "                nltk.download('punkt')\n",
    "                nltk.download('stopwords')\n",
    "                \n",
    "                text_tokens = word_tokenize(Script)\n",
    "                \n",
    "                tokens_without_sw = [word for word in text_tokens if not word in stopwords.words('french')]\n",
    "                \n",
    "                Script = ' '.join(tokens_without_sw)\n",
    "\n",
    "                \n",
    "                # Afficher le résultat\n",
    "                print(f\"Contenu du fichier {file}:\")\n",
    "                print(Script)\n",
    "                \n",
    "                # Extraire les compétences présentes dans le CV\n",
    "                present_skills = []\n",
    "                for skill in skills_list:\n",
    "                    if skill.lower() in Script.lower():\n",
    "                        present_skills.append(skill)\n",
    "                present_skills = list(set(present_skills))\n",
    "                \n",
    "                # Afficher les compétences présentes\n",
    "                print(\"Compétences présentes :\", present_skills)\n",
    "\n",
    "                # Extraire les diplômes présents dans le CV\n",
    "                present_diplomes = []\n",
    "                for diplome in diplomes_list:\n",
    "                    if diplome.lower() in Script.lower():\n",
    "                        present_diplomes.append(diplome)\n",
    "                present_diplomes = list(set(present_diplomes))\n",
    "                \n",
    "                # Afficher les diplômes présents\n",
    "                print(\"Diplômes présents :\", present_diplomes)\n",
    "                \n",
    "\n",
    "                # Extraire les domaines présents dans le CV\n",
    "                present_domaines = []\n",
    "                for domaine in domaines_list:\n",
    "                    if domaine.lower() in Script.lower():\n",
    "                        present_domaines.append(domaine)\n",
    "                present_domaines = list(set(present_domaines))\n",
    "\n",
    "                # Afficher les domaines présents\n",
    "                print(\"Domaines présents :\", present_domaines)\n",
    "                \n",
    "                # Calculer les similarités entre les compétences, diplômes et domaines\n",
    "                skills_similarity = Similarity(present_skills, post_skills)\n",
    "                diplomes_similarity = Similarity(present_diplomes, post_diplomes)\n",
    "                domaines_similarity = Similarity(present_domaines, post_domaines)\n",
    "\n",
    "                 # Afficher les similarités\n",
    "                print(\"Similarité des domaines :\", domaines_similarity)\n",
    "                print(\"Similarité des diplômes :\", diplomes_similarity)\n",
    "                print(\"Similarité des compétences :\", skills_similarity)\n",
    "                \n",
    "                \n",
    "                # Calculer le score final\n",
    "                score_final = (domaines_similarity + diplomes_similarity + skills_similarity) / 3\n",
    "\n",
    "                # Afficher le score final\n",
    "                print(\"Le score de ce CV est :\", score_final)\n",
    "                \n",
    "                print('-' * 40)\n",
    "\n",
    "                # Stocker le score dans le dictionnaire\n",
    "                scores_dict[file] = score_final\n",
    "                \n",
    "    # Trier le dictionnaire des scores par ordre décroissant des valeurs\n",
    "    sorted_scores = {k: v for k, v in sorted(scores_dict.items(), key=lambda item: item[1], reverse=True)}\n",
    "    # Afficher le classement\n",
    "    print(\"Classement des CV est le suivant:\")\n",
    "    for index, (file, score) in enumerate(sorted_scores.items(), 1):\n",
    "        print(f\"{index}. {file} | Score : {score}\")"
   ]
  },
  {
   "cell_type": "code",
   "execution_count": null,
   "metadata": {},
   "outputs": [],
   "source": []
  }
 ],
 "metadata": {
  "colab": {
   "provenance": []
  },
  "kernelspec": {
   "display_name": "Python 3 (ipykernel)",
   "language": "python",
   "name": "python3"
  },
  "language_info": {
   "codemirror_mode": {
    "name": "ipython",
    "version": 3
   },
   "file_extension": ".py",
   "mimetype": "text/x-python",
   "name": "python",
   "nbconvert_exporter": "python",
   "pygments_lexer": "ipython3",
   "version": "3.9.2"
  }
 },
 "nbformat": 4,
 "nbformat_minor": 1
}
